{
 "cells": [
  {
   "cell_type": "code",
   "execution_count": 183,
   "metadata": {
    "collapsed": true,
    "pycharm": {
     "name": "#%%\n"
    }
   },
   "outputs": [
    {
     "data": {
      "text/plain": "          Date   Time Mass (kg) Velocity (m/s)     Energy\n0   2019-01-01  09:00       194            8.4    6.84432\n1   2019-01-01  09:00        38           45.4   39.16204\n2   2019-01-01  21:00       224            8.8    8.67328\n3   2019-01-02  14:00      3104            9.2  131.36128\n4   2019-01-03  06:00       187           41.6  161.80736\n..         ...    ...       ...            ...        ...\n95  2019-03-25  14:00        63           43.2   58.78656\n96  2019-03-26  00:00        44            8.9    1.74262\n97  2019-03-26  06:00        45            8.4     1.5876\n98  2019-03-27  16:00       312            5.8    5.24784\n99  2019-03-28  01:00        58           37.2   40.13136\n\n[100 rows x 5 columns]",
      "text/html": "<div>\n<style scoped>\n    .dataframe tbody tr th:only-of-type {\n        vertical-align: middle;\n    }\n\n    .dataframe tbody tr th {\n        vertical-align: top;\n    }\n\n    .dataframe thead th {\n        text-align: right;\n    }\n</style>\n<table border=\"1\" class=\"dataframe\">\n  <thead>\n    <tr style=\"text-align: right;\">\n      <th></th>\n      <th>Date</th>\n      <th>Time</th>\n      <th>Mass (kg)</th>\n      <th>Velocity (m/s)</th>\n      <th>Energy</th>\n    </tr>\n  </thead>\n  <tbody>\n    <tr>\n      <th>0</th>\n      <td>2019-01-01</td>\n      <td>09:00</td>\n      <td>194</td>\n      <td>8.4</td>\n      <td>6.84432</td>\n    </tr>\n    <tr>\n      <th>1</th>\n      <td>2019-01-01</td>\n      <td>09:00</td>\n      <td>38</td>\n      <td>45.4</td>\n      <td>39.16204</td>\n    </tr>\n    <tr>\n      <th>2</th>\n      <td>2019-01-01</td>\n      <td>21:00</td>\n      <td>224</td>\n      <td>8.8</td>\n      <td>8.67328</td>\n    </tr>\n    <tr>\n      <th>3</th>\n      <td>2019-01-02</td>\n      <td>14:00</td>\n      <td>3104</td>\n      <td>9.2</td>\n      <td>131.36128</td>\n    </tr>\n    <tr>\n      <th>4</th>\n      <td>2019-01-03</td>\n      <td>06:00</td>\n      <td>187</td>\n      <td>41.6</td>\n      <td>161.80736</td>\n    </tr>\n    <tr>\n      <th>...</th>\n      <td>...</td>\n      <td>...</td>\n      <td>...</td>\n      <td>...</td>\n      <td>...</td>\n    </tr>\n    <tr>\n      <th>95</th>\n      <td>2019-03-25</td>\n      <td>14:00</td>\n      <td>63</td>\n      <td>43.2</td>\n      <td>58.78656</td>\n    </tr>\n    <tr>\n      <th>96</th>\n      <td>2019-03-26</td>\n      <td>00:00</td>\n      <td>44</td>\n      <td>8.9</td>\n      <td>1.74262</td>\n    </tr>\n    <tr>\n      <th>97</th>\n      <td>2019-03-26</td>\n      <td>06:00</td>\n      <td>45</td>\n      <td>8.4</td>\n      <td>1.5876</td>\n    </tr>\n    <tr>\n      <th>98</th>\n      <td>2019-03-27</td>\n      <td>16:00</td>\n      <td>312</td>\n      <td>5.8</td>\n      <td>5.24784</td>\n    </tr>\n    <tr>\n      <th>99</th>\n      <td>2019-03-28</td>\n      <td>01:00</td>\n      <td>58</td>\n      <td>37.2</td>\n      <td>40.13136</td>\n    </tr>\n  </tbody>\n</table>\n<p>100 rows × 5 columns</p>\n</div>"
     },
     "execution_count": 183,
     "metadata": {},
     "output_type": "execute_result"
    }
   ],
   "source": [
    "import pandas as pd\n",
    "directory = \"C:/Users/logan/Desktop/FHNW/cwm1/out_1_2.csv\"\n",
    "df = pd.read_csv(directory, sep =\";\")\n",
    "df = df.iloc[1:,:4]\n",
    "df.columns = [\"Date\", \"Time\", \"Mass (kg)\", \"Velocity (m/s)\"]\n",
    "df_energy = pd.DataFrame()\n",
    "df.insert(4, \"Energy\", \"\")\n",
    "for i in range(len(df)):\n",
    "    df.iloc[i,4] = 0.5 * float(df.iloc[i,2]) * float(df.iloc[i,3]) ** 2 / 1000\n",
    "df = df.sort_values(['Date', 'Time']).reset_index(drop=True)\n",
    "df"
   ]
  },
  {
   "cell_type": "code",
   "execution_count": 294,
   "outputs": [],
   "source": [
    "slotboard = []\n",
    "for i in range(1,4):\n",
    "    for j in range(1,32):\n",
    "        slot = []\n",
    "        if j == 9:\n",
    "            date1 = \"2019-0\"+str(i)+\"-0\"+str(j)\n",
    "            date2 = \"2019-0\"+str(i)+\"-10\"\n",
    "        elif j >= 10:\n",
    "            date1 = \"2019-0\"+str(i)+\"-\"+str(j)\n",
    "            date2 = \"2019-0\"+str(i)+\"-\"+str(j+1)\n",
    "        elif j < 9:\n",
    "            date1 = \"2019-0\"+str(i)+\"-0\"+str(j)\n",
    "            date2 = \"2019-0\"+str(i)+\"-0\"+str(j+1)\n",
    "\n",
    "\n",
    "        df_temp = df[df['Date'].str.match(date1)]\n",
    "        df_temp2 = df[df['Date'].str.match(date2)]\n",
    "\n",
    "        for x in range(len(df_temp)):\n",
    "            timee = df_temp.iloc[x,1]\n",
    "            timee = int(timee[0:2])\n",
    "            if timee > 8:\n",
    "                slot.append(df_temp.iloc[x,:])\n",
    "\n",
    "\n",
    "        for x in range(len(df_temp2)):\n",
    "            timee = df_temp2.iloc[x,1]\n",
    "            timee = int(timee[0:2])\n",
    "            if timee <= 8:\n",
    "                slot.append(df_temp2.iloc[x,:])\n",
    "\n",
    "\n",
    "        slotboard.append(slot)\n",
    "\n",
    "total = 0\n",
    "#for i in range(len(slotboard)):\n",
    " #   if len(slotboard[i]) != 0:\n",
    "  #      for j in range(len(slotboard[i])):\n",
    "   #         total += 1\n",
    "    #        print(slotboard[i][j][\"Date\"])\n",
    "    #        if slotboard[i][j][\"Date\"] == \"2019-02-10\":\n",
    "     #           print(\"hoi\")\n",
    "#    print(\"------------------------------\")\n",
    "\n",
    "#print(total)"
   ],
   "metadata": {
    "collapsed": false,
    "pycharm": {
     "name": "#%%\n"
    }
   }
  },
  {
   "cell_type": "code",
   "execution_count": 358,
   "outputs": [
    {
     "name": "stdout",
     "output_type": "stream",
     "text": [
      "[]\n"
     ]
    }
   ],
   "source": [
    "incident = []\n",
    "for i in range(len(slotboard)):\n",
    "    netz = 1\n",
    "    weight = 0\n",
    "    zwischenfall = []\n",
    "    for j in range(len(slotboard[i])):\n",
    "        if netz == 0:\n",
    "            zwischenfall.append(slotboard[i][j])\n",
    "        elif weight > 2000:\n",
    "            if slotboard[i][j][\"Energy\"] >= 500:\n",
    "                netz = 0\n",
    "                zwischenfall.append(slotboard[i][j])\n",
    "        elif slotboard[i][j][\"Energy\"] >= 1000:\n",
    "            netz = 0\n",
    "            zwischenfall.append(slotboard[i][j])\n",
    "        weight = weight + int(slotboard[i][j][\"Mass (kg)\"])\n",
    "\n",
    "    if len(zwischenfall) != 0:\n",
    "        incident.append(zwischenfall)\n",
    "print(incident)"
   ],
   "metadata": {
    "collapsed": false,
    "pycharm": {
     "name": "#%%\n"
    }
   }
  },
  {
   "cell_type": "code",
   "execution_count": 300,
   "metadata": {
    "pycharm": {
     "name": "#%%\n"
    }
   },
   "outputs": [
    {
     "name": "stdout",
     "output_type": "stream",
     "text": [
      "Date              2019-01-01\n",
      "Time                   09:00\n",
      "Mass (kg)                194\n",
      "Velocity (m/s)           8.4\n",
      "Energy               6.84432\n",
      "Name: 0, dtype: object\n",
      "\n",
      "Date              2019-01-01\n",
      "Time                   09:00\n",
      "Mass (kg)                 38\n",
      "Velocity (m/s)          45.4\n",
      "Energy              39.16204\n",
      "Name: 1, dtype: object\n",
      "\n",
      "Date              2019-01-01\n",
      "Time                   21:00\n",
      "Mass (kg)                224\n",
      "Velocity (m/s)           8.8\n",
      "Energy               8.67328\n",
      "Name: 2, dtype: object\n",
      "\n",
      "194 38 224\n"
     ]
    }
   ],
   "source": [
    "print(slotboard[0][0])\n",
    "print()\n",
    "print(slotboard[0][1])\n",
    "print()\n",
    "print(slotboard[0][2])\n",
    "print()\n",
    "print(slotboard[0][0][\"Mass (kg)\"],slotboard[0][1][\"Mass (kg)\"],slotboard[0][2][\"Mass (kg)\"])"
   ]
  }
 ],
 "metadata": {
  "kernelspec": {
   "display_name": "Python 3 (ipykernel)",
   "language": "python",
   "name": "python3"
  },
  "language_info": {
   "codemirror_mode": {
    "name": "ipython",
    "version": 3
   },
   "file_extension": ".py",
   "mimetype": "text/x-python",
   "name": "python",
   "nbconvert_exporter": "python",
   "pygments_lexer": "ipython3",
   "version": "3.10.0"
  }
 },
 "nbformat": 4,
 "nbformat_minor": 1
}