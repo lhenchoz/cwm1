{
 "cells": [
  {
   "cell_type": "code",
   "execution_count": 177,
   "metadata": {
    "collapsed": true,
    "pycharm": {
     "name": "#%%\n"
    }
   },
   "outputs": [],
   "source": [
    "import matplotlib.pyplot as plt\n",
    "#Dataset is imported and passed to df dataframe\n",
    "import pandas as pd\n",
    "import seaborn as sns\n",
    "\n",
    "def open_csv_to_df(directory):\n",
    "    df = pd.read_csv(directory)\n",
    "    df = df.iloc[0:,:4]\n",
    "    df.columns = [\"Date\", \"Time\", \"Mass (kg)\", \"Velocity (m/s)\"]\n",
    "    #df_energy = pd.DataFrame()\n",
    "    df.insert(4, \"Energy\", \"\")\n",
    "    for i in range(len(df)):\n",
    "        df.iloc[i,4] = 0.5 * float(df.iloc[i,2]) * float(df.iloc[i,3]) ** 2 / 1000 #calculation of Energy\n",
    "    df = df.sort_values(['Date', 'Time']).reset_index(drop=True)\n",
    "    df = df.dropna()\n",
    "    return df #this is the table with all stones combined\n"
   ]
  },
  {
   "cell_type": "code",
   "execution_count": 178,
   "outputs": [],
   "source": [
    "df1 = open_csv_to_df(\"C:/Users/logan/Desktop/FHNW/cwm1/out_1.csv\")\n",
    "df2 = open_csv_to_df(\"C:/Users/logan/Desktop/FHNW/cwm1/out_2.csv\")\n",
    "df = open_csv_to_df(\"C:/Users/logan/Desktop/FHNW/cwm1/out_2.csv\")\n",
    "\n"
   ],
   "metadata": {
    "collapsed": false,
    "pycharm": {
     "name": "#%%\n"
    }
   }
  },
  {
   "cell_type": "code",
   "execution_count": 179,
   "outputs": [
    {
     "name": "stdout",
     "output_type": "stream",
     "text": [
      "Date              2019-01-01\n",
      "Time                   09:00\n",
      "Mass (kg)               38.0\n",
      "Velocity (m/s)          45.4\n",
      "Energy              39.16204\n",
      "Name: 0, dtype: object\n",
      "--------------------------------------\n",
      "Date              2019-01-03\n",
      "Time                   06:00\n",
      "Mass (kg)              187.0\n",
      "Velocity (m/s)          41.6\n",
      "Energy             161.80736\n",
      "Name: 1, dtype: object\n",
      "--------------------------------------\n",
      "--------------------------------------\n",
      "Date              2019-01-04\n",
      "Time                   10:00\n",
      "Mass (kg)               36.0\n",
      "Velocity (m/s)          44.6\n",
      "Energy              35.80488\n",
      "Name: 2, dtype: object\n",
      "--------------------------------------\n",
      "--------------------------------------\n",
      "--------------------------------------\n",
      "Date              2019-01-07\n",
      "Time                   14:00\n",
      "Mass (kg)                6.0\n",
      "Velocity (m/s)          41.2\n",
      "Energy               5.09232\n",
      "Name: 3, dtype: object\n",
      "--------------------------------------\n",
      "--------------------------------------\n",
      "--------------------------------------\n",
      "Date              2019-01-11\n",
      "Time                   06:00\n",
      "Mass (kg)               65.0\n",
      "Velocity (m/s)          39.6\n",
      "Energy               50.9652\n",
      "Name: 4, dtype: object\n",
      "--------------------------------------\n",
      "Date              2019-01-11\n",
      "Time                   16:00\n",
      "Mass (kg)               58.0\n",
      "Velocity (m/s)          33.2\n",
      "Energy              31.96496\n",
      "Name: 5, dtype: object\n",
      "--------------------------------------\n",
      "--------------------------------------\n",
      "--------------------------------------\n",
      "Date              2019-01-14\n",
      "Time                   11:00\n",
      "Mass (kg)              365.0\n",
      "Velocity (m/s)          40.2\n",
      "Energy              294.9273\n",
      "Name: 6, dtype: object\n",
      "--------------------------------------\n",
      "Date              2019-01-16\n",
      "Time                   02:00\n",
      "Mass (kg)               22.0\n",
      "Velocity (m/s)          46.5\n",
      "Energy              23.78475\n",
      "Name: 7, dtype: object\n",
      "--------------------------------------\n",
      "--------------------------------------\n",
      "Date              2019-01-18\n",
      "Time                   06:00\n",
      "Mass (kg)              146.0\n",
      "Velocity (m/s)          36.2\n",
      "Energy              95.66212\n",
      "Name: 8, dtype: object\n",
      "--------------------------------------\n",
      "--------------------------------------\n",
      "Date              2019-01-19\n",
      "Time                   17:00\n",
      "Mass (kg)               29.0\n",
      "Velocity (m/s)          38.3\n",
      "Energy             21.269905\n",
      "Name: 9, dtype: object\n",
      "--------------------------------------\n",
      "Date              2019-01-20\n",
      "Time                   22:00\n",
      "Mass (kg)               40.0\n",
      "Velocity (m/s)          41.6\n",
      "Energy               34.6112\n",
      "Name: 10, dtype: object\n",
      "--------------------------------------\n",
      "Date              2019-01-21\n",
      "Time                   11:00\n",
      "Mass (kg)              304.0\n",
      "Velocity (m/s)          36.7\n",
      "Energy             204.72728\n",
      "Name: 11, dtype: object\n",
      "--------------------------------------\n",
      "Date              2019-01-22\n",
      "Time                   21:00\n",
      "Mass (kg)               33.0\n",
      "Velocity (m/s)          44.1\n",
      "Energy             32.089365\n",
      "Name: 12, dtype: object\n",
      "--------------------------------------\n",
      "--------------------------------------\n",
      "--------------------------------------\n",
      "--------------------------------------\n",
      "--------------------------------------\n",
      "--------------------------------------\n",
      "Date              2019-01-29\n",
      "Time                   07:00\n",
      "Mass (kg)               50.0\n",
      "Velocity (m/s)          40.0\n",
      "Energy                  40.0\n",
      "Name: 13, dtype: object\n",
      "--------------------------------------\n",
      "--------------------------------------\n",
      "--------------------------------------\n",
      "--------------------------------------\n",
      "--------------------------------------\n",
      "--------------------------------------\n",
      "--------------------------------------\n",
      "--------------------------------------\n",
      "Date              2019-02-06\n",
      "Time                   02:00\n",
      "Mass (kg)               77.0\n",
      "Velocity (m/s)          38.0\n",
      "Energy                55.594\n",
      "Name: 14, dtype: object\n",
      "--------------------------------------\n",
      "--------------------------------------\n",
      "--------------------------------------\n",
      "--------------------------------------\n",
      "--------------------------------------\n",
      "Date              2019-02-10\n",
      "Time                   20:00\n",
      "Mass (kg)               76.0\n",
      "Velocity (m/s)          39.2\n",
      "Energy              58.39232\n",
      "Name: 15, dtype: object\n",
      "--------------------------------------\n",
      "--------------------------------------\n",
      "--------------------------------------\n",
      "Date              2019-02-14\n",
      "Time                   05:00\n",
      "Mass (kg)              138.0\n",
      "Velocity (m/s)          33.2\n",
      "Energy              76.05456\n",
      "Name: 16, dtype: object\n",
      "--------------------------------------\n",
      "--------------------------------------\n",
      "Date              2019-02-15\n",
      "Time                   11:00\n",
      "Mass (kg)              152.0\n",
      "Velocity (m/s)          24.9\n",
      "Energy              47.12076\n",
      "Name: 17, dtype: object\n",
      "--------------------------------------\n",
      "Date              2019-02-16\n",
      "Time                   18:00\n",
      "Mass (kg)              241.0\n",
      "Velocity (m/s)          40.6\n",
      "Energy             198.62738\n",
      "Name: 18, dtype: object\n",
      "--------------------------------------\n",
      "--------------------------------------\n",
      "--------------------------------------\n",
      "--------------------------------------\n",
      "--------------------------------------\n",
      "--------------------------------------\n",
      "--------------------------------------\n",
      "--------------------------------------\n",
      "--------------------------------------\n",
      "Date              2019-02-25\n",
      "Time                   14:00\n",
      "Mass (kg)               97.0\n",
      "Velocity (m/s)          30.0\n",
      "Energy                 43.65\n",
      "Name: 19, dtype: object\n",
      "--------------------------------------\n",
      "--------------------------------------\n",
      "Date              2019-02-28\n",
      "Time                   05:00\n",
      "Mass (kg)               37.0\n",
      "Velocity (m/s)          32.2\n",
      "Energy              19.18154\n",
      "Name: 20, dtype: object\n",
      "--------------------------------------\n",
      "Date              2019-02-28\n",
      "Time                   12:00\n",
      "Mass (kg)               64.0\n",
      "Velocity (m/s)          34.3\n",
      "Energy              37.64768\n",
      "Name: 21, dtype: object\n",
      "--------------------------------------\n",
      "--------------------------------------\n",
      "--------------------------------------\n",
      "--------------------------------------\n",
      "--------------------------------------\n",
      "--------------------------------------\n",
      "--------------------------------------\n",
      "--------------------------------------\n",
      "--------------------------------------\n",
      "--------------------------------------\n",
      "Date              2019-03-07\n",
      "Time                   21:00\n",
      "Mass (kg)               55.0\n",
      "Velocity (m/s)          31.7\n",
      "Energy             27.634475\n",
      "Name: 22, dtype: object\n",
      "--------------------------------------\n",
      "--------------------------------------\n",
      "--------------------------------------\n",
      "Date              2019-03-10\n",
      "Time                   16:00\n",
      "Mass (kg)                0.0\n",
      "Velocity (m/s)          32.3\n",
      "Energy                   0.0\n",
      "Name: 23, dtype: object\n",
      "Date              2019-03-10\n",
      "Time                   23:00\n",
      "Mass (kg)               45.0\n",
      "Velocity (m/s)          32.2\n",
      "Energy               23.3289\n",
      "Name: 24, dtype: object\n",
      "--------------------------------------\n",
      "Date              2019-03-11\n",
      "Time                   18:00\n",
      "Mass (kg)              406.0\n",
      "Velocity (m/s)          44.1\n",
      "Energy             394.79643\n",
      "Name: 25, dtype: object\n",
      "--------------------------------------\n",
      "--------------------------------------\n",
      "--------------------------------------\n",
      "--------------------------------------\n",
      "--------------------------------------\n",
      "--------------------------------------\n",
      "Date              2019-03-17\n",
      "Time                   09:00\n",
      "Mass (kg)               58.0\n",
      "Velocity (m/s)          33.6\n",
      "Energy              32.73984\n",
      "Name: 26, dtype: object\n",
      "--------------------------------------\n",
      "--------------------------------------\n",
      "--------------------------------------\n",
      "Date              2019-03-20\n",
      "Time                   10:00\n",
      "Mass (kg)               16.0\n",
      "Velocity (m/s)          42.1\n",
      "Energy              14.17928\n",
      "Name: 27, dtype: object\n",
      "--------------------------------------\n",
      "Date              2019-03-21\n",
      "Time                   13:00\n",
      "Mass (kg)              211.0\n",
      "Velocity (m/s)          29.0\n",
      "Energy               88.7255\n",
      "Name: 28, dtype: object\n",
      "--------------------------------------\n",
      "--------------------------------------\n",
      "--------------------------------------\n",
      "Date              2019-03-24\n",
      "Time                   16:00\n",
      "Mass (kg)                3.0\n",
      "Velocity (m/s)          42.3\n",
      "Energy              2.683935\n",
      "Name: 29, dtype: object\n",
      "--------------------------------------\n",
      "Date              2019-03-25\n",
      "Time                   14:00\n",
      "Mass (kg)               63.0\n",
      "Velocity (m/s)          43.2\n",
      "Energy              58.78656\n",
      "Name: 30, dtype: object\n",
      "--------------------------------------\n",
      "--------------------------------------\n",
      "Date              2019-03-28\n",
      "Time                   01:00\n",
      "Mass (kg)               58.0\n",
      "Velocity (m/s)          37.2\n",
      "Energy              40.13136\n",
      "Name: 31, dtype: object\n",
      "--------------------------------------\n",
      "--------------------------------------\n",
      "--------------------------------------\n",
      "--------------------------------------\n",
      "--------------------------------------\n"
     ]
    }
   ],
   "source": [
    "slotboard = []  #creating a board with all slots and inside a slot are all stones that fall during this period,\n",
    "for i in range(1,4):\n",
    "    for j in range(1,32):\n",
    "        slot = []\n",
    "        if j == 9:\n",
    "            date1 = \"2019-0\"+str(i)+\"-0\"+str(j)\n",
    "            date2 = \"2019-0\"+str(i)+\"-10\"\n",
    "        elif j >= 10:\n",
    "            date1 = \"2019-0\"+str(i)+\"-\"+str(j)\n",
    "            date2 = \"2019-0\"+str(i)+\"-\"+str(j+1)\n",
    "        elif j < 9:\n",
    "            date1 = \"2019-0\"+str(i)+\"-0\"+str(j)\n",
    "            date2 = \"2019-0\"+str(i)+\"-0\"+str(j+1)\n",
    "\n",
    "\n",
    "        df_temp = df[df['Date'].str.match(date1)]\n",
    "        df_temp2 = df[df['Date'].str.match(date2)]\n",
    "\n",
    "        for x in range(len(df_temp)):  #all stones that fall in a slot after 8 a.m.\n",
    "            timee = df_temp.iloc[x,1]\n",
    "            timee = int(timee[0:2])\n",
    "            if timee > 8:\n",
    "                slot.append(df_temp.iloc[x,:])\n",
    "\n",
    "        for x in range(len(df_temp2)):  #all stones that fall in a slot before 8 a.m. the next day\n",
    "            timee = df_temp2.iloc[x,1]\n",
    "            timee = int(timee[0:2])\n",
    "            if timee <= 8:\n",
    "                slot.append(df_temp2.iloc[x,:])\n",
    "\n",
    "        slotboard.append(slot)\n",
    "\n",
    "#print out all slots and their stones, separated by \"--------\"\n",
    "for i in range(len(slotboard)):\n",
    "    if len(slotboard[i]) != 0:\n",
    "        for j in range(len(slotboard[i])):\n",
    "            print(slotboard[i][j])\n",
    "    print(\"--------------------------------------\")"
   ],
   "metadata": {
    "collapsed": false,
    "pycharm": {
     "name": "#%%\n"
    }
   }
  },
  {
   "cell_type": "code",
   "execution_count": 180,
   "outputs": [
    {
     "name": "stdout",
     "output_type": "stream",
     "text": [
      "[]\n"
     ]
    }
   ],
   "source": [
    "#calculation of incident, stored inside incident list if requirements are matched or net is broken\n",
    "incident = []\n",
    "for i in range(len(slotboard)): #iterating through all slots\n",
    "    netz = 1\n",
    "    weight = 0\n",
    "    zwischenfall = []\n",
    "    for j in range(len(slotboard[i])): #iterating through all stones inside a slot\n",
    "        weight = weight + int(slotboard[i][j][\"Mass (kg)\"])\n",
    "        if netz == 0:\n",
    "            zwischenfall.append(slotboard[i][j])\n",
    "        elif weight > 2000:\n",
    "            if slotboard[i][j][\"Energy\"] >= 500:\n",
    "                netz = 0\n",
    "                zwischenfall.append(slotboard[i][j])\n",
    "        elif slotboard[i][j][\"Energy\"] >= 1000:\n",
    "            netz = 0\n",
    "            zwischenfall.append(slotboard[i][j])\n",
    "\n",
    "\n",
    "    if len(zwischenfall) != 0:\n",
    "        incident.append(zwischenfall)\n",
    "\n",
    "#list is empty because no stone match our requirements, change 1000-> 100 to see how it would work\n",
    "print(incident)"
   ],
   "metadata": {
    "collapsed": false,
    "pycharm": {
     "name": "#%%\n"
    }
   }
  },
  {
   "cell_type": "code",
   "execution_count": 181,
   "metadata": {
    "pycharm": {
     "name": "#%%\n"
    }
   },
   "outputs": [],
   "source": [
    "#investigate how close we come to a incident\n",
    "def incident_calc(slotboard):\n",
    "    incident = []\n",
    "    for i in range(len(slotboard)): #iterating through all slots\n",
    "        weight = 0\n",
    "        detail = []\n",
    "        for j in range(len(slotboard[i])): #iterating through all stones inside a slot\n",
    "            weight = weight + int(slotboard[i][j][\"Mass (kg)\"])\n",
    "            if weight > 2000:\n",
    "                if slotboard[i][j][\"Energy\"] >= 500:\n",
    "                    detail.append(1)\n",
    "                    detail.append(1)\n",
    "                    detail.append(slotboard[i][j][\"Date\"])\n",
    "                    incident.append(detail)\n",
    "\n",
    "            elif slotboard[i][j][\"Energy\"] >= 1000:\n",
    "                detail.append(1)\n",
    "                detail.append(1)\n",
    "                detail.append(slotboard[i][j][\"Date\"])\n",
    "                incident.append(detail)\n",
    "\n",
    "\n",
    "\n",
    "            if len(slotboard[i]) == j+1:\n",
    "                detail.append(weight/2000)\n",
    "                detail.append(slotboard[i][j][\"Date\"])\n",
    "                incident.append(detail)\n",
    "\n",
    "    return incident\n"
   ]
  },
  {
   "cell_type": "code",
   "execution_count": 182,
   "outputs": [
    {
     "name": "stdout",
     "output_type": "stream",
     "text": [
      "31\n",
      "31\n",
      "31\n"
     ]
    }
   ],
   "source": [
    "inc = incident_calc(slotboard)\n",
    "dates = []\n",
    "values = []\n",
    "for i in range(len(inc)):\n",
    "    values.append(inc[i][0])\n",
    "    dates.append((inc[i][1]))\n",
    "\n",
    "\n",
    "print(len(inc))\n",
    "print(len(dates))\n",
    "print(len(values))\n"
   ],
   "metadata": {
    "collapsed": false,
    "pycharm": {
     "name": "#%%\n"
    }
   }
  },
  {
   "cell_type": "code",
   "execution_count": 183,
   "outputs": [
    {
     "data": {
      "text/plain": "[<matplotlib.lines.Line2D at 0x16a2d732980>]"
     },
     "execution_count": 183,
     "metadata": {},
     "output_type": "execute_result"
    },
    {
     "data": {
      "text/plain": "<Figure size 640x480 with 1 Axes>",
      "image/png": "[encoded data removed]"
     },
     "metadata": {},
     "output_type": "display_data"
    }
   ],
   "source": [
    "import matplotlib.pyplot as plts\n",
    "plt.plot(values,\"\")"
   ],
   "metadata": {
    "collapsed": false,
    "pycharm": {
     "name": "#%%\n"
    }
   }
  },
  {
   "cell_type": "code",
   "execution_count": 184,
   "outputs": [],
   "source": [
    "#testing for different times\n",
    "def slotboard_creation(df,hour):\n",
    "    slotboard = []  #creating a board with all slots and inside a slot are all stones that fall during this period,\n",
    "    for i in range(1,4):\n",
    "        for j in range(1,32):\n",
    "            slot = []\n",
    "            if j == 9:\n",
    "                date1 = \"2019-0\"+str(i)+\"-0\"+str(j)\n",
    "                date2 = \"2019-0\"+str(i)+\"-10\"\n",
    "            elif j >= 10:\n",
    "                date1 = \"2019-0\"+str(i)+\"-\"+str(j)\n",
    "                date2 = \"2019-0\"+str(i)+\"-\"+str(j+1)\n",
    "            elif j < 9:\n",
    "                date1 = \"2019-0\"+str(i)+\"-0\"+str(j)\n",
    "                date2 = \"2019-0\"+str(i)+\"-0\"+str(j+1)\n",
    "\n",
    "\n",
    "            df_temp = df[df['Date'].str.match(date1)]\n",
    "            df_temp2 = df[df['Date'].str.match(date2)]\n",
    "\n",
    "            for x in range(len(df_temp)):  #all stones that fall in a slot after 8 a.m.\n",
    "                timee = df_temp.iloc[x,1]\n",
    "                timee = int(timee[0:2])\n",
    "                if timee > hour:\n",
    "                    slot.append(df_temp.iloc[x,:])\n",
    "\n",
    "            for x in range(len(df_temp2)):  #all stones that fall in a slot before 8 a.m. the next day\n",
    "                timee = df_temp2.iloc[x,1]\n",
    "                timee = int(timee[0:2])\n",
    "                if timee <= hour:\n",
    "                    slot.append(df_temp2.iloc[x,:])\n",
    "\n",
    "            slotboard.append(slot)\n",
    "    return slotboard\n"
   ],
   "metadata": {
    "collapsed": false,
    "pycharm": {
     "name": "#%%\n"
    }
   }
  },
  {
   "cell_type": "code",
   "execution_count": 185,
   "outputs": [
    {
     "data": {
      "text/plain": "[<matplotlib.lines.Line2D at 0x16a2023bfa0>]"
     },
     "execution_count": 185,
     "metadata": {},
     "output_type": "execute_result"
    },
    {
     "data": {
      "text/plain": "<Figure size 640x480 with 1 Axes>",
      "image/png": "[encoded data removed]"
     },
     "metadata": {},
     "output_type": "display_data"
    }
   ],
   "source": [
    "x = []\n",
    "v = []\n",
    "med = []\n",
    "for i in range(0,23):\n",
    "\n",
    "\n",
    "    x.append(slotboard_creation(df,i))\n",
    "\n",
    "    inc = incident_calc(x[i])\n",
    "    values = []\n",
    "    temp1 = 0\n",
    "    for j in range(len(inc)):\n",
    "        values.append(inc[j][0])\n",
    "        temp1 += inc[j][0]\n",
    "    v.append(values)\n",
    "    temp2 = (temp1/len(x[i]))*100\n",
    "    med.append(temp2)\n",
    "\n",
    "#print(x[0])\n",
    "\n",
    "#print(med)\n",
    "\n",
    "for i in range(len(v)):\n",
    "    total = 0\n",
    "    for j in range(len(v[i])):\n",
    "        #print(x[i][j])\n",
    "        if v[i][j] >= 1:\n",
    "            total += 1\n",
    "    #print(total)\n",
    "\n",
    "plt.plot(med)\n"
   ],
   "metadata": {
    "collapsed": false,
    "pycharm": {
     "name": "#%%\n"
    }
   }
  },
  {
   "cell_type": "code",
   "execution_count": 185,
   "outputs": [],
   "source": [],
   "metadata": {
    "collapsed": false,
    "pycharm": {
     "name": "#%%\n"
    }
   }
  },
  {
   "cell_type": "code",
   "execution_count": 185,
   "outputs": [],
   "source": [],
   "metadata": {
    "collapsed": false,
    "pycharm": {
     "name": "#%%\n"
    }
   }
  },
  {
   "cell_type": "code",
   "execution_count": 186,
   "outputs": [
    {
     "data": {
      "text/plain": "(array([0.01470588, 0.04411765, 0.08823529, 0.11764706, 0.14705882,\n        0.22058824, 0.32352941, 0.35294118, 0.39705882, 0.47058824,\n        0.48529412, 0.48529412, 0.51470588, 0.55882353, 0.61764706,\n        0.63235294, 0.64705882, 0.70588235, 0.70588235, 0.72058824,\n        0.72058824, 0.72058824, 0.73529412, 0.73529412, 0.75      ,\n        0.75      , 0.77941176, 0.79411765, 0.79411765, 0.80882353,\n        0.80882353, 0.80882353, 0.82352941, 0.83823529, 0.83823529,\n        0.83823529, 0.85294118, 0.86764706, 0.86764706, 0.86764706,\n        0.86764706, 0.88235294, 0.89705882, 0.89705882, 0.89705882,\n        0.89705882, 0.91176471, 0.91176471, 0.91176471, 0.91176471,\n        0.91176471, 0.91176471, 0.91176471, 0.91176471, 0.91176471,\n        0.91176471, 0.91176471, 0.91176471, 0.91176471, 0.91176471,\n        0.91176471, 0.92647059, 0.92647059, 0.92647059, 0.92647059,\n        0.94117647, 0.94117647, 0.94117647, 0.94117647, 0.94117647,\n        0.95588235, 0.95588235, 0.95588235, 0.95588235, 0.95588235,\n        0.95588235, 0.95588235, 0.95588235, 0.95588235, 0.95588235,\n        0.95588235, 0.95588235, 0.95588235, 0.95588235, 0.95588235,\n        0.95588235, 0.95588235, 0.95588235, 0.95588235, 0.95588235,\n        0.95588235, 0.97058824, 0.97058824, 0.97058824, 0.97058824,\n        0.97058824, 0.97058824, 0.98529412, 0.98529412, 1.        ]),\n array([  12.  ,   42.92,   73.84,  104.76,  135.68,  166.6 ,  197.52,\n         228.44,  259.36,  290.28,  321.2 ,  352.12,  383.04,  413.96,\n         444.88,  475.8 ,  506.72,  537.64,  568.56,  599.48,  630.4 ,\n         661.32,  692.24,  723.16,  754.08,  785.  ,  815.92,  846.84,\n         877.76,  908.68,  939.6 ,  970.52, 1001.44, 1032.36, 1063.28,\n        1094.2 , 1125.12, 1156.04, 1186.96, 1217.88, 1248.8 , 1279.72,\n        1310.64, 1341.56, 1372.48, 1403.4 , 1434.32, 1465.24, 1496.16,\n        1527.08, 1558.  , 1588.92, 1619.84, 1650.76, 1681.68, 1712.6 ,\n        1743.52, 1774.44, 1805.36, 1836.28, 1867.2 , 1898.12, 1929.04,\n        1959.96, 1990.88, 2021.8 , 2052.72, 2083.64, 2114.56, 2145.48,\n        2176.4 , 2207.32, 2238.24, 2269.16, 2300.08, 2331.  , 2361.92,\n        2392.84, 2423.76, 2454.68, 2485.6 , 2516.52, 2547.44, 2578.36,\n        2609.28, 2640.2 , 2671.12, 2702.04, 2732.96, 2763.88, 2794.8 ,\n        2825.72, 2856.64, 2887.56, 2918.48, 2949.4 , 2980.32, 3011.24,\n        3042.16, 3073.08, 3104.  ]),\n <BarContainer object of 100 artists>)"
     },
     "execution_count": 186,
     "metadata": {},
     "output_type": "execute_result"
    },
    {
     "data": {
      "text/plain": "<Figure size 640x480 with 1 Axes>",
      "image/png": "[encoded data removed]"
     },
     "metadata": {},
     "output_type": "display_data"
    }
   ],
   "source": [
    "temp = df1.iloc[:,2]\n",
    "temp = temp.sort_values()\n",
    "plt.hist(temp,cumulative=True,density=True,bins=100)\n"
   ],
   "metadata": {
    "collapsed": false,
    "pycharm": {
     "name": "#%%\n"
    }
   }
  },
  {
   "cell_type": "code",
   "execution_count": 187,
   "outputs": [
    {
     "data": {
      "text/plain": "<Figure size 500x500 with 1 Axes>",
      "image/png": "[encoded data removed]"
     },
     "metadata": {},
     "output_type": "display_data"
    }
   ],
   "source": [
    "import numpy as np\n",
    "from scipy.stats import poisson\n",
    "\n",
    "temp = df1.iloc[:,2]\n",
    "#temp = temp.sort_values()\n",
    "sns.displot(temp,bins=50, stat=\"probability\", common_norm=True)\n",
    "x = np.arange(0, 3150, 0.1)\n",
    "y = poisson.pmf(x, mu=10, loc=250)\n",
    "plt.plot(x,y,color=\"red\")\n",
    "plt.show()"
   ],
   "metadata": {
    "collapsed": false,
    "pycharm": {
     "name": "#%%\n"
    }
   }
  }
 ],
 "metadata": {
  "kernelspec": {
   "display_name": "Python 3 (ipykernel)",
   "language": "python",
   "name": "python3"
  },
  "language_info": {
   "codemirror_mode": {
    "name": "ipython",
    "version": 3
   },
   "file_extension": ".py",
   "mimetype": "text/x-python",
   "name": "python",
   "nbconvert_exporter": "python",
   "pygments_lexer": "ipython3",
   "version": "3.10.0"
  }
 },
 "nbformat": 4,
 "nbformat_minor": 1
}