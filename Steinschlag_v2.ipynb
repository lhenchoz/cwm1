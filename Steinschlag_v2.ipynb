{
 "cells": [
  {
   "cell_type": "markdown",
   "source": [
    "Module importieren"
   ],
   "metadata": {
    "collapsed": false
   }
  },
  {
   "cell_type": "code",
   "execution_count": 2,
   "outputs": [],
   "source": [
    "import matplotlib.pyplot as plt\n",
    "import pandas as pd\n",
    "import pd as pd\n",
    "import seaborn as sns\n",
    "from datetime import datetime\n",
    "from fitter import Fitter\n",
    "import numpy as np\n",
    "from scipy import stats\n",
    "import statsmodels.api as sm\n",
    "from tabulate import tabulate"
   ],
   "metadata": {
    "collapsed": false
   }
  },
  {
   "cell_type": "markdown",
   "source": [
    "Daten laden und säubern"
   ],
   "metadata": {
    "collapsed": false
   }
  },
  {
   "cell_type": "code",
   "execution_count": 3,
   "metadata": {
    "collapsed": true
   },
   "outputs": [],
   "source": [
    "def open_csv_to_df(directory):\n",
    "    df = pd.read_csv(directory)\n",
    "    df = df.iloc[0:,:4]\n",
    "    df.columns = [\"Date\", \"Time\", \"Mass_(kg)\", \"Velocity_(m/s)\"]\n",
    "    df.insert(4, \"Energy\", \"\")\n",
    "    df.insert(5, \"Date_and_Time\", \"\")\n",
    "    df.insert(6, \"Time_delta_(h)\", \"\")\n",
    "    for i in range(len(df)):\n",
    "        df.iloc[i,4] = 0.5 * float(df.iloc[i,2]) * float(df.iloc[i,3]) ** 2 / 1000 #calculation of Energy\n",
    "    df = df.sort_values(['Date', 'Time']).reset_index(drop=True)\n",
    "    df = df.dropna()\n",
    "\n",
    "    for i in range(len(df)):\n",
    "        date_raw = df.iloc[i,:].Date +\" \" +df.iloc[i,:].Time\n",
    "        date1 = datetime.strptime(date_raw, '%Y-%m-%d %H:%M')\n",
    "        df.iloc[i,5] = date1\n",
    "\n",
    "    for i in range(len(df)-1):\n",
    "        date1 = df.iloc[i,5]\n",
    "        date2 = df.iloc[i+1,5]\n",
    "        time_delta = date2 - date1\n",
    "        time_delta = (time_delta.days*24) + (time_delta.seconds//3600)\n",
    "        df.iloc[i+1,6] = time_delta\n",
    "\n",
    "    #Fitter kann keine NAs handhaben aus diesem Grund wird erste Beobachtung mit dem Median der Zeitabstände ersetzt.\n",
    "    df.iloc[0,6] = 0\n",
    "    df['Time_delta_(h)'] = df['Time_delta_(h)'].astype('int')\n",
    "    df.iloc[0,6] = df[\"Time_delta_(h)\"].median()\n",
    "\n",
    "    return df #this is the table with all stones combined"
   ]
  },
  {
   "cell_type": "code",
   "execution_count": 4,
   "outputs": [],
   "source": [
    "df1 = open_csv_to_df(\"./out_1.csv\")\n",
    "df2 = open_csv_to_df(\"./out_2.csv\")"
   ],
   "metadata": {
    "collapsed": false
   }
  },
  {
   "cell_type": "markdown",
   "source": [
    "Funktion für Fitting von Verteilungen"
   ],
   "metadata": {
    "collapsed": false
   }
  },
  {
   "cell_type": "code",
   "execution_count": 5,
   "outputs": [],
   "source": [
    "def fit_distribution(data):\n",
    "    count = 0\n",
    "    fitted_mass = Fitter(data)\n",
    "    fitted_mass.fit()\n",
    "    ks_summary = fitted_mass.summary()\n",
    "    distributions = ks_summary.index.values\n",
    "    print(ks_summary.iloc[:,-2:])\n",
    "    fig, ax = plt.subplots(1,5,figsize=(25, 5))\n",
    "    table = [['Distribution', 'Parameters']]\n",
    "\n",
    "    for i in distributions:\n",
    "        param = fitted_mass.fitted_param[i]\n",
    "        table.append([i, param])\n",
    "        dist_eval = eval('stats.' + i + '.rvs(*param, size = 1000)')\n",
    "        sm.qqplot_2samples(data, dist_eval, xlabel = i.capitalize() + ' Distribution', ylabel = 'Sample Distribution', line = '45' ,ax = ax[count])\n",
    "        count += 1\n",
    "    plt.show()\n",
    "    print(tabulate(table, headers = 'firstrow'))"
   ],
   "metadata": {
    "collapsed": false
   }
  },
  {
   "cell_type": "markdown",
   "source": [
    "Zone 1"
   ],
   "metadata": {
    "collapsed": false
   }
  },
  {
   "cell_type": "code",
   "execution_count": 6,
   "outputs": [],
   "source": [
    "#fit_distribution(df1['Mass_(kg)'])"
   ],
   "metadata": {
    "collapsed": false
   }
  },
  {
   "cell_type": "code",
   "execution_count": 7,
   "outputs": [],
   "source": [
    "#fit_distribution(df1[\"Velocity_(m/s)\"])"
   ],
   "metadata": {
    "collapsed": false
   }
  },
  {
   "cell_type": "code",
   "execution_count": 8,
   "outputs": [],
   "source": [
    "#fit_distribution(df1[\"Time_delta_(h)\"])"
   ],
   "metadata": {
    "collapsed": false
   }
  },
  {
   "cell_type": "markdown",
   "source": [
    "Zone 2"
   ],
   "metadata": {
    "collapsed": false
   }
  },
  {
   "cell_type": "code",
   "execution_count": 9,
   "outputs": [],
   "source": [
    "#fit_distribution(df2['Mass_(kg)'])"
   ],
   "metadata": {
    "collapsed": false
   }
  },
  {
   "cell_type": "code",
   "execution_count": 10,
   "outputs": [],
   "source": [
    "#fit_distribution(df2[\"Velocity_(m/s)\"])"
   ],
   "metadata": {
    "collapsed": false
   }
  },
  {
   "cell_type": "code",
   "execution_count": 11,
   "outputs": [],
   "source": [
    "#fit_distribution(df2[\"Time_delta_(h)\"])"
   ],
   "metadata": {
    "collapsed": false
   }
  },
  {
   "cell_type": "markdown",
   "source": [
    "Monte Carlo"
   ],
   "metadata": {
    "collapsed": false
   }
  },
  {
   "cell_type": "code",
   "execution_count": 12,
   "outputs": [],
   "source": [
    "def plot_verteilung(dataframe, x_val):\n",
    "    sns.set_style(\"white\")\n",
    "    sns.set_context(\"paper\", font_scale = 1.5)\n",
    "    sns.displot(data = dataframe, x = x_val, kind = \"hist\", bins = 150, aspect = 3.0)"
   ],
   "metadata": {
    "collapsed": false
   }
  },
  {
   "cell_type": "markdown",
   "source": [
    "Zone 1"
   ],
   "metadata": {
    "collapsed": false
   }
  },
  {
   "cell_type": "code",
   "execution_count": 104,
   "outputs": [],
   "source": [
    "mass1_sim = stats.norminvgauss.rvs(3.1212660746620413, 3.049636729092045, 34.65446329649014, 129.49172019279249, size = 1000000)\n",
    "df1_mass_sim = pd.DataFrame(mass1_sim)\n",
    "velocity1_sim = stats.norminvgauss.rvs(8.815229190843102, -1.1717104407578982, 9.56468292816113, 5.789676074259544, size = 1000000)\n",
    "df1_velocity_sim = pd.DataFrame(velocity1_sim)\n",
    "timedelta1_sim = stats.chi.rvs(0.6466917035616518, -8.620646255400194e-27, 50.086113926689904, size = 1000000)\n",
    "df1_timedelta_sim = pd.DataFrame(timedelta1_sim)\n",
    "#df1_mass_sim[df1_mass_sim[0] < 0][0]"
   ],
   "metadata": {
    "collapsed": false
   }
  },
  {
   "cell_type": "markdown",
   "source": [
    "Zone 2"
   ],
   "metadata": {
    "collapsed": false
   }
  },
  {
   "cell_type": "code",
   "execution_count": 16,
   "outputs": [],
   "source": [
    "mass2_sim = stats.skewcauchy.rvs(0.5654845478523323, 31.009036433794673, 28.383685799048294, size = 1000000)\n",
    "df2_mass_sim = pd.DataFrame(mass2_sim)\n",
    "velocity2_sim = stats.beta.rvs(2.135456049863241, 1.2827668923945292, 23.092130432299154, 23.56888476645474, size = 1000000)\n",
    "df2_velocity_sim = pd.DataFrame(velocity2_sim)\n",
    "timedelta2_sim = stats.expon.rvs(7.0, 59.322580645161295, size = 1000000)\n",
    "df2_timedelta_sim = pd.DataFrame(timedelta2_sim)"
   ],
   "metadata": {
    "collapsed": false
   }
  },
  {
   "cell_type": "code",
   "execution_count": 107,
   "outputs": [
    {
     "name": "stderr",
     "output_type": "stream",
     "text": [
      "C:\\Users\\logan\\AppData\\Local\\Temp\\ipykernel_4932\\2038886911.py:8: SettingWithCopyWarning: \n",
      "A value is trying to be set on a copy of a slice from a DataFrame\n",
      "\n",
      "See the caveats in the documentation: https://pandas.pydata.org/pandas-docs/stable/user_guide/indexing.html#returning-a-view-versus-a-copy\n",
      "  df1_sim[\"Time_delta_(h)\"][0] = 0\n",
      "C:\\Users\\logan\\AppData\\Local\\Temp\\ipykernel_4932\\2038886911.py:11: SettingWithCopyWarning: \n",
      "A value is trying to be set on a copy of a slice from a DataFrame\n",
      "\n",
      "See the caveats in the documentation: https://pandas.pydata.org/pandas-docs/stable/user_guide/indexing.html#returning-a-view-versus-a-copy\n",
      "  df1_sim.Date[0] = datetime.strptime(\"2019-01-01 00:00\", '%Y-%m-%d %H:%M')\n",
      "C:\\Users\\logan\\AppData\\Local\\Temp\\ipykernel_4932\\2038886911.py:17: SettingWithCopyWarning: \n",
      "A value is trying to be set on a copy of a slice from a DataFrame\n",
      "\n",
      "See the caveats in the documentation: https://pandas.pydata.org/pandas-docs/stable/user_guide/indexing.html#returning-a-view-versus-a-copy\n",
      "  df1_sim[\"Date\"][i] =  df1_sim[\"Date\"][i-1] + df1_sim[\"Time_delta_(h)\"][i]\n"
     ]
    }
   ],
   "source": [
    "df1_sim = pd.DataFrame()\n",
    "df1_sim.insert(0, \"Date\", \"\")\n",
    "df1_sim.insert(1, \"Mass_(kg)\", mass1_sim)\n",
    "df1_sim.insert(2, \"Velocity_(m/s)\", velocity1_sim)\n",
    "df1_sim.insert(3, \"Energy\", \"\")\n",
    "df1_sim.insert(4, \"Time_delta_(h)\", timedelta1_sim)\n",
    "\n",
    "df1_sim[\"Time_delta_(h)\"][0] = 0\n",
    "df1_sim[\"Time_delta_(h)\"] = pd.to_timedelta(df1_sim['Time_delta_(h)'], unit='hour')\n",
    "\n",
    "df1_sim.Date[0] = datetime.strptime(\"2019-01-01 00:00\", '%Y-%m-%d %H:%M')\n",
    "max_s = 31556926\n",
    "current_s = 0\n",
    "i = 1\n",
    "\n",
    "while (current_s < max_s):\n",
    "    df1_sim[\"Date\"][i] =  df1_sim[\"Date\"][i-1] + df1_sim[\"Time_delta_(h)\"][i]\n",
    "    current_s = current_s + int(df1_sim[\"Time_delta_(h)\"][i].seconds) + int(df1_sim[\"Time_delta_(h)\"][i].days)*86400\n",
    "    i += 1\n",
    "\n",
    "df1_sim = df1_sim.dropna()\n",
    "for i in range(len(df1_sim)):\n",
    "        df1_sim.iloc[i,3] = 0.5 * float(df1_sim.iloc[i,1]) * float(df1_sim.iloc[i,2]) ** 2 / 1000"
   ],
   "metadata": {
    "collapsed": false
   }
  },
  {
   "cell_type": "code",
   "execution_count": null,
   "outputs": [],
   "source": [
    "print(\"hi\")"
   ],
   "metadata": {
    "collapsed": false
   }
  }
 ],
 "metadata": {
  "kernelspec": {
   "display_name": "Python 3",
   "language": "python",
   "name": "python3"
  },
  "language_info": {
   "codemirror_mode": {
    "name": "ipython",
    "version": 2
   },
   "file_extension": ".py",
   "mimetype": "text/x-python",
   "name": "python",
   "nbconvert_exporter": "python",
   "pygments_lexer": "ipython2",
   "version": "2.7.6"
  }
 },
 "nbformat": 4,
 "nbformat_minor": 0
}
