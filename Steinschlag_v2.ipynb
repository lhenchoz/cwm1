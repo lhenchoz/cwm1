{
 "cells": [
  {
   "cell_type": "markdown",
   "source": [
    "Module importieren"
   ],
   "metadata": {
    "collapsed": false
   }
  },
  {
   "cell_type": "code",
   "execution_count": 1,
   "outputs": [],
   "source": [
    "import matplotlib.pyplot as plt\n",
    "import pandas as pd\n",
    "#import pd as pd\n",
    "import seaborn as sns\n",
    "from datetime import datetime\n",
    "from fitter import Fitter\n",
    "import numpy as np\n",
    "from scipy import stats\n",
    "import statsmodels.api as sm\n",
    "from tabulate import tabulate"
   ],
   "metadata": {
    "collapsed": false
   }
  },
  {
   "cell_type": "markdown",
   "source": [
    "Daten laden und säubern"
   ],
   "metadata": {
    "collapsed": false
   }
  },
  {
   "cell_type": "code",
   "execution_count": 2,
   "metadata": {
    "collapsed": true
   },
   "outputs": [],
   "source": [
    "def open_csv_to_df(directory):\n",
    "    df = pd.read_csv(directory)\n",
    "    df = df.iloc[0:,:4]\n",
    "    df.columns = [\"Date\", \"Time\", \"Mass_(kg)\", \"Velocity_(m/s)\"]\n",
    "    df.insert(4, \"Energy_(kJ)\", \"\")\n",
    "    df.insert(5, \"Date_and_Time\", \"\")\n",
    "    df.insert(6, \"Time_delta_(h)\", \"\")\n",
    "    for i in range(len(df)):\n",
    "        df.iloc[i,4] = 0.5 * float(df.iloc[i,2]) * float(df.iloc[i,3]) ** 2 / 1000 #calculation of Energy_(kJ)\n",
    "    df = df.sort_values(['Date', 'Time']).reset_index(drop=True)\n",
    "    df = df.dropna()\n",
    "\n",
    "    for i in range(len(df)):\n",
    "        date_raw = df.iloc[i,:].Date +\" \" +df.iloc[i,:].Time\n",
    "        date1 = datetime.strptime(date_raw, '%Y-%m-%d %H:%M')\n",
    "        df.iloc[i,5] = date1\n",
    "\n",
    "    for i in range(len(df)-1):\n",
    "        date1 = df.iloc[i,5]\n",
    "        date2 = df.iloc[i+1,5]\n",
    "        time_delta = date2 - date1\n",
    "        time_delta = (time_delta.days*24) + (time_delta.seconds//3600)\n",
    "        df.iloc[i+1,6] = time_delta\n",
    "\n",
    "    #Fitter kann keine NAs handhaben aus diesem Grund wird erste Beobachtung mit dem Median der Zeitabstände ersetzt.\n",
    "    df.iloc[0,6] = 0\n",
    "    df['Time_delta_(h)'] = df['Time_delta_(h)'].astype('int')\n",
    "    df.iloc[0,6] = df[\"Time_delta_(h)\"].median()\n",
    "\n",
    "    return df #this is the table with all stones combined"
   ]
  },
  {
   "cell_type": "code",
   "execution_count": 3,
   "outputs": [],
   "source": [
    "df1 = open_csv_to_df(\"./out_1.csv\")\n",
    "df2 = open_csv_to_df(\"./out_2.csv\")"
   ],
   "metadata": {
    "collapsed": false
   }
  },
  {
   "cell_type": "markdown",
   "source": [
    "Funktion für Fitting von Verteilungen"
   ],
   "metadata": {
    "collapsed": false
   }
  },
  {
   "cell_type": "code",
   "execution_count": 4,
   "outputs": [],
   "source": [
    "def fit_distribution(data):\n",
    "    count = 0\n",
    "    fitted_mass = Fitter(data)\n",
    "    fitted_mass.fit()\n",
    "    ks_summary = fitted_mass.summary()\n",
    "    distributions = ks_summary.index.values\n",
    "    print(ks_summary.iloc[:,-2:])\n",
    "    fig, ax = plt.subplots(1,5,figsize=(25, 5))\n",
    "    table = [['Distribution', 'Parameters']]\n",
    "\n",
    "    for i in distributions:\n",
    "        param = fitted_mass.fitted_param[i]\n",
    "        table.append([i, param])\n",
    "        dist_eval = eval('stats.' + i + '.rvs(*param, size = 1000)')\n",
    "        sm.qqplot_2samples(data, dist_eval, xlabel = i.capitalize() + ' Distribution', ylabel = 'Sample Distribution', line = '45' ,ax = ax[count])\n",
    "        count += 1\n",
    "    plt.show()\n",
    "    print(tabulate(table, headers = 'firstrow'))"
   ],
   "metadata": {
    "collapsed": false
   }
  },
  {
   "cell_type": "markdown",
   "source": [
    "Zone 1"
   ],
   "metadata": {
    "collapsed": false
   }
  },
  {
   "cell_type": "code",
   "execution_count": 5,
   "outputs": [],
   "source": [
    "#fit_distribution(df1['Mass_(kg)'])"
   ],
   "metadata": {
    "collapsed": false
   }
  },
  {
   "cell_type": "code",
   "execution_count": 6,
   "outputs": [],
   "source": [
    "#fit_distribution(df1[\"Velocity_(m/s)\"])"
   ],
   "metadata": {
    "collapsed": false
   }
  },
  {
   "cell_type": "code",
   "execution_count": 7,
   "outputs": [],
   "source": [
    "#fit_distribution(df1[\"Time_delta_(h)\"])"
   ],
   "metadata": {
    "collapsed": false
   }
  },
  {
   "cell_type": "markdown",
   "source": [
    "Zone 2"
   ],
   "metadata": {
    "collapsed": false
   }
  },
  {
   "cell_type": "code",
   "execution_count": 8,
   "outputs": [],
   "source": [
    "#fit_distribution(df2['Mass_(kg)'])"
   ],
   "metadata": {
    "collapsed": false
   }
  },
  {
   "cell_type": "code",
   "execution_count": 9,
   "outputs": [],
   "source": [
    "#fit_distribution(df2[\"Velocity_(m/s)\"])"
   ],
   "metadata": {
    "collapsed": false
   }
  },
  {
   "cell_type": "code",
   "execution_count": 10,
   "outputs": [],
   "source": [
    "#fit_distribution(df2[\"Time_delta_(h)\"])"
   ],
   "metadata": {
    "collapsed": false
   }
  },
  {
   "cell_type": "markdown",
   "source": [
    "Monte Carlo"
   ],
   "metadata": {
    "collapsed": false
   }
  },
  {
   "cell_type": "code",
   "execution_count": 11,
   "outputs": [],
   "source": [
    "sim_count = 3_000_000\n"
   ],
   "metadata": {
    "collapsed": false
   }
  },
  {
   "cell_type": "markdown",
   "source": [
    "Zone 1"
   ],
   "metadata": {
    "collapsed": false
   }
  },
  {
   "cell_type": "code",
   "execution_count": 12,
   "outputs": [],
   "source": [
    "# Masse\n",
    "param = stats.gamma.fit(df1['Mass_(kg)'])\n",
    "zone1_mass = stats.gamma.rvs(*param, size = sim_count)\n",
    "\n",
    "# Geschwindigkeit\n",
    "param = stats.norm.fit(df1[\"Velocity_(m/s)\"])\n",
    "zone1_velocity = stats.norm.rvs(*param, size = sim_count)\n",
    "\n",
    "# Zeitabstand\n",
    "param = stats.expon.fit(df1[\"Time_delta_(h)\"])\n",
    "zone1_time_delta = stats.expon.rvs(*param, size = sim_count)"
   ],
   "metadata": {
    "collapsed": false
   }
  },
  {
   "cell_type": "markdown",
   "source": [
    "Zone 2"
   ],
   "metadata": {
    "collapsed": false
   }
  },
  {
   "cell_type": "code",
   "execution_count": 13,
   "outputs": [],
   "source": [
    "# Masse\n",
    "param = stats.gamma.fit(df2['Mass_(kg)'])\n",
    "zone2_mass = stats.gamma.rvs(*param, size = sim_count)\n",
    "\n",
    "# Geschwindigkeit\n",
    "param = stats.norm.fit(df2[\"Velocity_(m/s)\"])\n",
    "zone2_velocity = stats.norm.rvs(*param, size = sim_count)\n",
    "\n",
    "# Zeitabstand\n",
    "param = stats.expon.fit(df2[\"Time_delta_(h)\"])\n",
    "zone2_time_delta = stats.expon.rvs(*param, size = sim_count)"
   ],
   "metadata": {
    "collapsed": false
   }
  },
  {
   "cell_type": "code",
   "execution_count": 14,
   "outputs": [
    {
     "name": "stderr",
     "output_type": "stream",
     "text": [
      "C:\\Users\\logan\\AppData\\Local\\Temp\\ipykernel_17572\\3105050015.py:9: SettingWithCopyWarning: \n",
      "A value is trying to be set on a copy of a slice from a DataFrame\n",
      "\n",
      "See the caveats in the documentation: https://pandas.pydata.org/pandas-docs/stable/user_guide/indexing.html#returning-a-view-versus-a-copy\n",
      "  df1_sim[\"Time_delta_(h)\"][0] = 0\n"
     ]
    },
    {
     "data": {
      "text/plain": "           Mass_(kg)  Velocity_(m/s)  Energy_(kJ)  Time_delta_(h)\n0          23.315543        6.878721     0.551608          0.0000\n1        1619.505963        7.086673    40.666547          1.9439\n2        1695.565235        5.961349    30.128230         32.5656\n3        1036.287750        8.334600    35.993157          7.1813\n4        2297.108630        7.896958    71.626088          5.5337\n...              ...             ...          ...             ...\n2999995  1600.331381        8.259836    54.591212         23.3355\n2999996   292.024394       10.009748    14.629701          2.8465\n2999997    59.852188        7.856728     1.847283         24.0647\n2999998  1671.813713       11.564216   111.786742         44.1343\n2999999   255.269250        8.515599     9.255480         57.1205\n\n[3000000 rows x 4 columns]",
      "text/html": "<div>\n<style scoped>\n    .dataframe tbody tr th:only-of-type {\n        vertical-align: middle;\n    }\n\n    .dataframe tbody tr th {\n        vertical-align: top;\n    }\n\n    .dataframe thead th {\n        text-align: right;\n    }\n</style>\n<table border=\"1\" class=\"dataframe\">\n  <thead>\n    <tr style=\"text-align: right;\">\n      <th></th>\n      <th>Mass_(kg)</th>\n      <th>Velocity_(m/s)</th>\n      <th>Energy_(kJ)</th>\n      <th>Time_delta_(h)</th>\n    </tr>\n  </thead>\n  <tbody>\n    <tr>\n      <th>0</th>\n      <td>23.315543</td>\n      <td>6.878721</td>\n      <td>0.551608</td>\n      <td>0.0000</td>\n    </tr>\n    <tr>\n      <th>1</th>\n      <td>1619.505963</td>\n      <td>7.086673</td>\n      <td>40.666547</td>\n      <td>1.9439</td>\n    </tr>\n    <tr>\n      <th>2</th>\n      <td>1695.565235</td>\n      <td>5.961349</td>\n      <td>30.128230</td>\n      <td>32.5656</td>\n    </tr>\n    <tr>\n      <th>3</th>\n      <td>1036.287750</td>\n      <td>8.334600</td>\n      <td>35.993157</td>\n      <td>7.1813</td>\n    </tr>\n    <tr>\n      <th>4</th>\n      <td>2297.108630</td>\n      <td>7.896958</td>\n      <td>71.626088</td>\n      <td>5.5337</td>\n    </tr>\n    <tr>\n      <th>...</th>\n      <td>...</td>\n      <td>...</td>\n      <td>...</td>\n      <td>...</td>\n    </tr>\n    <tr>\n      <th>2999995</th>\n      <td>1600.331381</td>\n      <td>8.259836</td>\n      <td>54.591212</td>\n      <td>23.3355</td>\n    </tr>\n    <tr>\n      <th>2999996</th>\n      <td>292.024394</td>\n      <td>10.009748</td>\n      <td>14.629701</td>\n      <td>2.8465</td>\n    </tr>\n    <tr>\n      <th>2999997</th>\n      <td>59.852188</td>\n      <td>7.856728</td>\n      <td>1.847283</td>\n      <td>24.0647</td>\n    </tr>\n    <tr>\n      <th>2999998</th>\n      <td>1671.813713</td>\n      <td>11.564216</td>\n      <td>111.786742</td>\n      <td>44.1343</td>\n    </tr>\n    <tr>\n      <th>2999999</th>\n      <td>255.269250</td>\n      <td>8.515599</td>\n      <td>9.255480</td>\n      <td>57.1205</td>\n    </tr>\n  </tbody>\n</table>\n<p>3000000 rows × 4 columns</p>\n</div>"
     },
     "execution_count": 14,
     "metadata": {},
     "output_type": "execute_result"
    }
   ],
   "source": [
    "df1_sim = pd.DataFrame()\n",
    "df1_sim.insert(0, \"Mass_(kg)\", zone1_mass)\n",
    "df1_sim.insert(1, \"Velocity_(m/s)\", zone1_velocity)\n",
    "df1_sim.insert(2, \"Energy_(kJ)\", \"\")\n",
    "df1_sim.insert(3, \"Time_delta_(h)\", zone1_time_delta)\n",
    "\n",
    "\n",
    "df1_sim[\"Time_delta_(h)\"] = zone1_time_delta.round(4)\n",
    "df1_sim[\"Time_delta_(h)\"][0] = 0\n",
    "\n",
    "df1_sim = df1_sim.dropna()\n",
    "df1_sim[\"Energy_(kJ)\"] = (0.5 * df1_sim[\"Mass_(kg)\"] * (df1_sim[\"Velocity_(m/s)\"] ** 2)) / 1000\n",
    "df1_sim"
   ],
   "metadata": {
    "collapsed": false
   }
  },
  {
   "cell_type": "code",
   "execution_count": 15,
   "outputs": [
    {
     "name": "stderr",
     "output_type": "stream",
     "text": [
      "C:\\Users\\logan\\AppData\\Local\\Temp\\ipykernel_17572\\2961706192.py:9: SettingWithCopyWarning: \n",
      "A value is trying to be set on a copy of a slice from a DataFrame\n",
      "\n",
      "See the caveats in the documentation: https://pandas.pydata.org/pandas-docs/stable/user_guide/indexing.html#returning-a-view-versus-a-copy\n",
      "  df2_sim[\"Time_delta_(h)\"][0] = 0\n"
     ]
    },
    {
     "data": {
      "text/plain": "          Mass_(kg)  Velocity_(m/s)  Energy_(kJ)  Time_delta_(h)\n0        162.436770       43.596412   154.367491          0.0000\n1         43.675899       33.559980    24.595476        209.5446\n2        341.757647       37.360289   238.511164         27.3199\n3        222.465864       42.884485   204.566154         22.9458\n4         19.997585       36.428940    13.269074         26.2324\n...             ...             ...          ...             ...\n2999995   78.619892       38.453392    58.126176         24.7989\n2999996   20.948717       42.326980    18.765581         14.2834\n2999997  187.183491       38.130970   136.079674        196.8005\n2999998   39.441198       34.476756    23.440825        141.5802\n2999999    1.038374       46.551702     1.125110         30.5052\n\n[3000000 rows x 4 columns]",
      "text/html": "<div>\n<style scoped>\n    .dataframe tbody tr th:only-of-type {\n        vertical-align: middle;\n    }\n\n    .dataframe tbody tr th {\n        vertical-align: top;\n    }\n\n    .dataframe thead th {\n        text-align: right;\n    }\n</style>\n<table border=\"1\" class=\"dataframe\">\n  <thead>\n    <tr style=\"text-align: right;\">\n      <th></th>\n      <th>Mass_(kg)</th>\n      <th>Velocity_(m/s)</th>\n      <th>Energy_(kJ)</th>\n      <th>Time_delta_(h)</th>\n    </tr>\n  </thead>\n  <tbody>\n    <tr>\n      <th>0</th>\n      <td>162.436770</td>\n      <td>43.596412</td>\n      <td>154.367491</td>\n      <td>0.0000</td>\n    </tr>\n    <tr>\n      <th>1</th>\n      <td>43.675899</td>\n      <td>33.559980</td>\n      <td>24.595476</td>\n      <td>209.5446</td>\n    </tr>\n    <tr>\n      <th>2</th>\n      <td>341.757647</td>\n      <td>37.360289</td>\n      <td>238.511164</td>\n      <td>27.3199</td>\n    </tr>\n    <tr>\n      <th>3</th>\n      <td>222.465864</td>\n      <td>42.884485</td>\n      <td>204.566154</td>\n      <td>22.9458</td>\n    </tr>\n    <tr>\n      <th>4</th>\n      <td>19.997585</td>\n      <td>36.428940</td>\n      <td>13.269074</td>\n      <td>26.2324</td>\n    </tr>\n    <tr>\n      <th>...</th>\n      <td>...</td>\n      <td>...</td>\n      <td>...</td>\n      <td>...</td>\n    </tr>\n    <tr>\n      <th>2999995</th>\n      <td>78.619892</td>\n      <td>38.453392</td>\n      <td>58.126176</td>\n      <td>24.7989</td>\n    </tr>\n    <tr>\n      <th>2999996</th>\n      <td>20.948717</td>\n      <td>42.326980</td>\n      <td>18.765581</td>\n      <td>14.2834</td>\n    </tr>\n    <tr>\n      <th>2999997</th>\n      <td>187.183491</td>\n      <td>38.130970</td>\n      <td>136.079674</td>\n      <td>196.8005</td>\n    </tr>\n    <tr>\n      <th>2999998</th>\n      <td>39.441198</td>\n      <td>34.476756</td>\n      <td>23.440825</td>\n      <td>141.5802</td>\n    </tr>\n    <tr>\n      <th>2999999</th>\n      <td>1.038374</td>\n      <td>46.551702</td>\n      <td>1.125110</td>\n      <td>30.5052</td>\n    </tr>\n  </tbody>\n</table>\n<p>3000000 rows × 4 columns</p>\n</div>"
     },
     "execution_count": 15,
     "metadata": {},
     "output_type": "execute_result"
    }
   ],
   "source": [
    "df2_sim = pd.DataFrame()\n",
    "df2_sim.insert(0, \"Mass_(kg)\", zone2_mass)\n",
    "df2_sim.insert(1, \"Velocity_(m/s)\", zone2_velocity)\n",
    "df2_sim.insert(2, \"Energy_(kJ)\", \"\")\n",
    "df2_sim.insert(3, \"Time_delta_(h)\", zone2_time_delta)\n",
    "\n",
    "\n",
    "df2_sim[\"Time_delta_(h)\"] = zone2_time_delta.round(4)\n",
    "df2_sim[\"Time_delta_(h)\"][0] = 0\n",
    "\n",
    "df2_sim = df2_sim.dropna()\n",
    "df2_sim[\"Energy_(kJ)\"] = (0.5 * df2_sim[\"Mass_(kg)\"] * (df2_sim[\"Velocity_(m/s)\"] ** 2)) / 1000\n",
    "df2_sim"
   ],
   "metadata": {
    "collapsed": false
   }
  },
  {
   "cell_type": "code",
   "execution_count": 16,
   "outputs": [],
   "source": [
    "df_sim = pd.concat([df1_sim,df2_sim])\n",
    "df_sim = df_sim.sample(frac=1,ignore_index=True)"
   ],
   "metadata": {
    "collapsed": false
   }
  },
  {
   "cell_type": "code",
   "execution_count": 17,
   "outputs": [],
   "source": [
    "def netztest(status_netz,gewicht_im_netz,aufprallenergie):\n",
    "\n",
    "    if status_netz == True:\n",
    "        return True\n",
    "\n",
    "    elif gewicht_im_netz > 2000:\n",
    "        if aufprallenergie > 500:\n",
    "            return True\n",
    "        else:\n",
    "            return False\n",
    "\n",
    "    elif gewicht_im_netz <= 2000:\n",
    "        if aufprallenergie > 1000:\n",
    "            return True\n",
    "        else:\n",
    "            return False\n",
    "    else:\n",
    "        return False"
   ],
   "metadata": {
    "collapsed": false
   }
  },
  {
   "cell_type": "code",
   "execution_count": 18,
   "outputs": [
    {
     "data": {
      "text/plain": "           Mass_(kg)  Velocity_(m/s)  Energy_(kJ)  Time_delta_(h)\n0          74.964897       32.582573    39.792269         88.6798\n1         229.191923        9.576383    10.509266          8.5145\n2         631.131259        9.137900    26.350114          3.3650\n3           1.510256       39.742296     1.192687         27.1013\n4           5.998367       38.922878     4.543735         95.1716\n...              ...             ...          ...             ...\n5999995   348.186921        5.323307     4.933391         25.6848\n5999996   112.983047       34.239238    66.226447          9.1768\n5999997   682.961696       51.004843   888.360374         45.4325\n5999998   294.157634       12.931528    24.595171         11.1544\n5999999  1064.498037        7.755398    32.012751          2.9460\n\n[6000000 rows x 4 columns]",
      "text/html": "<div>\n<style scoped>\n    .dataframe tbody tr th:only-of-type {\n        vertical-align: middle;\n    }\n\n    .dataframe tbody tr th {\n        vertical-align: top;\n    }\n\n    .dataframe thead th {\n        text-align: right;\n    }\n</style>\n<table border=\"1\" class=\"dataframe\">\n  <thead>\n    <tr style=\"text-align: right;\">\n      <th></th>\n      <th>Mass_(kg)</th>\n      <th>Velocity_(m/s)</th>\n      <th>Energy_(kJ)</th>\n      <th>Time_delta_(h)</th>\n    </tr>\n  </thead>\n  <tbody>\n    <tr>\n      <th>0</th>\n      <td>74.964897</td>\n      <td>32.582573</td>\n      <td>39.792269</td>\n      <td>88.6798</td>\n    </tr>\n    <tr>\n      <th>1</th>\n      <td>229.191923</td>\n      <td>9.576383</td>\n      <td>10.509266</td>\n      <td>8.5145</td>\n    </tr>\n    <tr>\n      <th>2</th>\n      <td>631.131259</td>\n      <td>9.137900</td>\n      <td>26.350114</td>\n      <td>3.3650</td>\n    </tr>\n    <tr>\n      <th>3</th>\n      <td>1.510256</td>\n      <td>39.742296</td>\n      <td>1.192687</td>\n      <td>27.1013</td>\n    </tr>\n    <tr>\n      <th>4</th>\n      <td>5.998367</td>\n      <td>38.922878</td>\n      <td>4.543735</td>\n      <td>95.1716</td>\n    </tr>\n    <tr>\n      <th>...</th>\n      <td>...</td>\n      <td>...</td>\n      <td>...</td>\n      <td>...</td>\n    </tr>\n    <tr>\n      <th>5999995</th>\n      <td>348.186921</td>\n      <td>5.323307</td>\n      <td>4.933391</td>\n      <td>25.6848</td>\n    </tr>\n    <tr>\n      <th>5999996</th>\n      <td>112.983047</td>\n      <td>34.239238</td>\n      <td>66.226447</td>\n      <td>9.1768</td>\n    </tr>\n    <tr>\n      <th>5999997</th>\n      <td>682.961696</td>\n      <td>51.004843</td>\n      <td>888.360374</td>\n      <td>45.4325</td>\n    </tr>\n    <tr>\n      <th>5999998</th>\n      <td>294.157634</td>\n      <td>12.931528</td>\n      <td>24.595171</td>\n      <td>11.1544</td>\n    </tr>\n    <tr>\n      <th>5999999</th>\n      <td>1064.498037</td>\n      <td>7.755398</td>\n      <td>32.012751</td>\n      <td>2.9460</td>\n    </tr>\n  </tbody>\n</table>\n<p>6000000 rows × 4 columns</p>\n</div>"
     },
     "execution_count": 18,
     "metadata": {},
     "output_type": "execute_result"
    }
   ],
   "source": [
    "df_sim"
   ],
   "metadata": {
    "collapsed": false
   }
  },
  {
   "cell_type": "code",
   "execution_count": 19,
   "outputs": [
    {
     "name": "stdout",
     "output_type": "stream",
     "text": [
      "Anzahl simulierte Steine:  6000000\n",
      "Anzahl incident Steine:  361\n",
      "0.006016666666666667\n"
     ]
    }
   ],
   "source": [
    "#In diesem Abschnitt gehen wir über unsere simulierte Daten und berechnen wieviele Steine aus dem Netz brechen und somit auf die Strasse fallen.\n",
    "max_delta = 24   #jede 24 Stunden werden die Netze geprüft und ggf. repariert\n",
    "current_delta = 0   #diese Variable ist das aktuelle delta\n",
    "stunden_total = 0   #Total der Stunden, welche wir aus der Simulation bekommen\n",
    "masse_im_netz = 0   #Masse die sich im Netz befundet\n",
    "status_netz = False #Status ob das Netz gerissen ist, False -> Nein\n",
    "incident_steine = 0 #Anzahl Steine, welche durch das Netz fallen\n",
    "steine_im_netz = 0 #Anzahl Steine, welche sich bereits im Netz befinden\n",
    "length = len(df_sim)   #Anzahl simulierte Steine\n",
    "\n",
    "for i in range(int(length)):\n",
    "    iterated_delta = df_sim[\"Time_delta_(h)\"][i]    #Iteriertes delta (Zeit welche nach dem Letzten Stein vergangen ist)\n",
    "    iterated_energy = df_sim[\"Energy_(kJ)\"][i]      #Energie des iterierten Elements\n",
    "\n",
    "    stunden_total += iterated_delta  #Bei jedem Durchgang werden die Stunden addiert\n",
    "\n",
    "#Danach unterscheiden wir die \"iterated_delta\" voneinander, abhängig von ihrer Grösse:\n",
    "    #Falls der Zeitabstand grösser als 24 Std. ist:\n",
    "    if (iterated_delta > max_delta):\n",
    "\n",
    "        #Falls das Netz bereits gerissen ist:\n",
    "        if status_netz:\n",
    "            incident_steine += steine_im_netz\n",
    "\n",
    "        steine_im_netz = 1\n",
    "        status_netz = netztest(False,0,iterated_energy) #wir testen, ob das Netz in diesem Fall bricht\n",
    "        masse_im_netz = df_sim[\"Mass_(kg)\"][i]\n",
    "\n",
    "        iterated_delta = iterated_delta % max_delta  #wir brechen das delta runter, auf alle Stunden welche nach 24 Std. Slots übrig bleiben würden, 36 Std. - 24 Std. = 12 Std.\n",
    "\n",
    "        #Falls der Zeitabstand der übrig bleibt immernoch grösser als\n",
    "        if iterated_delta > (max_delta - current_delta):\n",
    "\n",
    "            current_delta = abs((max_delta - current_delta)-iterated_delta)\n",
    "\n",
    "\n",
    "        elif iterated_delta <= (max_delta - current_delta):\n",
    "\n",
    "            current_delta = current_delta + iterated_delta\n",
    "\n",
    "    elif iterated_delta <= max_delta:\n",
    "\n",
    "        if iterated_delta > (max_delta - current_delta):\n",
    "            if status_netz:\n",
    "                incident_steine += steine_im_netz\n",
    "            steine_im_netz = 1\n",
    "            status_netz = netztest(False,0,iterated_energy)\n",
    "            masse_im_netz = df_sim[\"Mass_(kg)\"][i]\n",
    "            current_delta = abs((max_delta - current_delta)-iterated_delta)\n",
    "\n",
    "        elif iterated_delta <= (max_delta - current_delta):\n",
    "            steine_im_netz += 1\n",
    "            status_netz = netztest(status_netz,masse_im_netz,iterated_energy)\n",
    "            masse_im_netz += df_sim[\"Mass_(kg)\"][i]\n",
    "            current_delta = current_delta + iterated_delta\n",
    "\n",
    "\n",
    "\n",
    "print(\"Anzahl simulierte Steine: \",length)\n",
    "print(\"Anzahl incident Steine: \",incident_steine)\n",
    "print(incident_steine/length*100)"
   ],
   "metadata": {
    "collapsed": false
   }
  },
  {
   "cell_type": "code",
   "execution_count": 20,
   "outputs": [
    {
     "name": "stdout",
     "output_type": "stream",
     "text": [
      "0.010964536970704335\n"
     ]
    }
   ],
   "source": [
    "anzahl_sim_jahre = stunden_total / 8760\n",
    "steine_pro_jahr = (length / anzahl_sim_jahre)\n",
    "incident_prob_pro_stein = incident_steine/length\n",
    "incident_prob_pro_jahr = incident_prob_pro_stein * steine_pro_jahr\n",
    "print(incident_prob_pro_jahr)\n",
    "\n"
   ],
   "metadata": {
    "collapsed": false
   }
  },
  {
   "cell_type": "code",
   "execution_count": 21,
   "outputs": [],
   "source": [
    "def danger_zone(v_km_h,laenge_auto,autos_pro_tag):\n",
    "    seconds_per_year = 86400 * 365\n",
    "    v_m_s = (v_km_h / 3.6)\n",
    "    danger_time_pro_auto = (laenge_auto / v_m_s)\n",
    "    autos_pro_jahr = autos_pro_tag * 365\n",
    "    print(danger_time_pro_auto)\n",
    "    danger_time_total = danger_time_pro_auto * autos_pro_jahr\n",
    "    print(danger_time_total)\n",
    "    danger_percentage = (danger_time_total / seconds_per_year)\n",
    "    print(danger_percentage)\n",
    "\n",
    "    return danger_percentage"
   ],
   "metadata": {
    "collapsed": false
   }
  },
  {
   "cell_type": "code",
   "execution_count": 22,
   "outputs": [
    {
     "name": "stdout",
     "output_type": "stream",
     "text": [
      "0.264\n",
      "115632.0\n",
      "0.0036666666666666666\n"
     ]
    }
   ],
   "source": [
    "danger_strecke = danger_zone(60,4.4,1200)"
   ],
   "metadata": {
    "collapsed": false
   }
  },
  {
   "cell_type": "code",
   "execution_count": 23,
   "outputs": [],
   "source": [
    "def danger_zone_react(v_km_h,laenge_auto,autos_pro_tag):\n",
    "    seconds_per_year = 86400 * 365\n",
    "    v_m_s = (v_km_h / 3.6)\n",
    "    danger_time_pro_auto = 1.5\n",
    "    autos_pro_jahr = autos_pro_tag * 365\n",
    "    print(danger_time_pro_auto)\n",
    "    danger_time_total = danger_time_pro_auto * autos_pro_jahr\n",
    "    print(danger_time_total)\n",
    "    danger_percentage = (danger_time_total / seconds_per_year)\n",
    "    print(danger_percentage)\n",
    "\n",
    "    return danger_percentage"
   ],
   "metadata": {
    "collapsed": false
   }
  },
  {
   "cell_type": "code",
   "execution_count": 24,
   "outputs": [
    {
     "name": "stdout",
     "output_type": "stream",
     "text": [
      "1.5\n",
      "657000.0\n",
      "0.020833333333333332\n"
     ]
    }
   ],
   "source": [
    "danger_strecke_react = danger_zone_react(60,4.4,1200)"
   ],
   "metadata": {
    "collapsed": false
   }
  },
  {
   "cell_type": "code",
   "execution_count": 25,
   "outputs": [
    {
     "name": "stdout",
     "output_type": "stream",
     "text": [
      "0.010964536970704335\n",
      "0.0036666666666666666\n",
      "0.000269\n"
     ]
    }
   ],
   "source": [
    "print(incident_prob_pro_jahr)\n",
    "print(danger_strecke)\n",
    "print('{:f}'.format(incident_prob_pro_jahr * (danger_strecke + danger_strecke_react)))"
   ],
   "metadata": {
    "collapsed": false
   }
  },
  {
   "cell_type": "code",
   "execution_count": 25,
   "outputs": [],
   "source": [],
   "metadata": {
    "collapsed": false
   }
  }
 ],
 "metadata": {
  "kernelspec": {
   "display_name": "Python 3",
   "language": "python",
   "name": "python3"
  },
  "language_info": {
   "codemirror_mode": {
    "name": "ipython",
    "version": 2
   },
   "file_extension": ".py",
   "mimetype": "text/x-python",
   "name": "python",
   "nbconvert_exporter": "python",
   "pygments_lexer": "ipython2",
   "version": "2.7.6"
  }
 },
 "nbformat": 4,
 "nbformat_minor": 0
}
