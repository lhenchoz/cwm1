{
 "cells": [
  {
   "cell_type": "markdown",
   "source": [
    "Module importieren"
   ],
   "metadata": {
    "collapsed": false
   }
  },
  {
   "cell_type": "code",
   "execution_count": 266,
   "outputs": [],
   "source": [
    "import matplotlib.pyplot as plt\n",
    "import pandas as pd\n",
    "#import pd as pd\n",
    "import seaborn as sns\n",
    "from datetime import datetime\n",
    "from fitter import Fitter\n",
    "import numpy as np\n",
    "from scipy import stats\n",
    "import statsmodels.api as sm\n",
    "from tabulate import tabulate"
   ],
   "metadata": {
    "collapsed": false
   }
  },
  {
   "cell_type": "markdown",
   "source": [
    "Daten laden und säubern"
   ],
   "metadata": {
    "collapsed": false
   }
  },
  {
   "cell_type": "code",
   "execution_count": 267,
   "metadata": {
    "collapsed": true
   },
   "outputs": [],
   "source": [
    "def open_csv_to_df(directory):\n",
    "    df = pd.read_csv(directory)\n",
    "    df = df.iloc[0:,:4]\n",
    "    df.columns = [\"Date\", \"Time\", \"Mass_(kg)\", \"Velocity_(m/s)\"]\n",
    "    df.insert(4, \"Energy_(kJ)\", \"\")\n",
    "    df.insert(5, \"Date_and_Time\", \"\")\n",
    "    df.insert(6, \"Time_delta_(h)\", \"\")\n",
    "    for i in range(len(df)):\n",
    "        df.iloc[i,4] = 0.5 * float(df.iloc[i,2]) * float(df.iloc[i,3]) ** 2 / 1000 #calculation of Energy_(kJ)\n",
    "    df = df.sort_values(['Date', 'Time']).reset_index(drop=True)\n",
    "    df = df.dropna()\n",
    "\n",
    "    for i in range(len(df)):\n",
    "        date_raw = df.iloc[i,:].Date +\" \" +df.iloc[i,:].Time\n",
    "        date1 = datetime.strptime(date_raw, '%Y-%m-%d %H:%M')\n",
    "        df.iloc[i,5] = date1\n",
    "\n",
    "    for i in range(len(df)-1):\n",
    "        date1 = df.iloc[i,5]\n",
    "        date2 = df.iloc[i+1,5]\n",
    "        time_delta = date2 - date1\n",
    "        time_delta = (time_delta.days*24) + (time_delta.seconds//3600)\n",
    "        df.iloc[i+1,6] = time_delta\n",
    "\n",
    "    #Fitter kann keine NAs handhaben aus diesem Grund wird erste Beobachtung mit dem Median der Zeitabstände ersetzt.\n",
    "    df.iloc[0,6] = 0\n",
    "    df['Time_delta_(h)'] = df['Time_delta_(h)'].astype('int')\n",
    "    df.iloc[0,6] = df[\"Time_delta_(h)\"].median()\n",
    "\n",
    "    return df #this is the table with all stones combined"
   ]
  },
  {
   "cell_type": "code",
   "execution_count": 268,
   "outputs": [],
   "source": [
    "df1 = open_csv_to_df(\"./out_1.csv\")\n",
    "df2 = open_csv_to_df(\"./out_2.csv\")"
   ],
   "metadata": {
    "collapsed": false
   }
  },
  {
   "cell_type": "markdown",
   "source": [
    "Funktion für Fitting von Verteilungen"
   ],
   "metadata": {
    "collapsed": false
   }
  },
  {
   "cell_type": "code",
   "execution_count": 269,
   "outputs": [],
   "source": [
    "def fit_distribution(data):\n",
    "    count = 0\n",
    "    fitted_mass = Fitter(data)\n",
    "    fitted_mass.fit()\n",
    "    ks_summary = fitted_mass.summary()\n",
    "    distributions = ks_summary.index.values\n",
    "    print(ks_summary.iloc[:,-2:])\n",
    "    fig, ax = plt.subplots(1,5,figsize=(25, 5))\n",
    "    table = [['Distribution', 'Parameters']]\n",
    "\n",
    "    for i in distributions:\n",
    "        param = fitted_mass.fitted_param[i]\n",
    "        table.append([i, param])\n",
    "        dist_eval = eval('stats.' + i + '.rvs(*param, size = 1000)')\n",
    "        sm.qqplot_2samples(data, dist_eval, xlabel = i.capitalize() + ' Distribution', ylabel = 'Sample Distribution', line = '45' ,ax = ax[count])\n",
    "        count += 1\n",
    "    plt.show()\n",
    "    print(tabulate(table, headers = 'firstrow'))"
   ],
   "metadata": {
    "collapsed": false
   }
  },
  {
   "cell_type": "markdown",
   "source": [
    "Zone 1"
   ],
   "metadata": {
    "collapsed": false
   }
  },
  {
   "cell_type": "code",
   "execution_count": 270,
   "outputs": [],
   "source": [
    "#fit_distribution(df1['Mass_(kg)'])"
   ],
   "metadata": {
    "collapsed": false
   }
  },
  {
   "cell_type": "code",
   "execution_count": 271,
   "outputs": [],
   "source": [
    "#fit_distribution(df1[\"Velocity_(m/s)\"])"
   ],
   "metadata": {
    "collapsed": false
   }
  },
  {
   "cell_type": "code",
   "execution_count": 272,
   "outputs": [],
   "source": [
    "#fit_distribution(df1[\"Time_delta_(h)\"])"
   ],
   "metadata": {
    "collapsed": false
   }
  },
  {
   "cell_type": "markdown",
   "source": [
    "Zone 2"
   ],
   "metadata": {
    "collapsed": false
   }
  },
  {
   "cell_type": "code",
   "execution_count": 273,
   "outputs": [],
   "source": [
    "#fit_distribution(df2['Mass_(kg)'])"
   ],
   "metadata": {
    "collapsed": false
   }
  },
  {
   "cell_type": "code",
   "execution_count": 274,
   "outputs": [],
   "source": [
    "#fit_distribution(df2[\"Velocity_(m/s)\"])"
   ],
   "metadata": {
    "collapsed": false
   }
  },
  {
   "cell_type": "code",
   "execution_count": 275,
   "outputs": [],
   "source": [
    "#fit_distribution(df2[\"Time_delta_(h)\"])"
   ],
   "metadata": {
    "collapsed": false
   }
  },
  {
   "cell_type": "markdown",
   "source": [
    "Monte Carlo"
   ],
   "metadata": {
    "collapsed": false
   }
  },
  {
   "cell_type": "code",
   "execution_count": 276,
   "outputs": [],
   "source": [
    "def plot_verteilung(dataframe, x_val):\n",
    "    sns.set_style(\"white\")\n",
    "    sns.set_context(\"paper\", font_scale = 1.5)\n",
    "    sns.displot(data = dataframe, x = x_val, kind = \"hist\", bins = 150, aspect = 3.0)"
   ],
   "metadata": {
    "collapsed": false
   }
  },
  {
   "cell_type": "markdown",
   "source": [
    "Zone 1"
   ],
   "metadata": {
    "collapsed": false
   }
  },
  {
   "cell_type": "code",
   "execution_count": 277,
   "outputs": [],
   "source": [
    "mass1_sim = stats.norminvgauss.rvs(3.1212660746620413, 3.049636729092045, 34.65446329649014, 129.49172019279249, size = 1000000)\n",
    "df1_mass_sim = pd.DataFrame(mass1_sim)\n",
    "velocity1_sim = stats.norminvgauss.rvs(8.815229190843102, -1.1717104407578982, 9.56468292816113, 5.789676074259544, size = 1000000)\n",
    "df1_velocity_sim = pd.DataFrame(velocity1_sim)\n",
    "timedelta1_sim = stats.chi.rvs(0.6466917035616518, -8.620646255400194e-27, 50.086113926689904, size = 1000000)\n",
    "df1_timedelta_sim = pd.DataFrame(timedelta1_sim)\n",
    "#df1_mass_sim[df1_mass_sim[0] < 0][0]"
   ],
   "metadata": {
    "collapsed": false
   }
  },
  {
   "cell_type": "markdown",
   "source": [
    "Zone 2"
   ],
   "metadata": {
    "collapsed": false
   }
  },
  {
   "cell_type": "code",
   "execution_count": 278,
   "outputs": [],
   "source": [
    "mass2_sim = stats.skewcauchy.rvs(0.5654845478523323, 31.009036433794673, 28.383685799048294, size = 1000000)\n",
    "df2_mass_sim = pd.DataFrame(mass2_sim)\n",
    "velocity2_sim = stats.beta.rvs(2.135456049863241, 1.2827668923945292, 23.092130432299154, 23.56888476645474, size = 1000000)\n",
    "df2_velocity_sim = pd.DataFrame(velocity2_sim)\n",
    "timedelta2_sim = stats.expon.rvs(7.0, 59.322580645161295, size = 1000000)\n",
    "df2_timedelta_sim = pd.DataFrame(timedelta2_sim)"
   ],
   "metadata": {
    "collapsed": false
   }
  },
  {
   "cell_type": "code",
   "execution_count": 279,
   "outputs": [
    {
     "name": "stderr",
     "output_type": "stream",
     "text": [
      "C:\\Users\\logan\\AppData\\Local\\Temp\\ipykernel_25460\\3799432866.py:9: SettingWithCopyWarning: \n",
      "A value is trying to be set on a copy of a slice from a DataFrame\n",
      "\n",
      "See the caveats in the documentation: https://pandas.pydata.org/pandas-docs/stable/user_guide/indexing.html#returning-a-view-versus-a-copy\n",
      "  df1_sim[\"Time_delta_(h)\"][0] = 0\n"
     ]
    },
    {
     "data": {
      "text/plain": "          Mass_(kg)  Velocity_(m/s)  Energy_(kJ)  Time_delta_(h)\n0        538.367575        8.626566    20.032021          0.0000\n1        201.448927        9.802904     9.679311         30.3616\n2        164.786831        6.397353     3.372043         15.9085\n3        146.906923        8.796164     5.683278          1.4909\n4        573.921131        9.601341    26.453673          4.7295\n...             ...             ...          ...             ...\n999995   120.858248        8.587605     4.456464         65.4041\n999996  1112.893933       10.084778    56.592182          0.4198\n999997   906.770847       11.998929    65.275846         49.2900\n999998   290.549707       10.105571    14.835840          0.8733\n999999  3630.799670        9.176873   152.883878         23.2313\n\n[1000000 rows x 4 columns]",
      "text/html": "<div>\n<style scoped>\n    .dataframe tbody tr th:only-of-type {\n        vertical-align: middle;\n    }\n\n    .dataframe tbody tr th {\n        vertical-align: top;\n    }\n\n    .dataframe thead th {\n        text-align: right;\n    }\n</style>\n<table border=\"1\" class=\"dataframe\">\n  <thead>\n    <tr style=\"text-align: right;\">\n      <th></th>\n      <th>Mass_(kg)</th>\n      <th>Velocity_(m/s)</th>\n      <th>Energy_(kJ)</th>\n      <th>Time_delta_(h)</th>\n    </tr>\n  </thead>\n  <tbody>\n    <tr>\n      <th>0</th>\n      <td>538.367575</td>\n      <td>8.626566</td>\n      <td>20.032021</td>\n      <td>0.0000</td>\n    </tr>\n    <tr>\n      <th>1</th>\n      <td>201.448927</td>\n      <td>9.802904</td>\n      <td>9.679311</td>\n      <td>30.3616</td>\n    </tr>\n    <tr>\n      <th>2</th>\n      <td>164.786831</td>\n      <td>6.397353</td>\n      <td>3.372043</td>\n      <td>15.9085</td>\n    </tr>\n    <tr>\n      <th>3</th>\n      <td>146.906923</td>\n      <td>8.796164</td>\n      <td>5.683278</td>\n      <td>1.4909</td>\n    </tr>\n    <tr>\n      <th>4</th>\n      <td>573.921131</td>\n      <td>9.601341</td>\n      <td>26.453673</td>\n      <td>4.7295</td>\n    </tr>\n    <tr>\n      <th>...</th>\n      <td>...</td>\n      <td>...</td>\n      <td>...</td>\n      <td>...</td>\n    </tr>\n    <tr>\n      <th>999995</th>\n      <td>120.858248</td>\n      <td>8.587605</td>\n      <td>4.456464</td>\n      <td>65.4041</td>\n    </tr>\n    <tr>\n      <th>999996</th>\n      <td>1112.893933</td>\n      <td>10.084778</td>\n      <td>56.592182</td>\n      <td>0.4198</td>\n    </tr>\n    <tr>\n      <th>999997</th>\n      <td>906.770847</td>\n      <td>11.998929</td>\n      <td>65.275846</td>\n      <td>49.2900</td>\n    </tr>\n    <tr>\n      <th>999998</th>\n      <td>290.549707</td>\n      <td>10.105571</td>\n      <td>14.835840</td>\n      <td>0.8733</td>\n    </tr>\n    <tr>\n      <th>999999</th>\n      <td>3630.799670</td>\n      <td>9.176873</td>\n      <td>152.883878</td>\n      <td>23.2313</td>\n    </tr>\n  </tbody>\n</table>\n<p>1000000 rows × 4 columns</p>\n</div>"
     },
     "execution_count": 279,
     "metadata": {},
     "output_type": "execute_result"
    }
   ],
   "source": [
    "df1_sim = pd.DataFrame()\n",
    "df1_sim.insert(0, \"Mass_(kg)\", mass1_sim)\n",
    "df1_sim.insert(1, \"Velocity_(m/s)\", velocity1_sim)\n",
    "df1_sim.insert(2, \"Energy_(kJ)\", \"\")\n",
    "df1_sim.insert(3, \"Time_delta_(h)\", timedelta1_sim)\n",
    "\n",
    "\n",
    "df1_sim[\"Time_delta_(h)\"] = timedelta1_sim.round(4)\n",
    "df1_sim[\"Time_delta_(h)\"][0] = 0\n",
    "\n",
    "df1_sim = df1_sim.dropna()\n",
    "df1_sim[\"Energy_(kJ)\"] = (0.5 * df1_sim[\"Mass_(kg)\"] * (df1_sim[\"Velocity_(m/s)\"] ** 2)) / 1000\n",
    "df1_sim"
   ],
   "metadata": {
    "collapsed": false
   }
  },
  {
   "cell_type": "code",
   "execution_count": 280,
   "outputs": [
    {
     "data": {
      "text/plain": "1029.1350635652252"
     },
     "execution_count": 280,
     "metadata": {},
     "output_type": "execute_result"
    }
   ],
   "source": [
    "max(df1_sim[\"Energy_(kJ)\"])"
   ],
   "metadata": {
    "collapsed": false
   }
  },
  {
   "cell_type": "code",
   "execution_count": 281,
   "outputs": [
    {
     "data": {
      "text/plain": "15"
     },
     "execution_count": 281,
     "metadata": {},
     "output_type": "execute_result"
    }
   ],
   "source": [
    "87 % 24"
   ],
   "metadata": {
    "collapsed": false
   }
  },
  {
   "cell_type": "code",
   "execution_count": 282,
   "outputs": [
    {
     "data": {
      "text/plain": "15"
     },
     "execution_count": 282,
     "metadata": {},
     "output_type": "execute_result"
    }
   ],
   "source": [
    "87 - 24 -24 -24"
   ],
   "metadata": {
    "collapsed": false
   }
  },
  {
   "cell_type": "code",
   "execution_count": 283,
   "outputs": [
    {
     "name": "stdout",
     "output_type": "stream",
     "text": [
      "    Mass_(kg)  Velocity_(m/s)  Energy_(kJ)  Time_delta_(h)\n",
      "1  201.448927        9.802904     9.679311         30.3616\n",
      "2  164.786831        6.397353     3.372043         15.9085\n"
     ]
    },
    {
     "name": "stderr",
     "output_type": "stream",
     "text": [
      "C:\\Users\\logan\\AppData\\Local\\Temp\\ipykernel_25460\\3055680985.py:7: FutureWarning: The frame.append method is deprecated and will be removed from pandas in a future version. Use pandas.concat instead.\n",
      "  x = x.append(df1_sim.iloc[1,:])\n",
      "C:\\Users\\logan\\AppData\\Local\\Temp\\ipykernel_25460\\3055680985.py:8: FutureWarning: The frame.append method is deprecated and will be removed from pandas in a future version. Use pandas.concat instead.\n",
      "  x = x.append(df1_sim.iloc[2,:])\n"
     ]
    }
   ],
   "source": [
    "x = pd.DataFrame()\n",
    "x.insert(0, \"Mass_(kg)\",\"\")\n",
    "x.insert(1, \"Velocity_(m/s)\",\"\")\n",
    "x.insert(2, \"Energy_(kJ)\",\"\")\n",
    "x.insert(3, \"Time_delta_(h)\",\"\")\n",
    "\n",
    "x = x.append(df1_sim.iloc[1,:])\n",
    "x = x.append(df1_sim.iloc[2,:])\n",
    "print(x)"
   ],
   "metadata": {
    "collapsed": false
   }
  },
  {
   "cell_type": "code",
   "execution_count": 284,
   "outputs": [],
   "source": [
    "def netztest(gewicht_im_netz,aufprallenergie):\n",
    "    if gewicht_im_netz > 2000:\n",
    "        if aufprallenergie > 500:\n",
    "            return True\n",
    "        else:\n",
    "            return False\n",
    "    elif gewicht_im_netz <= 2000:\n",
    "        if aufprallenergie > 1000:\n",
    "            return True\n",
    "        else:\n",
    "            return False\n",
    "    else:\n",
    "        return False"
   ],
   "metadata": {
    "collapsed": false
   }
  },
  {
   "cell_type": "code",
   "execution_count": 285,
   "outputs": [
    {
     "data": {
      "text/plain": "True"
     },
     "execution_count": 285,
     "metadata": {},
     "output_type": "execute_result"
    }
   ],
   "source": [
    "netztest(2020,600)"
   ],
   "metadata": {
    "collapsed": false
   }
  },
  {
   "cell_type": "code",
   "execution_count": 292,
   "outputs": [
    {
     "name": "stdout",
     "output_type": "stream",
     "text": [
      "Anzahl Steinfälle: 1000000\n",
      "Prozente Incidents: 0.0127 %\n",
      "Totale_Stunden: 29161194.12549969\n",
      "Anzahl Jahre: 3328.903438983983\n",
      "Anzahl Incidents pro Jahr: 26.211838102236086\n",
      "Prozente Incidents pro Jahr: 0.3328903438983983 %\n"
     ]
    }
   ],
   "source": [
    "max_delta = 24\n",
    "current_delta = 0\n",
    "netz = 0\n",
    "steine_im_netz = 0\n",
    "incidents = 0\n",
    "incidents_stones = 0\n",
    "stunden_total = 0\n",
    "\n",
    "for i in range(int(len(df1_sim))):\n",
    "    iterated_delta = df1_sim[\"Time_delta_(h)\"][i]\n",
    "    iterated_energy = df1_sim[\"Energy_(kJ)\"][i]\n",
    "    incident_status = False\n",
    "    stunden_total += iterated_delta\n",
    "\n",
    "\n",
    "    if iterated_delta > max_delta:\n",
    "\n",
    "        netz = df1_sim[\"Mass_(kg)\"][i]\n",
    "        steine_im_netz = 1\n",
    "        incident_status = netztest(netz,iterated_energy)\n",
    "        iterated_delta = iterated_delta % max_delta\n",
    "        if iterated_delta > (max_delta - current_delta):\n",
    "\n",
    "            current_delta = abs((max_delta - current_delta)-iterated_delta)\n",
    "\n",
    "        elif iterated_delta <= (max_delta - current_delta):\n",
    "\n",
    "            current_delta = current_delta + iterated_delta\n",
    "\n",
    "    elif iterated_delta <= max_delta:\n",
    "\n",
    "        if iterated_delta > (max_delta - current_delta):\n",
    "            netz = df1_sim[\"Mass_(kg)\"][i]\n",
    "            steine_im_netz = 1\n",
    "            incident_status = netztest(netz,iterated_energy)\n",
    "\n",
    "            current_delta = abs((max_delta - current_delta)-iterated_delta)\n",
    "\n",
    "        elif iterated_delta <= (max_delta - current_delta):\n",
    "            incident_status = netztest(netz,iterated_energy)\n",
    "            netz = netz + df1_sim[\"Mass_(kg)\"][i]\n",
    "            steine_im_netz += 1\n",
    "            current_delta = current_delta + iterated_delta\n",
    "\n",
    "    if incident_status == True:\n",
    "        incidents += 1\n",
    "        incidents_stones += steine_im_netz\n",
    "\n",
    "print(\"Anzahl Steinfälle:\", len(df1_sim))\n",
    "print(\"Prozente Incidents:\", incidents_stones / len(df1_sim) * 100,\"%\")\n",
    "print(\"Totale_Stunden:\", stunden_total)\n",
    "print(\"Anzahl Jahre:\", stunden_total/8760)\n",
    "print(\"Anzahl Incidents pro Jahr:\", (stunden_total/8760) / incidents_stones)\n",
    "print(\"Prozente Incidents pro Jahr:\", ((stunden_total/8760) / incidents_stones)*(incidents_stones / len(df1_sim) * 100),\"%\")\n",
    "\n",
    "#prüfen was passiert wenn netz gefallen, ob dann steine die fallen durchfallen oder nicht"
   ],
   "metadata": {
    "collapsed": false
   }
  },
  {
   "cell_type": "code",
   "execution_count": 286,
   "outputs": [],
   "source": [],
   "metadata": {
    "collapsed": false
   }
  }
 ],
 "metadata": {
  "kernelspec": {
   "display_name": "Python 3",
   "language": "python",
   "name": "python3"
  },
  "language_info": {
   "codemirror_mode": {
    "name": "ipython",
    "version": 2
   },
   "file_extension": ".py",
   "mimetype": "text/x-python",
   "name": "python",
   "nbconvert_exporter": "python",
   "pygments_lexer": "ipython2",
   "version": "2.7.6"
  }
 },
 "nbformat": 4,
 "nbformat_minor": 0
}
