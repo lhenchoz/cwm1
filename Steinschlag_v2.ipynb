{
 "cells": [
  {
   "cell_type": "markdown",
   "source": [
    "Module importieren"
   ],
   "metadata": {
    "collapsed": false
   }
  },
  {
   "cell_type": "code",
   "execution_count": 59,
   "outputs": [],
   "source": [
    "import matplotlib.pyplot as plt\n",
    "import pandas as pd\n",
    "#import pd as pd\n",
    "import seaborn as sns\n",
    "from datetime import datetime\n",
    "from fitter import Fitter\n",
    "import numpy as np\n",
    "from scipy import stats\n",
    "import statsmodels.api as sm\n",
    "from tabulate import tabulate"
   ],
   "metadata": {
    "collapsed": false
   }
  },
  {
   "cell_type": "markdown",
   "source": [
    "Daten laden und säubern"
   ],
   "metadata": {
    "collapsed": false
   }
  },
  {
   "cell_type": "code",
   "execution_count": 60,
   "metadata": {
    "collapsed": true
   },
   "outputs": [],
   "source": [
    "def open_csv_to_df(directory):\n",
    "    df = pd.read_csv(directory)\n",
    "    df = df.iloc[0:,:4]\n",
    "    df.columns = [\"Date\", \"Time\", \"Mass_(kg)\", \"Velocity_(m/s)\"]\n",
    "    df.insert(4, \"Energy_(kJ)\", \"\")\n",
    "    df.insert(5, \"Date_and_Time\", \"\")\n",
    "    df.insert(6, \"Time_delta_(h)\", \"\")\n",
    "    for i in range(len(df)):\n",
    "        df.iloc[i,4] = 0.5 * float(df.iloc[i,2]) * float(df.iloc[i,3]) ** 2 / 1000 #calculation of Energy_(kJ)\n",
    "    df = df.sort_values(['Date', 'Time']).reset_index(drop=True)\n",
    "    df = df.dropna()\n",
    "\n",
    "    for i in range(len(df)):\n",
    "        date_raw = df.iloc[i,:].Date +\" \" +df.iloc[i,:].Time\n",
    "        date1 = datetime.strptime(date_raw, '%Y-%m-%d %H:%M')\n",
    "        df.iloc[i,5] = date1\n",
    "\n",
    "    for i in range(len(df)-1):\n",
    "        date1 = df.iloc[i,5]\n",
    "        date2 = df.iloc[i+1,5]\n",
    "        time_delta = date2 - date1\n",
    "        time_delta = (time_delta.days*24) + (time_delta.seconds//3600)\n",
    "        df.iloc[i+1,6] = time_delta\n",
    "\n",
    "    #Fitter kann keine NAs handhaben aus diesem Grund wird erste Beobachtung mit dem Median der Zeitabstände ersetzt.\n",
    "    df.iloc[0,6] = 0\n",
    "    df['Time_delta_(h)'] = df['Time_delta_(h)'].astype('int')\n",
    "    df.iloc[0,6] = df[\"Time_delta_(h)\"].median()\n",
    "\n",
    "    return df #this is the table with all stones combined"
   ]
  },
  {
   "cell_type": "code",
   "execution_count": 61,
   "outputs": [],
   "source": [
    "df1 = open_csv_to_df(\"./out_1.csv\")\n",
    "df2 = open_csv_to_df(\"./out_2.csv\")"
   ],
   "metadata": {
    "collapsed": false
   }
  },
  {
   "cell_type": "markdown",
   "source": [
    "Funktion für Fitting von Verteilungen"
   ],
   "metadata": {
    "collapsed": false
   }
  },
  {
   "cell_type": "code",
   "execution_count": 62,
   "outputs": [],
   "source": [
    "def fit_distribution(data):\n",
    "    count = 0\n",
    "    fitted_mass = Fitter(data)\n",
    "    fitted_mass.fit()\n",
    "    ks_summary = fitted_mass.summary()\n",
    "    distributions = ks_summary.index.values\n",
    "    print(ks_summary.iloc[:,-2:])\n",
    "    fig, ax = plt.subplots(1,5,figsize=(25, 5))\n",
    "    table = [['Distribution', 'Parameters']]\n",
    "\n",
    "    for i in distributions:\n",
    "        param = fitted_mass.fitted_param[i]\n",
    "        table.append([i, param])\n",
    "        dist_eval = eval('stats.' + i + '.rvs(*param, size = 1000)')\n",
    "        sm.qqplot_2samples(data, dist_eval, xlabel = i.capitalize() + ' Distribution', ylabel = 'Sample Distribution', line = '45' ,ax = ax[count])\n",
    "        count += 1\n",
    "    plt.show()\n",
    "    print(tabulate(table, headers = 'firstrow'))"
   ],
   "metadata": {
    "collapsed": false
   }
  },
  {
   "cell_type": "markdown",
   "source": [
    "Zone 1"
   ],
   "metadata": {
    "collapsed": false
   }
  },
  {
   "cell_type": "code",
   "execution_count": 63,
   "outputs": [],
   "source": [
    "#fit_distribution(df1['Mass_(kg)'])"
   ],
   "metadata": {
    "collapsed": false
   }
  },
  {
   "cell_type": "code",
   "execution_count": 64,
   "outputs": [],
   "source": [
    "#fit_distribution(df1[\"Velocity_(m/s)\"])"
   ],
   "metadata": {
    "collapsed": false
   }
  },
  {
   "cell_type": "code",
   "execution_count": 65,
   "outputs": [],
   "source": [
    "#fit_distribution(df1[\"Time_delta_(h)\"])"
   ],
   "metadata": {
    "collapsed": false
   }
  },
  {
   "cell_type": "markdown",
   "source": [
    "Zone 2"
   ],
   "metadata": {
    "collapsed": false
   }
  },
  {
   "cell_type": "code",
   "execution_count": 66,
   "outputs": [],
   "source": [
    "#fit_distribution(df2['Mass_(kg)'])"
   ],
   "metadata": {
    "collapsed": false
   }
  },
  {
   "cell_type": "code",
   "execution_count": 67,
   "outputs": [],
   "source": [
    "#fit_distribution(df2[\"Velocity_(m/s)\"])"
   ],
   "metadata": {
    "collapsed": false
   }
  },
  {
   "cell_type": "code",
   "execution_count": 68,
   "outputs": [],
   "source": [
    "#fit_distribution(df2[\"Time_delta_(h)\"])"
   ],
   "metadata": {
    "collapsed": false
   }
  },
  {
   "cell_type": "markdown",
   "source": [
    "Monte Carlo"
   ],
   "metadata": {
    "collapsed": false
   }
  },
  {
   "cell_type": "code",
   "execution_count": 69,
   "outputs": [],
   "source": [
    "def plot_verteilung(dataframe, x_val):\n",
    "    sns.set_style(\"white\")\n",
    "    sns.set_context(\"paper\", font_scale = 1.5)\n",
    "    sns.displot(data = dataframe, x = x_val, kind = \"hist\", bins = 150, aspect = 3.0)"
   ],
   "metadata": {
    "collapsed": false
   }
  },
  {
   "cell_type": "markdown",
   "source": [
    "Zone 1"
   ],
   "metadata": {
    "collapsed": false
   }
  },
  {
   "cell_type": "code",
   "execution_count": 70,
   "outputs": [],
   "source": [
    "mass1_sim = stats.norminvgauss.rvs(3.1212660746620413, 3.049636729092045, 34.65446329649014, 129.49172019279249, size = 1000000)\n",
    "df1_mass_sim = pd.DataFrame(mass1_sim)\n",
    "velocity1_sim = stats.norminvgauss.rvs(8.815229190843102, -1.1717104407578982, 9.56468292816113, 5.789676074259544, size = 1000000)\n",
    "df1_velocity_sim = pd.DataFrame(velocity1_sim)\n",
    "timedelta1_sim = stats.chi.rvs(0.6466917035616518, -8.620646255400194e-27, 50.086113926689904, size = 1000000)\n",
    "df1_timedelta_sim = pd.DataFrame(timedelta1_sim)\n",
    "#df1_mass_sim[df1_mass_sim[0] < 0][0]"
   ],
   "metadata": {
    "collapsed": false
   }
  },
  {
   "cell_type": "markdown",
   "source": [
    "Zone 2"
   ],
   "metadata": {
    "collapsed": false
   }
  },
  {
   "cell_type": "code",
   "execution_count": 71,
   "outputs": [],
   "source": [
    "mass2_sim = stats.skewcauchy.rvs(0.5654845478523323, 31.009036433794673, 28.383685799048294, size = 1000000)\n",
    "df2_mass_sim = pd.DataFrame(mass2_sim)\n",
    "velocity2_sim = stats.beta.rvs(2.135456049863241, 1.2827668923945292, 23.092130432299154, 23.56888476645474, size = 1000000)\n",
    "df2_velocity_sim = pd.DataFrame(velocity2_sim)\n",
    "timedelta2_sim = stats.expon.rvs(7.0, 59.322580645161295, size = 1000000)\n",
    "df2_timedelta_sim = pd.DataFrame(timedelta2_sim)"
   ],
   "metadata": {
    "collapsed": false
   }
  },
  {
   "cell_type": "code",
   "execution_count": 72,
   "outputs": [
    {
     "name": "stderr",
     "output_type": "stream",
     "text": [
      "C:\\Users\\logan\\AppData\\Local\\Temp\\ipykernel_25460\\3799432866.py:9: SettingWithCopyWarning: \n",
      "A value is trying to be set on a copy of a slice from a DataFrame\n",
      "\n",
      "See the caveats in the documentation: https://pandas.pydata.org/pandas-docs/stable/user_guide/indexing.html#returning-a-view-versus-a-copy\n",
      "  df1_sim[\"Time_delta_(h)\"][0] = 0\n"
     ]
    },
    {
     "data": {
      "text/plain": "          Mass_(kg)  Velocity_(m/s)  Energy_(kJ)  Time_delta_(h)\n0         29.343773        3.887281     0.221706          0.0000\n1        552.888813        9.354147    24.188904          4.0426\n2       2785.471132       10.129298   142.898410          4.3421\n3        326.038977        8.714584    12.380347         31.6137\n4       1665.923894       11.259898   105.607337         11.2211\n...             ...             ...          ...             ...\n999995   265.846069        6.919675     6.364608          0.6657\n999996  1962.234228        8.179620    65.642808         12.6499\n999997   163.624968       10.590579     9.176119         15.1717\n999998  2143.153393       13.745562   202.464213          1.4500\n999999   389.620177       10.162163    20.117951          3.4922\n\n[1000000 rows x 4 columns]",
      "text/html": "<div>\n<style scoped>\n    .dataframe tbody tr th:only-of-type {\n        vertical-align: middle;\n    }\n\n    .dataframe tbody tr th {\n        vertical-align: top;\n    }\n\n    .dataframe thead th {\n        text-align: right;\n    }\n</style>\n<table border=\"1\" class=\"dataframe\">\n  <thead>\n    <tr style=\"text-align: right;\">\n      <th></th>\n      <th>Mass_(kg)</th>\n      <th>Velocity_(m/s)</th>\n      <th>Energy_(kJ)</th>\n      <th>Time_delta_(h)</th>\n    </tr>\n  </thead>\n  <tbody>\n    <tr>\n      <th>0</th>\n      <td>29.343773</td>\n      <td>3.887281</td>\n      <td>0.221706</td>\n      <td>0.0000</td>\n    </tr>\n    <tr>\n      <th>1</th>\n      <td>552.888813</td>\n      <td>9.354147</td>\n      <td>24.188904</td>\n      <td>4.0426</td>\n    </tr>\n    <tr>\n      <th>2</th>\n      <td>2785.471132</td>\n      <td>10.129298</td>\n      <td>142.898410</td>\n      <td>4.3421</td>\n    </tr>\n    <tr>\n      <th>3</th>\n      <td>326.038977</td>\n      <td>8.714584</td>\n      <td>12.380347</td>\n      <td>31.6137</td>\n    </tr>\n    <tr>\n      <th>4</th>\n      <td>1665.923894</td>\n      <td>11.259898</td>\n      <td>105.607337</td>\n      <td>11.2211</td>\n    </tr>\n    <tr>\n      <th>...</th>\n      <td>...</td>\n      <td>...</td>\n      <td>...</td>\n      <td>...</td>\n    </tr>\n    <tr>\n      <th>999995</th>\n      <td>265.846069</td>\n      <td>6.919675</td>\n      <td>6.364608</td>\n      <td>0.6657</td>\n    </tr>\n    <tr>\n      <th>999996</th>\n      <td>1962.234228</td>\n      <td>8.179620</td>\n      <td>65.642808</td>\n      <td>12.6499</td>\n    </tr>\n    <tr>\n      <th>999997</th>\n      <td>163.624968</td>\n      <td>10.590579</td>\n      <td>9.176119</td>\n      <td>15.1717</td>\n    </tr>\n    <tr>\n      <th>999998</th>\n      <td>2143.153393</td>\n      <td>13.745562</td>\n      <td>202.464213</td>\n      <td>1.4500</td>\n    </tr>\n    <tr>\n      <th>999999</th>\n      <td>389.620177</td>\n      <td>10.162163</td>\n      <td>20.117951</td>\n      <td>3.4922</td>\n    </tr>\n  </tbody>\n</table>\n<p>1000000 rows × 4 columns</p>\n</div>"
     },
     "execution_count": 72,
     "metadata": {},
     "output_type": "execute_result"
    }
   ],
   "source": [
    "df1_sim = pd.DataFrame()\n",
    "df1_sim.insert(0, \"Mass_(kg)\", mass1_sim)\n",
    "df1_sim.insert(1, \"Velocity_(m/s)\", velocity1_sim)\n",
    "df1_sim.insert(2, \"Energy_(kJ)\", \"\")\n",
    "df1_sim.insert(3, \"Time_delta_(h)\", timedelta1_sim)\n",
    "\n",
    "\n",
    "df1_sim[\"Time_delta_(h)\"] = timedelta1_sim.round(4)\n",
    "df1_sim[\"Time_delta_(h)\"][0] = 0\n",
    "\n",
    "df1_sim = df1_sim.dropna()\n",
    "df1_sim[\"Energy_(kJ)\"] = (0.5 * df1_sim[\"Mass_(kg)\"] * (df1_sim[\"Velocity_(m/s)\"] ** 2)) / 1000\n",
    "df1_sim"
   ],
   "metadata": {
    "collapsed": false
   }
  },
  {
   "cell_type": "code",
   "execution_count": 73,
   "outputs": [
    {
     "data": {
      "text/plain": "1042.8483192957071"
     },
     "execution_count": 73,
     "metadata": {},
     "output_type": "execute_result"
    }
   ],
   "source": [
    "max(df1_sim[\"Energy_(kJ)\"])"
   ],
   "metadata": {
    "collapsed": false
   }
  },
  {
   "cell_type": "code",
   "execution_count": 74,
   "outputs": [
    {
     "data": {
      "text/plain": "15"
     },
     "execution_count": 74,
     "metadata": {},
     "output_type": "execute_result"
    }
   ],
   "source": [
    "87 % 24"
   ],
   "metadata": {
    "collapsed": false
   }
  },
  {
   "cell_type": "code",
   "execution_count": 75,
   "outputs": [
    {
     "data": {
      "text/plain": "15"
     },
     "execution_count": 75,
     "metadata": {},
     "output_type": "execute_result"
    }
   ],
   "source": [
    "87 - 24 -24 -24"
   ],
   "metadata": {
    "collapsed": false
   }
  },
  {
   "cell_type": "code",
   "execution_count": 207,
   "outputs": [
    {
     "name": "stdout",
     "output_type": "stream",
     "text": [
      "     Mass_(kg)  Velocity_(m/s)  Energy_(kJ)  Time_delta_(h)\n",
      "1   552.888813        9.354147    24.188904          4.0426\n",
      "2  2785.471132       10.129298   142.898410          4.3421\n"
     ]
    },
    {
     "name": "stderr",
     "output_type": "stream",
     "text": [
      "C:\\Users\\logan\\AppData\\Local\\Temp\\ipykernel_25460\\3055680985.py:7: FutureWarning: The frame.append method is deprecated and will be removed from pandas in a future version. Use pandas.concat instead.\n",
      "  x = x.append(df1_sim.iloc[1,:])\n",
      "C:\\Users\\logan\\AppData\\Local\\Temp\\ipykernel_25460\\3055680985.py:8: FutureWarning: The frame.append method is deprecated and will be removed from pandas in a future version. Use pandas.concat instead.\n",
      "  x = x.append(df1_sim.iloc[2,:])\n"
     ]
    }
   ],
   "source": [
    "x = pd.DataFrame()\n",
    "x.insert(0, \"Mass_(kg)\",\"\")\n",
    "x.insert(1, \"Velocity_(m/s)\",\"\")\n",
    "x.insert(2, \"Energy_(kJ)\",\"\")\n",
    "x.insert(3, \"Time_delta_(h)\",\"\")\n",
    "\n",
    "x = x.append(df1_sim.iloc[1,:])\n",
    "x = x.append(df1_sim.iloc[2,:])\n",
    "print(x)"
   ],
   "metadata": {
    "collapsed": false
   }
  },
  {
   "cell_type": "code",
   "execution_count": 226,
   "outputs": [
    {
     "name": "stdout",
     "output_type": "stream",
     "text": [
      "<class 'pandas.core.frame.DataFrame'>\n",
      "iterated: 0.0\n",
      "current: 0.0\n",
      "---------------\n",
      "<class 'pandas.core.frame.DataFrame'>\n",
      "iterated: 4.0426\n",
      "current: 4.0426\n",
      "---------------\n",
      "<class 'pandas.core.frame.DataFrame'>\n",
      "iterated: 4.3421\n",
      "current: 8.3847\n",
      "---------------\n",
      "<class 'pandas.core.frame.DataFrame'>\n",
      "iterated: 7.6137000000000015\n",
      "current: 15.998400000000002\n",
      "---------------\n",
      "<class 'pandas.core.frame.DataFrame'>\n",
      "neuer slot\n",
      "iterated: 11.2211\n",
      "current: 3.219500000000002\n",
      "---------------\n",
      "<class 'numpy.float64'>\n"
     ]
    },
    {
     "name": "stderr",
     "output_type": "stream",
     "text": [
      "C:\\Users\\logan\\AppData\\Local\\Temp\\ipykernel_25460\\1076895105.py:36: FutureWarning: The frame.append method is deprecated and will be removed from pandas in a future version. Use pandas.concat instead.\n",
      "  netz = netz.append(df1_sim.iloc[i,:])\n",
      "C:\\Users\\logan\\AppData\\Local\\Temp\\ipykernel_25460\\1076895105.py:36: FutureWarning: The frame.append method is deprecated and will be removed from pandas in a future version. Use pandas.concat instead.\n",
      "  netz = netz.append(df1_sim.iloc[i,:])\n",
      "C:\\Users\\logan\\AppData\\Local\\Temp\\ipykernel_25460\\1076895105.py:36: FutureWarning: The frame.append method is deprecated and will be removed from pandas in a future version. Use pandas.concat instead.\n",
      "  netz = netz.append(df1_sim.iloc[i,:])\n",
      "C:\\Users\\logan\\AppData\\Local\\Temp\\ipykernel_25460\\1076895105.py:23: FutureWarning: The frame.append method is deprecated and will be removed from pandas in a future version. Use pandas.concat instead.\n",
      "  netz = netz.append(df1_sim.iloc[i,:])\n"
     ]
    },
    {
     "ename": "AttributeError",
     "evalue": "'numpy.float64' object has no attribute 'append'",
     "output_type": "error",
     "traceback": [
      "\u001B[1;31m---------------------------------------------------------------------------\u001B[0m",
      "\u001B[1;31mAttributeError\u001B[0m                            Traceback (most recent call last)",
      "Cell \u001B[1;32mIn[226], line 36\u001B[0m\n\u001B[0;32m     34\u001B[0m     \u001B[38;5;28;01melif\u001B[39;00m iterated_delta \u001B[38;5;241m<\u001B[39m\u001B[38;5;241m=\u001B[39m (max_delta \u001B[38;5;241m-\u001B[39m current_delta):\n\u001B[0;32m     35\u001B[0m         current_delta \u001B[38;5;241m=\u001B[39m current_delta \u001B[38;5;241m+\u001B[39m iterated_delta\n\u001B[1;32m---> 36\u001B[0m         netz \u001B[38;5;241m=\u001B[39m \u001B[43mnetz\u001B[49m\u001B[38;5;241;43m.\u001B[39;49m\u001B[43mappend\u001B[49m(df1_sim\u001B[38;5;241m.\u001B[39miloc[i,:])\n\u001B[0;32m     40\u001B[0m \u001B[38;5;28mprint\u001B[39m(\u001B[38;5;124m\"\u001B[39m\u001B[38;5;124miterated:\u001B[39m\u001B[38;5;124m\"\u001B[39m,iterated_delta)\n\u001B[0;32m     41\u001B[0m \u001B[38;5;28mprint\u001B[39m(\u001B[38;5;124m\"\u001B[39m\u001B[38;5;124mcurrent:\u001B[39m\u001B[38;5;124m\"\u001B[39m,current_delta)\n",
      "\u001B[1;31mAttributeError\u001B[0m: 'numpy.float64' object has no attribute 'append'"
     ]
    }
   ],
   "source": [
    "max_delta = 24\n",
    "current_delta = 0\n",
    "netz = pd.DataFrame()\n",
    "netz.insert(0, \"Mass_(kg)\",\"\")\n",
    "netz.insert(1, \"Velocity_(m/s)\",\"\")\n",
    "netz.insert(2, \"Energy_(kJ)\",\"\")\n",
    "netz.insert(3, \"Time_delta_(h)\",\"\")\n",
    "netz.insert(4, \"N/A\",\"\")\n",
    "\n",
    "for i in range(int(len(df1_sim) / 100000)):\n",
    "    print(type(netz))\n",
    "    iterated_delta = df1_sim[\"Time_delta_(h)\"][i]\n",
    "\n",
    "    if iterated_delta > max_delta:\n",
    "        iterated_delta = iterated_delta % max_delta\n",
    "\n",
    "        if iterated_delta > (max_delta - current_delta):\n",
    "            current_delta = abs((max_delta - current_delta)-iterated_delta)\n",
    "            print(\"neuer slot\")\n",
    "\n",
    "        elif iterated_delta <= (max_delta - current_delta):\n",
    "            current_delta = current_delta + iterated_delta\n",
    "            netz = netz.append(df1_sim.iloc[i,:])\n",
    "    elif iterated_delta <= max_delta:\n",
    "\n",
    "        if iterated_delta > (max_delta - current_delta):\n",
    "            current_delta = abs((max_delta - current_delta)-iterated_delta)\n",
    "            netz = df1_sim[\"Mass_(kg)\"][i]\n",
    "            print(\"neuer slot\")\n",
    "            if type(netz) == \"pandas.core.frame.DataFrame\":\n",
    "                print(\"leeeeer\")\n",
    "                netz = netz.dropna()\n",
    "\n",
    "        elif iterated_delta <= (max_delta - current_delta):\n",
    "            current_delta = current_delta + iterated_delta\n",
    "            netz = netz.append(df1_sim.iloc[i,:])\n",
    "\n",
    "\n",
    "\n",
    "    print(\"iterated:\",iterated_delta)\n",
    "    print(\"current:\",current_delta)\n",
    "    print(\"---------------\")\n",
    "\n",
    "#maybe einfach generell % 24 machen"
   ],
   "metadata": {
    "collapsed": false
   }
  },
  {
   "cell_type": "code",
   "execution_count": null,
   "outputs": [],
   "source": [],
   "metadata": {
    "collapsed": false
   }
  }
 ],
 "metadata": {
  "kernelspec": {
   "display_name": "Python 3",
   "language": "python",
   "name": "python3"
  },
  "language_info": {
   "codemirror_mode": {
    "name": "ipython",
    "version": 2
   },
   "file_extension": ".py",
   "mimetype": "text/x-python",
   "name": "python",
   "nbconvert_exporter": "python",
   "pygments_lexer": "ipython2",
   "version": "2.7.6"
  }
 },
 "nbformat": 4,
 "nbformat_minor": 0
}
