{
 "cells": [
  {
   "cell_type": "markdown",
   "source": [
    "Module importieren"
   ],
   "metadata": {
    "collapsed": false
   }
  },
  {
   "cell_type": "code",
   "execution_count": 244,
   "outputs": [],
   "source": [
    "import matplotlib.pyplot as plt\n",
    "import pandas as pd\n",
    "#import pd as pd\n",
    "import seaborn as sns\n",
    "from datetime import datetime\n",
    "from fitter import Fitter\n",
    "import numpy as np\n",
    "from scipy import stats\n",
    "import statsmodels.api as sm\n",
    "from tabulate import tabulate"
   ],
   "metadata": {
    "collapsed": false
   }
  },
  {
   "cell_type": "markdown",
   "source": [
    "Daten laden und säubern"
   ],
   "metadata": {
    "collapsed": false
   }
  },
  {
   "cell_type": "code",
   "execution_count": 245,
   "metadata": {
    "collapsed": true
   },
   "outputs": [],
   "source": [
    "def open_csv_to_df(directory):\n",
    "    df = pd.read_csv(directory)\n",
    "    df = df.iloc[0:,:4]\n",
    "    df.columns = [\"Date\", \"Time\", \"Mass_(kg)\", \"Velocity_(m/s)\"]\n",
    "    df.insert(4, \"Energy_(kJ)\", \"\")\n",
    "    df.insert(5, \"Date_and_Time\", \"\")\n",
    "    df.insert(6, \"Time_delta_(h)\", \"\")\n",
    "    for i in range(len(df)):\n",
    "        df.iloc[i,4] = 0.5 * float(df.iloc[i,2]) * float(df.iloc[i,3]) ** 2 / 1000 #calculation of Energy_(kJ)\n",
    "    df = df.sort_values(['Date', 'Time']).reset_index(drop=True)\n",
    "    df = df.dropna()\n",
    "\n",
    "    for i in range(len(df)):\n",
    "        date_raw = df.iloc[i,:].Date +\" \" +df.iloc[i,:].Time\n",
    "        date1 = datetime.strptime(date_raw, '%Y-%m-%d %H:%M')\n",
    "        df.iloc[i,5] = date1\n",
    "\n",
    "    for i in range(len(df)-1):\n",
    "        date1 = df.iloc[i,5]\n",
    "        date2 = df.iloc[i+1,5]\n",
    "        time_delta = date2 - date1\n",
    "        time_delta = (time_delta.days*24) + (time_delta.seconds//3600)\n",
    "        df.iloc[i+1,6] = time_delta\n",
    "\n",
    "    #Fitter kann keine NAs handhaben aus diesem Grund wird erste Beobachtung mit dem Median der Zeitabstände ersetzt.\n",
    "    df.iloc[0,6] = 0\n",
    "    df['Time_delta_(h)'] = df['Time_delta_(h)'].astype('int')\n",
    "    df.iloc[0,6] = df[\"Time_delta_(h)\"].median()\n",
    "\n",
    "    return df #this is the table with all stones combined"
   ]
  },
  {
   "cell_type": "code",
   "execution_count": 246,
   "outputs": [],
   "source": [
    "df1 = open_csv_to_df(\"./out_1.csv\")\n",
    "df2 = open_csv_to_df(\"./out_2.csv\")"
   ],
   "metadata": {
    "collapsed": false
   }
  },
  {
   "cell_type": "markdown",
   "source": [
    "Funktion für Fitting von Verteilungen"
   ],
   "metadata": {
    "collapsed": false
   }
  },
  {
   "cell_type": "code",
   "execution_count": 247,
   "outputs": [],
   "source": [
    "def fit_distribution(data):\n",
    "    count = 0\n",
    "    fitted_mass = Fitter(data)\n",
    "    fitted_mass.fit()\n",
    "    ks_summary = fitted_mass.summary()\n",
    "    distributions = ks_summary.index.values\n",
    "    print(ks_summary.iloc[:,-2:])\n",
    "    fig, ax = plt.subplots(1,5,figsize=(25, 5))\n",
    "    table = [['Distribution', 'Parameters']]\n",
    "\n",
    "    for i in distributions:\n",
    "        param = fitted_mass.fitted_param[i]\n",
    "        table.append([i, param])\n",
    "        dist_eval = eval('stats.' + i + '.rvs(*param, size = 1000)')\n",
    "        sm.qqplot_2samples(data, dist_eval, xlabel = i.capitalize() + ' Distribution', ylabel = 'Sample Distribution', line = '45' ,ax = ax[count])\n",
    "        count += 1\n",
    "    plt.show()\n",
    "    print(tabulate(table, headers = 'firstrow'))"
   ],
   "metadata": {
    "collapsed": false
   }
  },
  {
   "cell_type": "markdown",
   "source": [
    "Zone 1"
   ],
   "metadata": {
    "collapsed": false
   }
  },
  {
   "cell_type": "code",
   "execution_count": 248,
   "outputs": [],
   "source": [
    "#fit_distribution(df1['Mass_(kg)'])"
   ],
   "metadata": {
    "collapsed": false
   }
  },
  {
   "cell_type": "code",
   "execution_count": 249,
   "outputs": [],
   "source": [
    "#fit_distribution(df1[\"Velocity_(m/s)\"])"
   ],
   "metadata": {
    "collapsed": false
   }
  },
  {
   "cell_type": "code",
   "execution_count": 250,
   "outputs": [],
   "source": [
    "#fit_distribution(df1[\"Time_delta_(h)\"])"
   ],
   "metadata": {
    "collapsed": false
   }
  },
  {
   "cell_type": "markdown",
   "source": [
    "Zone 2"
   ],
   "metadata": {
    "collapsed": false
   }
  },
  {
   "cell_type": "code",
   "execution_count": 251,
   "outputs": [],
   "source": [
    "#fit_distribution(df2['Mass_(kg)'])"
   ],
   "metadata": {
    "collapsed": false
   }
  },
  {
   "cell_type": "code",
   "execution_count": 252,
   "outputs": [],
   "source": [
    "#fit_distribution(df2[\"Velocity_(m/s)\"])"
   ],
   "metadata": {
    "collapsed": false
   }
  },
  {
   "cell_type": "code",
   "execution_count": 253,
   "outputs": [],
   "source": [
    "#fit_distribution(df2[\"Time_delta_(h)\"])"
   ],
   "metadata": {
    "collapsed": false
   }
  },
  {
   "cell_type": "markdown",
   "source": [
    "Monte Carlo"
   ],
   "metadata": {
    "collapsed": false
   }
  },
  {
   "cell_type": "code",
   "execution_count": 254,
   "outputs": [],
   "source": [
    "sim_count = 2_000_000\n"
   ],
   "metadata": {
    "collapsed": false
   }
  },
  {
   "cell_type": "markdown",
   "source": [
    "Zone 1"
   ],
   "metadata": {
    "collapsed": false
   }
  },
  {
   "cell_type": "code",
   "execution_count": 255,
   "outputs": [],
   "source": [
    "# Masse\n",
    "param = stats.gamma.fit(df1['Mass_(kg)'])\n",
    "zone1_mass = stats.gamma.rvs(*param, size = sim_count)\n",
    "\n",
    "# Geschwindigkeit\n",
    "param = stats.norm.fit(df1[\"Velocity_(m/s)\"])\n",
    "zone1_velocity = stats.norm.rvs(*param, size = sim_count)\n",
    "\n",
    "# Zeitabstand\n",
    "param = stats.expon.fit(df1[\"Time_delta_(h)\"])\n",
    "zone1_time_delta = stats.expon.rvs(*param, size = sim_count)"
   ],
   "metadata": {
    "collapsed": false
   }
  },
  {
   "cell_type": "markdown",
   "source": [
    "Zone 2"
   ],
   "metadata": {
    "collapsed": false
   }
  },
  {
   "cell_type": "code",
   "execution_count": 256,
   "outputs": [],
   "source": [
    "# Masse\n",
    "param = stats.gamma.fit(df2['Mass_(kg)'])\n",
    "zone2_mass = stats.gamma.rvs(*param, size = sim_count)\n",
    "\n",
    "# Geschwindigkeit\n",
    "param = stats.norm.fit(df2[\"Velocity_(m/s)\"])\n",
    "zone2_velocity = stats.norm.rvs(*param, size = sim_count)\n",
    "\n",
    "# Zeitabstand\n",
    "param = stats.expon.fit(df2[\"Time_delta_(h)\"])\n",
    "zone2_time_delta = stats.expon.rvs(*param, size = sim_count)"
   ],
   "metadata": {
    "collapsed": false
   }
  },
  {
   "cell_type": "code",
   "execution_count": 257,
   "outputs": [
    {
     "name": "stderr",
     "output_type": "stream",
     "text": [
      "C:\\Users\\logan\\AppData\\Local\\Temp\\ipykernel_14264\\3105050015.py:9: SettingWithCopyWarning: \n",
      "A value is trying to be set on a copy of a slice from a DataFrame\n",
      "\n",
      "See the caveats in the documentation: https://pandas.pydata.org/pandas-docs/stable/user_guide/indexing.html#returning-a-view-versus-a-copy\n",
      "  df1_sim[\"Time_delta_(h)\"][0] = 0\n"
     ]
    },
    {
     "data": {
      "text/plain": "           Mass_(kg)  Velocity_(m/s)  Energy_(kJ)  Time_delta_(h)\n0         776.078557        6.542090    16.607671          0.0000\n1          74.926867        7.796504     2.277233          2.0330\n2          91.657202        7.910719     2.867930         27.2290\n3          76.817078        8.159269     2.556997          8.2299\n4        1955.008136        7.306632    52.185880         57.6314\n...              ...             ...          ...             ...\n1999995   293.860408       10.673671    16.739356         28.3564\n1999996   311.203353        6.550015     6.675731         49.8829\n1999997  1474.018473        9.621554    68.228111         54.0947\n1999998    31.224902        7.819839     0.954700         86.1539\n1999999   452.462947       10.576678    25.307638          9.1351\n\n[2000000 rows x 4 columns]",
      "text/html": "<div>\n<style scoped>\n    .dataframe tbody tr th:only-of-type {\n        vertical-align: middle;\n    }\n\n    .dataframe tbody tr th {\n        vertical-align: top;\n    }\n\n    .dataframe thead th {\n        text-align: right;\n    }\n</style>\n<table border=\"1\" class=\"dataframe\">\n  <thead>\n    <tr style=\"text-align: right;\">\n      <th></th>\n      <th>Mass_(kg)</th>\n      <th>Velocity_(m/s)</th>\n      <th>Energy_(kJ)</th>\n      <th>Time_delta_(h)</th>\n    </tr>\n  </thead>\n  <tbody>\n    <tr>\n      <th>0</th>\n      <td>776.078557</td>\n      <td>6.542090</td>\n      <td>16.607671</td>\n      <td>0.0000</td>\n    </tr>\n    <tr>\n      <th>1</th>\n      <td>74.926867</td>\n      <td>7.796504</td>\n      <td>2.277233</td>\n      <td>2.0330</td>\n    </tr>\n    <tr>\n      <th>2</th>\n      <td>91.657202</td>\n      <td>7.910719</td>\n      <td>2.867930</td>\n      <td>27.2290</td>\n    </tr>\n    <tr>\n      <th>3</th>\n      <td>76.817078</td>\n      <td>8.159269</td>\n      <td>2.556997</td>\n      <td>8.2299</td>\n    </tr>\n    <tr>\n      <th>4</th>\n      <td>1955.008136</td>\n      <td>7.306632</td>\n      <td>52.185880</td>\n      <td>57.6314</td>\n    </tr>\n    <tr>\n      <th>...</th>\n      <td>...</td>\n      <td>...</td>\n      <td>...</td>\n      <td>...</td>\n    </tr>\n    <tr>\n      <th>1999995</th>\n      <td>293.860408</td>\n      <td>10.673671</td>\n      <td>16.739356</td>\n      <td>28.3564</td>\n    </tr>\n    <tr>\n      <th>1999996</th>\n      <td>311.203353</td>\n      <td>6.550015</td>\n      <td>6.675731</td>\n      <td>49.8829</td>\n    </tr>\n    <tr>\n      <th>1999997</th>\n      <td>1474.018473</td>\n      <td>9.621554</td>\n      <td>68.228111</td>\n      <td>54.0947</td>\n    </tr>\n    <tr>\n      <th>1999998</th>\n      <td>31.224902</td>\n      <td>7.819839</td>\n      <td>0.954700</td>\n      <td>86.1539</td>\n    </tr>\n    <tr>\n      <th>1999999</th>\n      <td>452.462947</td>\n      <td>10.576678</td>\n      <td>25.307638</td>\n      <td>9.1351</td>\n    </tr>\n  </tbody>\n</table>\n<p>2000000 rows × 4 columns</p>\n</div>"
     },
     "execution_count": 257,
     "metadata": {},
     "output_type": "execute_result"
    }
   ],
   "source": [
    "df1_sim = pd.DataFrame()\n",
    "df1_sim.insert(0, \"Mass_(kg)\", zone1_mass)\n",
    "df1_sim.insert(1, \"Velocity_(m/s)\", zone1_velocity)\n",
    "df1_sim.insert(2, \"Energy_(kJ)\", \"\")\n",
    "df1_sim.insert(3, \"Time_delta_(h)\", zone1_time_delta)\n",
    "\n",
    "\n",
    "df1_sim[\"Time_delta_(h)\"] = zone1_time_delta.round(4)\n",
    "df1_sim[\"Time_delta_(h)\"][0] = 0\n",
    "\n",
    "df1_sim = df1_sim.dropna()\n",
    "df1_sim[\"Energy_(kJ)\"] = (0.5 * df1_sim[\"Mass_(kg)\"] * (df1_sim[\"Velocity_(m/s)\"] ** 2)) / 1000\n",
    "df1_sim"
   ],
   "metadata": {
    "collapsed": false
   }
  },
  {
   "cell_type": "code",
   "execution_count": 258,
   "outputs": [
    {
     "data": {
      "text/plain": "796.1998375302187"
     },
     "execution_count": 258,
     "metadata": {},
     "output_type": "execute_result"
    }
   ],
   "source": [
    "max(df1_sim[\"Energy_(kJ)\"])"
   ],
   "metadata": {
    "collapsed": false
   }
  },
  {
   "cell_type": "code",
   "execution_count": 259,
   "outputs": [
    {
     "data": {
      "text/plain": "15"
     },
     "execution_count": 259,
     "metadata": {},
     "output_type": "execute_result"
    }
   ],
   "source": [
    "87 % 24"
   ],
   "metadata": {
    "collapsed": false
   }
  },
  {
   "cell_type": "code",
   "execution_count": 260,
   "outputs": [
    {
     "data": {
      "text/plain": "15"
     },
     "execution_count": 260,
     "metadata": {},
     "output_type": "execute_result"
    }
   ],
   "source": [
    "87 - 24 -24 -24"
   ],
   "metadata": {
    "collapsed": false
   }
  },
  {
   "cell_type": "code",
   "execution_count": 261,
   "outputs": [
    {
     "name": "stdout",
     "output_type": "stream",
     "text": [
      "   Mass_(kg)  Velocity_(m/s)  Energy_(kJ)  Time_delta_(h)\n",
      "1  74.926867        7.796504     2.277233           2.033\n",
      "2  91.657202        7.910719     2.867930          27.229\n"
     ]
    },
    {
     "name": "stderr",
     "output_type": "stream",
     "text": [
      "C:\\Users\\logan\\AppData\\Local\\Temp\\ipykernel_14264\\3055680985.py:7: FutureWarning: The frame.append method is deprecated and will be removed from pandas in a future version. Use pandas.concat instead.\n",
      "  x = x.append(df1_sim.iloc[1,:])\n",
      "C:\\Users\\logan\\AppData\\Local\\Temp\\ipykernel_14264\\3055680985.py:8: FutureWarning: The frame.append method is deprecated and will be removed from pandas in a future version. Use pandas.concat instead.\n",
      "  x = x.append(df1_sim.iloc[2,:])\n"
     ]
    }
   ],
   "source": [
    "x = pd.DataFrame()\n",
    "x.insert(0, \"Mass_(kg)\",\"\")\n",
    "x.insert(1, \"Velocity_(m/s)\",\"\")\n",
    "x.insert(2, \"Energy_(kJ)\",\"\")\n",
    "x.insert(3, \"Time_delta_(h)\",\"\")\n",
    "\n",
    "x = x.append(df1_sim.iloc[1,:])\n",
    "x = x.append(df1_sim.iloc[2,:])\n",
    "print(x)"
   ],
   "metadata": {
    "collapsed": false
   }
  },
  {
   "cell_type": "code",
   "execution_count": 262,
   "outputs": [],
   "source": [
    "def netztest(status_netz,gewicht_im_netz,aufprallenergie):\n",
    "\n",
    "    if status_netz == True:\n",
    "        return True\n",
    "\n",
    "    elif gewicht_im_netz > 2000:\n",
    "        if aufprallenergie > 500:\n",
    "            return True\n",
    "        else:\n",
    "            return False\n",
    "\n",
    "    elif gewicht_im_netz <= 2000:\n",
    "        if aufprallenergie > 1000:\n",
    "            return True\n",
    "        else:\n",
    "            return False\n",
    "    else:\n",
    "        return False"
   ],
   "metadata": {
    "collapsed": false
   }
  },
  {
   "cell_type": "code",
   "execution_count": 263,
   "outputs": [
    {
     "data": {
      "text/plain": "True"
     },
     "execution_count": 263,
     "metadata": {},
     "output_type": "execute_result"
    }
   ],
   "source": [
    "netztest(True,2000,600)"
   ],
   "metadata": {
    "collapsed": false
   }
  },
  {
   "cell_type": "code",
   "execution_count": 264,
   "outputs": [
    {
     "name": "stdout",
     "output_type": "stream",
     "text": [
      "2544723\n"
     ]
    },
    {
     "data": {
      "text/plain": "'\\nprint(\"Anzahl Steine:  \", anzahl_steine)\\nprint(\"Totale_Stunden:  \", stunden_total)\\nprint(\"Anzahl Jahre:\", anzahl_sim_jahre)\\nprint(\"Anzahl netzbrechende Steine:\", incidents_stones)\\nprint(\"Prozente netzbrechende Steine:  \", prozent_netzbrechende_steine,\"%\")\\nprint(\"Anzahl Incidents pro Jahr:\", anzahl_netzbrechende_steine_pro_jahr)\\nprint(\"Prozente Incidents pro Jahr:\", (anzahl_netzbrechende_steine_pro_jahr * prozent_netzbrechende_steine),\"%\")\\n\\n#prüfen was passiert wenn netz gefallen, ob dann steine die fallen durchfallen oder nicht'"
     },
     "execution_count": 264,
     "metadata": {},
     "output_type": "execute_result"
    }
   ],
   "source": [
    "max_delta = 24\n",
    "current_delta = 0\n",
    "netz = 0\n",
    "steine_im_netz = 0\n",
    "incidents = 0\n",
    "incidents_stones = 0\n",
    "stunden_total = 0\n",
    "incident_status = False\n",
    "\n",
    "for i in range(int(len(df1_sim))):\n",
    "    iterated_delta = df1_sim[\"Time_delta_(h)\"][i]\n",
    "    iterated_energy = df1_sim[\"Energy_(kJ)\"][i]\n",
    "\n",
    "    stunden_total += iterated_delta\n",
    "\n",
    "\n",
    "    if iterated_delta > max_delta:\n",
    "\n",
    "        netz = df1_sim[\"Mass_(kg)\"][i]\n",
    "        steine_im_netz = 1\n",
    "        incident_status = netztest(incident_status,0,iterated_energy)\n",
    "        iterated_delta = iterated_delta % max_delta\n",
    "        if iterated_delta > (max_delta - current_delta):\n",
    "\n",
    "            current_delta = abs((max_delta - current_delta)-iterated_delta)\n",
    "\n",
    "        elif iterated_delta <= (max_delta - current_delta):\n",
    "\n",
    "            current_delta = current_delta + iterated_delta\n",
    "\n",
    "    elif iterated_delta <= max_delta:\n",
    "\n",
    "        if iterated_delta > (max_delta - current_delta):\n",
    "            netz = df1_sim[\"Mass_(kg)\"][i]\n",
    "            steine_im_netz = 1\n",
    "            incident_status = netztest(incident_status,0,iterated_energy)\n",
    "\n",
    "            current_delta = abs((max_delta - current_delta)-iterated_delta)\n",
    "\n",
    "        elif iterated_delta <= (max_delta - current_delta):\n",
    "            incident_status = netztest(incident_status,netz,iterated_energy)\n",
    "            netz = netz + df1_sim[\"Mass_(kg)\"][i]\n",
    "            steine_im_netz += 1\n",
    "            current_delta = current_delta + iterated_delta\n",
    "\n",
    "    if incident_status == True:\n",
    "        incidents += 1\n",
    "        incidents_stones += steine_im_netz\n",
    "\n",
    "anzahl_steine = sim_count\n",
    "prozent_netzbrechende_steine = (incidents_stones / len(df1_sim)) * 100\n",
    "anzahl_sim_jahre = (stunden_total/8760)\n",
    "anzahl_netzbrechende_steine_pro_jahr = (incidents_stones / anzahl_sim_jahre)\n",
    "\n",
    "\n",
    "\n",
    "print(incidents_stones)\n",
    "\n",
    "\"\"\"\n",
    "print(\"Anzahl Steine:  \", anzahl_steine)\n",
    "print(\"Totale_Stunden:  \", stunden_total)\n",
    "print(\"Anzahl Jahre:\", anzahl_sim_jahre)\n",
    "print(\"Anzahl netzbrechende Steine:\", incidents_stones)\n",
    "print(\"Prozente netzbrechende Steine:  \", prozent_netzbrechende_steine,\"%\")\n",
    "print(\"Anzahl Incidents pro Jahr:\", anzahl_netzbrechende_steine_pro_jahr)\n",
    "print(\"Prozente Incidents pro Jahr:\", (anzahl_netzbrechende_steine_pro_jahr * prozent_netzbrechende_steine),\"%\")\n",
    "\n",
    "#prüfen was passiert wenn netz gefallen, ob dann steine die fallen durchfallen oder nicht\"\"\""
   ],
   "metadata": {
    "collapsed": false
   }
  },
  {
   "cell_type": "code",
   "execution_count": 265,
   "outputs": [
    {
     "data": {
      "text/plain": "     Mass_(kg)  Velocity_(m/s)  Energy_(kJ)  Time_delta_(h)\n0   776.078557        6.542090    16.607671          0.0000\n1    74.926867        7.796504     2.277233          2.0330\n2    91.657202        7.910719     2.867930         27.2290\n3    76.817078        8.159269     2.556997          8.2299\n4  1955.008136        7.306632    52.185880         57.6314\n5    82.609276        7.837113     2.536945          6.5988\n6   467.858907        9.141404    19.548379         41.8856\n7   344.323317        7.718375    10.256241          7.0556\n8   109.694058        9.201928     4.644198         29.3851",
      "text/html": "<div>\n<style scoped>\n    .dataframe tbody tr th:only-of-type {\n        vertical-align: middle;\n    }\n\n    .dataframe tbody tr th {\n        vertical-align: top;\n    }\n\n    .dataframe thead th {\n        text-align: right;\n    }\n</style>\n<table border=\"1\" class=\"dataframe\">\n  <thead>\n    <tr style=\"text-align: right;\">\n      <th></th>\n      <th>Mass_(kg)</th>\n      <th>Velocity_(m/s)</th>\n      <th>Energy_(kJ)</th>\n      <th>Time_delta_(h)</th>\n    </tr>\n  </thead>\n  <tbody>\n    <tr>\n      <th>0</th>\n      <td>776.078557</td>\n      <td>6.542090</td>\n      <td>16.607671</td>\n      <td>0.0000</td>\n    </tr>\n    <tr>\n      <th>1</th>\n      <td>74.926867</td>\n      <td>7.796504</td>\n      <td>2.277233</td>\n      <td>2.0330</td>\n    </tr>\n    <tr>\n      <th>2</th>\n      <td>91.657202</td>\n      <td>7.910719</td>\n      <td>2.867930</td>\n      <td>27.2290</td>\n    </tr>\n    <tr>\n      <th>3</th>\n      <td>76.817078</td>\n      <td>8.159269</td>\n      <td>2.556997</td>\n      <td>8.2299</td>\n    </tr>\n    <tr>\n      <th>4</th>\n      <td>1955.008136</td>\n      <td>7.306632</td>\n      <td>52.185880</td>\n      <td>57.6314</td>\n    </tr>\n    <tr>\n      <th>5</th>\n      <td>82.609276</td>\n      <td>7.837113</td>\n      <td>2.536945</td>\n      <td>6.5988</td>\n    </tr>\n    <tr>\n      <th>6</th>\n      <td>467.858907</td>\n      <td>9.141404</td>\n      <td>19.548379</td>\n      <td>41.8856</td>\n    </tr>\n    <tr>\n      <th>7</th>\n      <td>344.323317</td>\n      <td>7.718375</td>\n      <td>10.256241</td>\n      <td>7.0556</td>\n    </tr>\n    <tr>\n      <th>8</th>\n      <td>109.694058</td>\n      <td>9.201928</td>\n      <td>4.644198</td>\n      <td>29.3851</td>\n    </tr>\n  </tbody>\n</table>\n</div>"
     },
     "execution_count": 265,
     "metadata": {},
     "output_type": "execute_result"
    }
   ],
   "source": [
    "df1_sim.iloc[0:9,:]"
   ],
   "metadata": {
    "collapsed": false
   }
  },
  {
   "cell_type": "code",
   "execution_count": 266,
   "outputs": [
    {
     "data": {
      "text/plain": "'\\ndf_test = df1_sim.iloc[0:9,:]\\ndf_test[\"Mass_(kg)\"][3]  = 1500\\ndf_test[\"Energy_(kJ)\"][4]  = 3000\\ndf_test[\"Time_delta_(h)\"][5]  = 1\\ndf1_sim = df_test\\ndf1_sim'"
     },
     "execution_count": 266,
     "metadata": {},
     "output_type": "execute_result"
    }
   ],
   "source": [
    "\"\"\"\n",
    "df_test = df1_sim.iloc[0:9,:]\n",
    "df_test[\"Mass_(kg)\"][3]  = 1500\n",
    "df_test[\"Energy_(kJ)\"][4]  = 3000\n",
    "df_test[\"Time_delta_(h)\"][5]  = 1\n",
    "df1_sim = df_test\n",
    "df1_sim\"\"\""
   ],
   "metadata": {
    "collapsed": false
   }
  },
  {
   "cell_type": "code",
   "execution_count": 270,
   "outputs": [
    {
     "name": "stdout",
     "output_type": "stream",
     "text": [
      "Anzahl simulierte Steine:  2000000\n",
      "Anzahl incident Steine:  9\n",
      "0.00045\n"
     ]
    }
   ],
   "source": [
    "max_delta = 24\n",
    "current_delta = 0\n",
    "stunden_total = 0\n",
    "masse_im_netz = 0\n",
    "status_netz = False\n",
    "incident_steine = 0\n",
    "steine_im_netz = 0\n",
    "\n",
    "for i in range(int(len(df1_sim))):\n",
    "    iterated_delta = df1_sim[\"Time_delta_(h)\"][i]\n",
    "    iterated_energy = df1_sim[\"Energy_(kJ)\"][i]\n",
    "\n",
    "    stunden_total += iterated_delta\n",
    "\n",
    "\n",
    "    if iterated_delta > max_delta:\n",
    "        if status_netz:\n",
    "            incident_steine += steine_im_netz\n",
    "        steine_im_netz = 1\n",
    "        status_netz = netztest(False,0,iterated_energy)\n",
    "        masse_im_netz = df1_sim[\"Mass_(kg)\"][i]\n",
    "\n",
    "        iterated_delta = iterated_delta % max_delta\n",
    "\n",
    "\n",
    "        if iterated_delta > (max_delta - current_delta):\n",
    "\n",
    "            current_delta = abs((max_delta - current_delta)-iterated_delta)\n",
    "\n",
    "\n",
    "        elif iterated_delta <= (max_delta - current_delta):\n",
    "\n",
    "            current_delta = current_delta + iterated_delta\n",
    "\n",
    "    elif iterated_delta <= max_delta:\n",
    "\n",
    "        if iterated_delta > (max_delta - current_delta):\n",
    "            if status_netz:\n",
    "                incident_steine += steine_im_netz\n",
    "            steine_im_netz = 1\n",
    "            status_netz = netztest(False,0,iterated_energy)\n",
    "            masse_im_netz = df1_sim[\"Mass_(kg)\"][i]\n",
    "            current_delta = abs((max_delta - current_delta)-iterated_delta)\n",
    "\n",
    "        elif iterated_delta <= (max_delta - current_delta):\n",
    "            steine_im_netz += 1\n",
    "            status_netz = netztest(status_netz,masse_im_netz,iterated_energy)\n",
    "            masse_im_netz += df1_sim[\"Mass_(kg)\"][i]\n",
    "            current_delta = current_delta + iterated_delta\n",
    "\n",
    "\n",
    "\n",
    "print(\"Anzahl simulierte Steine: \",sim_count)\n",
    "print(\"Anzahl incident Steine: \",incident_steine)\n",
    "print(incident_steine/sim_count*100)"
   ],
   "metadata": {
    "collapsed": false
   }
  },
  {
   "cell_type": "code",
   "execution_count": 277,
   "outputs": [
    {
     "name": "stdout",
     "output_type": "stream",
     "text": [
      "0.12941712730994095 %\n",
      "0.0012941712730994096\n"
     ]
    }
   ],
   "source": [
    "steine_pro_jahr = (sim_count / anzahl_sim_jahre)\n",
    "incident_prob_pro_stein = incident_steine/sim_count*100\n",
    "incident_prob_pro_jahr = incident_prob_pro_stein * steine_pro_jahr\n",
    "print(incident_prob_pro_jahr, \"%\")\n",
    "print(incident_prob_pro_jahr /100)"
   ],
   "metadata": {
    "collapsed": false
   }
  }
 ],
 "metadata": {
  "kernelspec": {
   "display_name": "Python 3",
   "language": "python",
   "name": "python3"
  },
  "language_info": {
   "codemirror_mode": {
    "name": "ipython",
    "version": 2
   },
   "file_extension": ".py",
   "mimetype": "text/x-python",
   "name": "python",
   "nbconvert_exporter": "python",
   "pygments_lexer": "ipython2",
   "version": "2.7.6"
  }
 },
 "nbformat": 4,
 "nbformat_minor": 0
}
