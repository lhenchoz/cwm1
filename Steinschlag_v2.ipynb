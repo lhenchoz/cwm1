{
 "cells": [
  {
   "cell_type": "markdown",
   "source": [
    "Module importieren"
   ],
   "metadata": {
    "collapsed": false
   }
  },
  {
   "cell_type": "code",
   "execution_count": 98,
   "outputs": [],
   "source": [
    "import matplotlib.pyplot as plt\n",
    "import pandas as pd\n",
    "#import pd as pd\n",
    "import seaborn as sns\n",
    "from datetime import datetime\n",
    "from fitter import Fitter\n",
    "import numpy as np\n",
    "from scipy import stats\n",
    "import statsmodels.api as sm\n",
    "from tabulate import tabulate"
   ],
   "metadata": {
    "collapsed": false
   }
  },
  {
   "cell_type": "markdown",
   "source": [
    "Daten laden und säubern"
   ],
   "metadata": {
    "collapsed": false
   }
  },
  {
   "cell_type": "code",
   "execution_count": 99,
   "metadata": {
    "collapsed": true
   },
   "outputs": [],
   "source": [
    "def open_csv_to_df(directory):\n",
    "    df = pd.read_csv(directory)\n",
    "    df = df.iloc[0:,:4]\n",
    "    df.columns = [\"Date\", \"Time\", \"Mass_(kg)\", \"Velocity_(m/s)\"]\n",
    "    df.insert(4, \"Energy_(kJ)\", \"\")\n",
    "    df.insert(5, \"Date_and_Time\", \"\")\n",
    "    df.insert(6, \"Time_delta_(h)\", \"\")\n",
    "    for i in range(len(df)):\n",
    "        df.iloc[i,4] = 0.5 * float(df.iloc[i,2]) * float(df.iloc[i,3]) ** 2 / 1000 #calculation of Energy_(kJ)\n",
    "    df = df.sort_values(['Date', 'Time']).reset_index(drop=True)\n",
    "    df = df.dropna()\n",
    "\n",
    "    for i in range(len(df)):\n",
    "        date_raw = df.iloc[i,:].Date +\" \" +df.iloc[i,:].Time\n",
    "        date1 = datetime.strptime(date_raw, '%Y-%m-%d %H:%M')\n",
    "        df.iloc[i,5] = date1\n",
    "\n",
    "    for i in range(len(df)-1):\n",
    "        date1 = df.iloc[i,5]\n",
    "        date2 = df.iloc[i+1,5]\n",
    "        time_delta = date2 - date1\n",
    "        time_delta = (time_delta.days*24) + (time_delta.seconds//3600)\n",
    "        df.iloc[i+1,6] = time_delta\n",
    "\n",
    "    #Fitter kann keine NAs handhaben aus diesem Grund wird erste Beobachtung mit dem Median der Zeitabstände ersetzt.\n",
    "    df.iloc[0,6] = 0\n",
    "    df['Time_delta_(h)'] = df['Time_delta_(h)'].astype('int')\n",
    "    df.iloc[0,6] = df[\"Time_delta_(h)\"].median()\n",
    "\n",
    "    return df #this is the table with all stones combined"
   ]
  },
  {
   "cell_type": "code",
   "execution_count": 100,
   "outputs": [],
   "source": [
    "df1 = open_csv_to_df(\"./out_1.csv\")\n",
    "df2 = open_csv_to_df(\"./out_2.csv\")"
   ],
   "metadata": {
    "collapsed": false
   }
  },
  {
   "cell_type": "markdown",
   "source": [
    "Funktion für Fitting von Verteilungen"
   ],
   "metadata": {
    "collapsed": false
   }
  },
  {
   "cell_type": "code",
   "execution_count": 101,
   "outputs": [],
   "source": [
    "def fit_distribution(data):\n",
    "    count = 0\n",
    "    fitted_mass = Fitter(data)\n",
    "    fitted_mass.fit()\n",
    "    ks_summary = fitted_mass.summary()\n",
    "    distributions = ks_summary.index.values\n",
    "    print(ks_summary.iloc[:,-2:])\n",
    "    fig, ax = plt.subplots(1,5,figsize=(25, 5))\n",
    "    table = [['Distribution', 'Parameters']]\n",
    "\n",
    "    for i in distributions:\n",
    "        param = fitted_mass.fitted_param[i]\n",
    "        table.append([i, param])\n",
    "        dist_eval = eval('stats.' + i + '.rvs(*param, size = 1000)')\n",
    "        sm.qqplot_2samples(data, dist_eval, xlabel = i.capitalize() + ' Distribution', ylabel = 'Sample Distribution', line = '45' ,ax = ax[count])\n",
    "        count += 1\n",
    "    plt.show()\n",
    "    print(tabulate(table, headers = 'firstrow'))"
   ],
   "metadata": {
    "collapsed": false
   }
  },
  {
   "cell_type": "markdown",
   "source": [
    "Zone 1"
   ],
   "metadata": {
    "collapsed": false
   }
  },
  {
   "cell_type": "code",
   "execution_count": 102,
   "outputs": [],
   "source": [
    "#fit_distribution(df1['Mass_(kg)'])"
   ],
   "metadata": {
    "collapsed": false
   }
  },
  {
   "cell_type": "code",
   "execution_count": 103,
   "outputs": [],
   "source": [
    "#fit_distribution(df1[\"Velocity_(m/s)\"])"
   ],
   "metadata": {
    "collapsed": false
   }
  },
  {
   "cell_type": "code",
   "execution_count": 104,
   "outputs": [],
   "source": [
    "#fit_distribution(df1[\"Time_delta_(h)\"])"
   ],
   "metadata": {
    "collapsed": false
   }
  },
  {
   "cell_type": "markdown",
   "source": [
    "Zone 2"
   ],
   "metadata": {
    "collapsed": false
   }
  },
  {
   "cell_type": "code",
   "execution_count": 105,
   "outputs": [],
   "source": [
    "#fit_distribution(df2['Mass_(kg)'])"
   ],
   "metadata": {
    "collapsed": false
   }
  },
  {
   "cell_type": "code",
   "execution_count": 106,
   "outputs": [],
   "source": [
    "#fit_distribution(df2[\"Velocity_(m/s)\"])"
   ],
   "metadata": {
    "collapsed": false
   }
  },
  {
   "cell_type": "code",
   "execution_count": 107,
   "outputs": [],
   "source": [
    "#fit_distribution(df2[\"Time_delta_(h)\"])"
   ],
   "metadata": {
    "collapsed": false
   }
  },
  {
   "cell_type": "markdown",
   "source": [
    "Monte Carlo"
   ],
   "metadata": {
    "collapsed": false
   }
  },
  {
   "cell_type": "code",
   "execution_count": 108,
   "outputs": [],
   "source": [
    "sim_count = 3_000_000\n"
   ],
   "metadata": {
    "collapsed": false
   }
  },
  {
   "cell_type": "markdown",
   "source": [
    "Zone 1"
   ],
   "metadata": {
    "collapsed": false
   }
  },
  {
   "cell_type": "code",
   "execution_count": 109,
   "outputs": [],
   "source": [
    "# Masse\n",
    "param = stats.gamma.fit(df1['Mass_(kg)'])\n",
    "zone1_mass = stats.gamma.rvs(*param, size = sim_count)\n",
    "\n",
    "# Geschwindigkeit\n",
    "param = stats.norm.fit(df1[\"Velocity_(m/s)\"])\n",
    "zone1_velocity = stats.norm.rvs(*param, size = sim_count)\n",
    "\n",
    "# Zeitabstand\n",
    "param = stats.expon.fit(df1[\"Time_delta_(h)\"])\n",
    "zone1_time_delta = stats.expon.rvs(*param, size = sim_count)"
   ],
   "metadata": {
    "collapsed": false
   }
  },
  {
   "cell_type": "markdown",
   "source": [
    "Zone 2"
   ],
   "metadata": {
    "collapsed": false
   }
  },
  {
   "cell_type": "code",
   "execution_count": 110,
   "outputs": [],
   "source": [
    "# Masse\n",
    "param = stats.gamma.fit(df2['Mass_(kg)'])\n",
    "zone2_mass = stats.gamma.rvs(*param, size = sim_count)\n",
    "\n",
    "# Geschwindigkeit\n",
    "param = stats.norm.fit(df2[\"Velocity_(m/s)\"])\n",
    "zone2_velocity = stats.norm.rvs(*param, size = sim_count)\n",
    "\n",
    "# Zeitabstand\n",
    "param = stats.expon.fit(df2[\"Time_delta_(h)\"])\n",
    "zone2_time_delta = stats.expon.rvs(*param, size = sim_count)"
   ],
   "metadata": {
    "collapsed": false
   }
  },
  {
   "cell_type": "code",
   "execution_count": 111,
   "outputs": [
    {
     "name": "stderr",
     "output_type": "stream",
     "text": [
      "C:\\Users\\logan\\AppData\\Local\\Temp\\ipykernel_16596\\3105050015.py:9: SettingWithCopyWarning: \n",
      "A value is trying to be set on a copy of a slice from a DataFrame\n",
      "\n",
      "See the caveats in the documentation: https://pandas.pydata.org/pandas-docs/stable/user_guide/indexing.html#returning-a-view-versus-a-copy\n",
      "  df1_sim[\"Time_delta_(h)\"][0] = 0\n"
     ]
    },
    {
     "data": {
      "text/plain": "           Mass_(kg)  Velocity_(m/s)  Energy_(kJ)  Time_delta_(h)\n0         140.172439        9.800095     6.731211          0.0000\n1         327.024189        9.799082    15.700761         60.3114\n2         440.544796       10.111763    22.522359         24.0295\n3        2300.664412        6.552020    49.382575          3.2734\n4         244.405459        7.538445     6.944556         15.3464\n...              ...             ...          ...             ...\n2999995   457.721467        9.173828    19.260718         35.0983\n2999996   778.989987        5.867912    13.411242          2.9859\n2999997  1294.179470        6.667975    28.770831          3.4917\n2999998   744.735843        7.969168    23.648210         66.9229\n2999999    30.694358       12.368148     2.347674         69.7368\n\n[3000000 rows x 4 columns]",
      "text/html": "<div>\n<style scoped>\n    .dataframe tbody tr th:only-of-type {\n        vertical-align: middle;\n    }\n\n    .dataframe tbody tr th {\n        vertical-align: top;\n    }\n\n    .dataframe thead th {\n        text-align: right;\n    }\n</style>\n<table border=\"1\" class=\"dataframe\">\n  <thead>\n    <tr style=\"text-align: right;\">\n      <th></th>\n      <th>Mass_(kg)</th>\n      <th>Velocity_(m/s)</th>\n      <th>Energy_(kJ)</th>\n      <th>Time_delta_(h)</th>\n    </tr>\n  </thead>\n  <tbody>\n    <tr>\n      <th>0</th>\n      <td>140.172439</td>\n      <td>9.800095</td>\n      <td>6.731211</td>\n      <td>0.0000</td>\n    </tr>\n    <tr>\n      <th>1</th>\n      <td>327.024189</td>\n      <td>9.799082</td>\n      <td>15.700761</td>\n      <td>60.3114</td>\n    </tr>\n    <tr>\n      <th>2</th>\n      <td>440.544796</td>\n      <td>10.111763</td>\n      <td>22.522359</td>\n      <td>24.0295</td>\n    </tr>\n    <tr>\n      <th>3</th>\n      <td>2300.664412</td>\n      <td>6.552020</td>\n      <td>49.382575</td>\n      <td>3.2734</td>\n    </tr>\n    <tr>\n      <th>4</th>\n      <td>244.405459</td>\n      <td>7.538445</td>\n      <td>6.944556</td>\n      <td>15.3464</td>\n    </tr>\n    <tr>\n      <th>...</th>\n      <td>...</td>\n      <td>...</td>\n      <td>...</td>\n      <td>...</td>\n    </tr>\n    <tr>\n      <th>2999995</th>\n      <td>457.721467</td>\n      <td>9.173828</td>\n      <td>19.260718</td>\n      <td>35.0983</td>\n    </tr>\n    <tr>\n      <th>2999996</th>\n      <td>778.989987</td>\n      <td>5.867912</td>\n      <td>13.411242</td>\n      <td>2.9859</td>\n    </tr>\n    <tr>\n      <th>2999997</th>\n      <td>1294.179470</td>\n      <td>6.667975</td>\n      <td>28.770831</td>\n      <td>3.4917</td>\n    </tr>\n    <tr>\n      <th>2999998</th>\n      <td>744.735843</td>\n      <td>7.969168</td>\n      <td>23.648210</td>\n      <td>66.9229</td>\n    </tr>\n    <tr>\n      <th>2999999</th>\n      <td>30.694358</td>\n      <td>12.368148</td>\n      <td>2.347674</td>\n      <td>69.7368</td>\n    </tr>\n  </tbody>\n</table>\n<p>3000000 rows × 4 columns</p>\n</div>"
     },
     "execution_count": 111,
     "metadata": {},
     "output_type": "execute_result"
    }
   ],
   "source": [
    "df1_sim = pd.DataFrame()\n",
    "df1_sim.insert(0, \"Mass_(kg)\", zone1_mass)\n",
    "df1_sim.insert(1, \"Velocity_(m/s)\", zone1_velocity)\n",
    "df1_sim.insert(2, \"Energy_(kJ)\", \"\")\n",
    "df1_sim.insert(3, \"Time_delta_(h)\", zone1_time_delta)\n",
    "\n",
    "\n",
    "df1_sim[\"Time_delta_(h)\"] = zone1_time_delta.round(4)\n",
    "df1_sim[\"Time_delta_(h)\"][0] = 0\n",
    "\n",
    "df1_sim = df1_sim.dropna()\n",
    "df1_sim[\"Energy_(kJ)\"] = (0.5 * df1_sim[\"Mass_(kg)\"] * (df1_sim[\"Velocity_(m/s)\"] ** 2)) / 1000\n",
    "df1_sim"
   ],
   "metadata": {
    "collapsed": false
   }
  },
  {
   "cell_type": "code",
   "execution_count": 112,
   "outputs": [
    {
     "name": "stderr",
     "output_type": "stream",
     "text": [
      "C:\\Users\\logan\\AppData\\Local\\Temp\\ipykernel_16596\\2961706192.py:9: SettingWithCopyWarning: \n",
      "A value is trying to be set on a copy of a slice from a DataFrame\n",
      "\n",
      "See the caveats in the documentation: https://pandas.pydata.org/pandas-docs/stable/user_guide/indexing.html#returning-a-view-versus-a-copy\n",
      "  df2_sim[\"Time_delta_(h)\"][0] = 0\n"
     ]
    },
    {
     "data": {
      "text/plain": "          Mass_(kg)  Velocity_(m/s)  Energy_(kJ)  Time_delta_(h)\n0        140.579793       40.385488   114.641955          0.0000\n1          8.216786       29.014936     3.458718        132.9791\n2        622.853142       29.235832   266.186831        159.1987\n3         60.906706       31.853373    30.899110         57.1034\n4         35.673134       46.328779    38.283619         21.2805\n...             ...             ...          ...             ...\n2999995  159.271567       43.455264   150.381026        138.7827\n2999996   19.925296       42.052602    17.618159         44.1996\n2999997   60.479417       41.171362    51.258757         16.8978\n2999998   53.747228       44.352080    52.863274        117.2631\n2999999  114.265117       35.642500    72.580508        299.6576\n\n[3000000 rows x 4 columns]",
      "text/html": "<div>\n<style scoped>\n    .dataframe tbody tr th:only-of-type {\n        vertical-align: middle;\n    }\n\n    .dataframe tbody tr th {\n        vertical-align: top;\n    }\n\n    .dataframe thead th {\n        text-align: right;\n    }\n</style>\n<table border=\"1\" class=\"dataframe\">\n  <thead>\n    <tr style=\"text-align: right;\">\n      <th></th>\n      <th>Mass_(kg)</th>\n      <th>Velocity_(m/s)</th>\n      <th>Energy_(kJ)</th>\n      <th>Time_delta_(h)</th>\n    </tr>\n  </thead>\n  <tbody>\n    <tr>\n      <th>0</th>\n      <td>140.579793</td>\n      <td>40.385488</td>\n      <td>114.641955</td>\n      <td>0.0000</td>\n    </tr>\n    <tr>\n      <th>1</th>\n      <td>8.216786</td>\n      <td>29.014936</td>\n      <td>3.458718</td>\n      <td>132.9791</td>\n    </tr>\n    <tr>\n      <th>2</th>\n      <td>622.853142</td>\n      <td>29.235832</td>\n      <td>266.186831</td>\n      <td>159.1987</td>\n    </tr>\n    <tr>\n      <th>3</th>\n      <td>60.906706</td>\n      <td>31.853373</td>\n      <td>30.899110</td>\n      <td>57.1034</td>\n    </tr>\n    <tr>\n      <th>4</th>\n      <td>35.673134</td>\n      <td>46.328779</td>\n      <td>38.283619</td>\n      <td>21.2805</td>\n    </tr>\n    <tr>\n      <th>...</th>\n      <td>...</td>\n      <td>...</td>\n      <td>...</td>\n      <td>...</td>\n    </tr>\n    <tr>\n      <th>2999995</th>\n      <td>159.271567</td>\n      <td>43.455264</td>\n      <td>150.381026</td>\n      <td>138.7827</td>\n    </tr>\n    <tr>\n      <th>2999996</th>\n      <td>19.925296</td>\n      <td>42.052602</td>\n      <td>17.618159</td>\n      <td>44.1996</td>\n    </tr>\n    <tr>\n      <th>2999997</th>\n      <td>60.479417</td>\n      <td>41.171362</td>\n      <td>51.258757</td>\n      <td>16.8978</td>\n    </tr>\n    <tr>\n      <th>2999998</th>\n      <td>53.747228</td>\n      <td>44.352080</td>\n      <td>52.863274</td>\n      <td>117.2631</td>\n    </tr>\n    <tr>\n      <th>2999999</th>\n      <td>114.265117</td>\n      <td>35.642500</td>\n      <td>72.580508</td>\n      <td>299.6576</td>\n    </tr>\n  </tbody>\n</table>\n<p>3000000 rows × 4 columns</p>\n</div>"
     },
     "execution_count": 112,
     "metadata": {},
     "output_type": "execute_result"
    }
   ],
   "source": [
    "df2_sim = pd.DataFrame()\n",
    "df2_sim.insert(0, \"Mass_(kg)\", zone2_mass)\n",
    "df2_sim.insert(1, \"Velocity_(m/s)\", zone2_velocity)\n",
    "df2_sim.insert(2, \"Energy_(kJ)\", \"\")\n",
    "df2_sim.insert(3, \"Time_delta_(h)\", zone2_time_delta)\n",
    "\n",
    "\n",
    "df2_sim[\"Time_delta_(h)\"] = zone2_time_delta.round(4)\n",
    "df2_sim[\"Time_delta_(h)\"][0] = 0\n",
    "\n",
    "df2_sim = df2_sim.dropna()\n",
    "df2_sim[\"Energy_(kJ)\"] = (0.5 * df2_sim[\"Mass_(kg)\"] * (df2_sim[\"Velocity_(m/s)\"] ** 2)) / 1000\n",
    "df2_sim"
   ],
   "metadata": {
    "collapsed": false
   }
  },
  {
   "cell_type": "code",
   "execution_count": 113,
   "outputs": [],
   "source": [
    "df_sim = pd.concat([df1_sim,df2_sim])\n",
    "df_sim = df_sim.sample(frac=1,ignore_index=True)"
   ],
   "metadata": {
    "collapsed": false
   }
  },
  {
   "cell_type": "code",
   "execution_count": 114,
   "outputs": [],
   "source": [
    "def netztest(status_netz,gewicht_im_netz,aufprallenergie):\n",
    "\n",
    "    if status_netz == True:\n",
    "        return True\n",
    "\n",
    "    elif gewicht_im_netz > 2000:\n",
    "        if aufprallenergie > 500:\n",
    "            return True\n",
    "        else:\n",
    "            return False\n",
    "\n",
    "    elif gewicht_im_netz <= 2000:\n",
    "        if aufprallenergie > 1000:\n",
    "            return True\n",
    "        else:\n",
    "            return False\n",
    "    else:\n",
    "        return False"
   ],
   "metadata": {
    "collapsed": false
   }
  },
  {
   "cell_type": "code",
   "execution_count": 115,
   "outputs": [
    {
     "data": {
      "text/plain": "           Mass_(kg)  Velocity_(m/s)  Energy_(kJ)  Time_delta_(h)\n0          33.532599       40.094526    26.953018         68.6482\n1           2.515971       45.225210     2.572982         95.7884\n2        2329.584139        8.801585    90.233994         21.4226\n3           0.429724       39.105926     0.328583        173.2467\n4         902.595238        9.027108    36.775646         17.7670\n...              ...             ...          ...             ...\n5999995   178.637367       39.368058   138.430027        100.1942\n5999996  1764.255943        8.233860    59.805152          6.2397\n5999997   366.614778        9.779988    17.533017         13.6689\n5999998   437.720166        7.547225    12.466404          2.0080\n5999999     1.225130       39.069758     0.935047        190.9661\n\n[6000000 rows x 4 columns]",
      "text/html": "<div>\n<style scoped>\n    .dataframe tbody tr th:only-of-type {\n        vertical-align: middle;\n    }\n\n    .dataframe tbody tr th {\n        vertical-align: top;\n    }\n\n    .dataframe thead th {\n        text-align: right;\n    }\n</style>\n<table border=\"1\" class=\"dataframe\">\n  <thead>\n    <tr style=\"text-align: right;\">\n      <th></th>\n      <th>Mass_(kg)</th>\n      <th>Velocity_(m/s)</th>\n      <th>Energy_(kJ)</th>\n      <th>Time_delta_(h)</th>\n    </tr>\n  </thead>\n  <tbody>\n    <tr>\n      <th>0</th>\n      <td>33.532599</td>\n      <td>40.094526</td>\n      <td>26.953018</td>\n      <td>68.6482</td>\n    </tr>\n    <tr>\n      <th>1</th>\n      <td>2.515971</td>\n      <td>45.225210</td>\n      <td>2.572982</td>\n      <td>95.7884</td>\n    </tr>\n    <tr>\n      <th>2</th>\n      <td>2329.584139</td>\n      <td>8.801585</td>\n      <td>90.233994</td>\n      <td>21.4226</td>\n    </tr>\n    <tr>\n      <th>3</th>\n      <td>0.429724</td>\n      <td>39.105926</td>\n      <td>0.328583</td>\n      <td>173.2467</td>\n    </tr>\n    <tr>\n      <th>4</th>\n      <td>902.595238</td>\n      <td>9.027108</td>\n      <td>36.775646</td>\n      <td>17.7670</td>\n    </tr>\n    <tr>\n      <th>...</th>\n      <td>...</td>\n      <td>...</td>\n      <td>...</td>\n      <td>...</td>\n    </tr>\n    <tr>\n      <th>5999995</th>\n      <td>178.637367</td>\n      <td>39.368058</td>\n      <td>138.430027</td>\n      <td>100.1942</td>\n    </tr>\n    <tr>\n      <th>5999996</th>\n      <td>1764.255943</td>\n      <td>8.233860</td>\n      <td>59.805152</td>\n      <td>6.2397</td>\n    </tr>\n    <tr>\n      <th>5999997</th>\n      <td>366.614778</td>\n      <td>9.779988</td>\n      <td>17.533017</td>\n      <td>13.6689</td>\n    </tr>\n    <tr>\n      <th>5999998</th>\n      <td>437.720166</td>\n      <td>7.547225</td>\n      <td>12.466404</td>\n      <td>2.0080</td>\n    </tr>\n    <tr>\n      <th>5999999</th>\n      <td>1.225130</td>\n      <td>39.069758</td>\n      <td>0.935047</td>\n      <td>190.9661</td>\n    </tr>\n  </tbody>\n</table>\n<p>6000000 rows × 4 columns</p>\n</div>"
     },
     "execution_count": 115,
     "metadata": {},
     "output_type": "execute_result"
    }
   ],
   "source": [
    "df_sim"
   ],
   "metadata": {
    "collapsed": false
   }
  },
  {
   "cell_type": "code",
   "execution_count": 123,
   "outputs": [
    {
     "name": "stdout",
     "output_type": "stream",
     "text": [
      "Anzahl simulierte Steine:  6000000\n",
      "Anzahl incident Steine:  380\n",
      "0.006333333333333333\n"
     ]
    }
   ],
   "source": [
    "max_delta = 24\n",
    "current_delta = 0\n",
    "stunden_total = 0\n",
    "masse_im_netz = 0\n",
    "status_netz = False\n",
    "incident_steine = 0\n",
    "steine_im_netz = 0\n",
    "length = len(df_sim)\n",
    "\n",
    "for i in range(int(length)):\n",
    "    iterated_delta = df_sim[\"Time_delta_(h)\"][i]\n",
    "    iterated_energy = df_sim[\"Energy_(kJ)\"][i]\n",
    "\n",
    "    stunden_total += iterated_delta\n",
    "\n",
    "    if (iterated_delta > max_delta):\n",
    "        if status_netz:\n",
    "            incident_steine += steine_im_netz\n",
    "        steine_im_netz = 1\n",
    "        status_netz = netztest(False,0,iterated_energy)\n",
    "        masse_im_netz = df_sim[\"Mass_(kg)\"][i]\n",
    "\n",
    "        iterated_delta = iterated_delta % max_delta\n",
    "\n",
    "\n",
    "        if iterated_delta > (max_delta - current_delta):\n",
    "\n",
    "            current_delta = abs((max_delta - current_delta)-iterated_delta)\n",
    "\n",
    "\n",
    "        elif iterated_delta <= (max_delta - current_delta):\n",
    "\n",
    "            current_delta = current_delta + iterated_delta\n",
    "\n",
    "    elif iterated_delta <= max_delta:\n",
    "\n",
    "        if iterated_delta > (max_delta - current_delta):\n",
    "            if status_netz:\n",
    "                incident_steine += steine_im_netz\n",
    "            steine_im_netz = 1\n",
    "            status_netz = netztest(False,0,iterated_energy)\n",
    "            masse_im_netz = df_sim[\"Mass_(kg)\"][i]\n",
    "            current_delta = abs((max_delta - current_delta)-iterated_delta)\n",
    "\n",
    "        elif iterated_delta <= (max_delta - current_delta):\n",
    "            steine_im_netz += 1\n",
    "            status_netz = netztest(status_netz,masse_im_netz,iterated_energy)\n",
    "            masse_im_netz += df_sim[\"Mass_(kg)\"][i]\n",
    "            current_delta = current_delta + iterated_delta\n",
    "\n",
    "\n",
    "\n",
    "print(\"Anzahl simulierte Steine: \",length)\n",
    "print(\"Anzahl incident Steine: \",incident_steine)\n",
    "print(incident_steine/length*100)"
   ],
   "metadata": {
    "collapsed": false
   }
  },
  {
   "cell_type": "code",
   "execution_count": 124,
   "outputs": [
    {
     "name": "stdout",
     "output_type": "stream",
     "text": [
      "0.011538549064629063\n"
     ]
    }
   ],
   "source": [
    "anzahl_sim_jahre = stunden_total / 8760\n",
    "steine_pro_jahr = (length / anzahl_sim_jahre)\n",
    "incident_prob_pro_stein = incident_steine/length\n",
    "incident_prob_pro_jahr = incident_prob_pro_stein * steine_pro_jahr\n",
    "print(incident_prob_pro_jahr)\n",
    "\n"
   ],
   "metadata": {
    "collapsed": false
   }
  },
  {
   "cell_type": "code",
   "execution_count": 153,
   "outputs": [],
   "source": [
    "def danger_zone(v_km_h,laenge_auto,autos_pro_tag):\n",
    "    reaktionszeit = 0.1\n",
    "    seconds_per_day = 86400\n",
    "    v_m_s = (v_km_h / 3.6)\n",
    "    danger_time_pro_auto = (laenge_auto / v_m_s)\n",
    "    print(danger_time_pro_auto)\n",
    "    danger_time_total = danger_time_pro_auto * autos_pro_tag\n",
    "    print(danger_time_total)\n",
    "    danger_percentage = ((danger_time_total / seconds_per_day))\n",
    "    print(danger_percentage)\n",
    "\n",
    "    return danger_percentage"
   ],
   "metadata": {
    "collapsed": false
   }
  },
  {
   "cell_type": "code",
   "execution_count": 168,
   "outputs": [
    {
     "name": "stdout",
     "output_type": "stream",
     "text": [
      "0.618\n",
      "741.6\n",
      "0.008583333333333333\n"
     ]
    }
   ],
   "source": [
    "danger_strecke = danger_zone(60,10.3,1200)"
   ],
   "metadata": {
    "collapsed": false
   }
  },
  {
   "cell_type": "code",
   "execution_count": 169,
   "outputs": [
    {
     "name": "stdout",
     "output_type": "stream",
     "text": [
      "0.011538549064629063\n",
      "0.008583333333333333\n",
      "0.000099\n"
     ]
    }
   ],
   "source": [
    "print(incident_prob_pro_jahr)\n",
    "print(danger_strecke)\n",
    "print('{:f}'.format(incident_prob_pro_jahr * danger_strecke ))"
   ],
   "metadata": {
    "collapsed": false
   }
  }
 ],
 "metadata": {
  "kernelspec": {
   "display_name": "Python 3",
   "language": "python",
   "name": "python3"
  },
  "language_info": {
   "codemirror_mode": {
    "name": "ipython",
    "version": 2
   },
   "file_extension": ".py",
   "mimetype": "text/x-python",
   "name": "python",
   "nbconvert_exporter": "python",
   "pygments_lexer": "ipython2",
   "version": "2.7.6"
  }
 },
 "nbformat": 4,
 "nbformat_minor": 0
}
