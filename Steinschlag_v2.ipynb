{
 "cells": [
  {
   "cell_type": "markdown",
   "source": [
    "Module importieren"
   ],
   "metadata": {
    "collapsed": false
   }
  },
  {
   "cell_type": "code",
   "execution_count": 349,
   "outputs": [],
   "source": [
    "import matplotlib.pyplot as plt\n",
    "import pandas as pd\n",
    "#import pd as pd\n",
    "import seaborn as sns\n",
    "from datetime import datetime\n",
    "from fitter import Fitter\n",
    "import numpy as np\n",
    "from scipy import stats\n",
    "import statsmodels.api as sm\n",
    "from tabulate import tabulate"
   ],
   "metadata": {
    "collapsed": false
   }
  },
  {
   "cell_type": "markdown",
   "source": [
    "Daten laden und säubern"
   ],
   "metadata": {
    "collapsed": false
   }
  },
  {
   "cell_type": "code",
   "execution_count": 350,
   "metadata": {
    "collapsed": true
   },
   "outputs": [],
   "source": [
    "def open_csv_to_df(directory):\n",
    "    df = pd.read_csv(directory)\n",
    "    df = df.iloc[0:,:4]\n",
    "    df.columns = [\"Date\", \"Time\", \"Mass_(kg)\", \"Velocity_(m/s)\"]\n",
    "    df.insert(4, \"Energy_(kJ)\", \"\")\n",
    "    df.insert(5, \"Date_and_Time\", \"\")\n",
    "    df.insert(6, \"Time_delta_(h)\", \"\")\n",
    "    for i in range(len(df)):\n",
    "        df.iloc[i,4] = 0.5 * float(df.iloc[i,2]) * float(df.iloc[i,3]) ** 2 / 1000 #calculation of Energy_(kJ)\n",
    "    df = df.sort_values(['Date', 'Time']).reset_index(drop=True)\n",
    "    df = df.dropna()\n",
    "\n",
    "    for i in range(len(df)):\n",
    "        date_raw = df.iloc[i,:].Date +\" \" +df.iloc[i,:].Time\n",
    "        date1 = datetime.strptime(date_raw, '%Y-%m-%d %H:%M')\n",
    "        df.iloc[i,5] = date1\n",
    "\n",
    "    for i in range(len(df)-1):\n",
    "        date1 = df.iloc[i,5]\n",
    "        date2 = df.iloc[i+1,5]\n",
    "        time_delta = date2 - date1\n",
    "        time_delta = (time_delta.days*24) + (time_delta.seconds//3600)\n",
    "        df.iloc[i+1,6] = time_delta\n",
    "\n",
    "    #Fitter kann keine NAs handhaben aus diesem Grund wird erste Beobachtung mit dem Median der Zeitabstände ersetzt.\n",
    "    df.iloc[0,6] = 0\n",
    "    df['Time_delta_(h)'] = df['Time_delta_(h)'].astype('int')\n",
    "    df.iloc[0,6] = df[\"Time_delta_(h)\"].median()\n",
    "\n",
    "    return df #this is the table with all stones combined"
   ]
  },
  {
   "cell_type": "code",
   "execution_count": 351,
   "outputs": [],
   "source": [
    "df1 = open_csv_to_df(\"./out_1.csv\")\n",
    "df2 = open_csv_to_df(\"./out_2.csv\")"
   ],
   "metadata": {
    "collapsed": false
   }
  },
  {
   "cell_type": "markdown",
   "source": [
    "Funktion für Fitting von Verteilungen"
   ],
   "metadata": {
    "collapsed": false
   }
  },
  {
   "cell_type": "code",
   "execution_count": 352,
   "outputs": [],
   "source": [
    "def fit_distribution(data):\n",
    "    count = 0\n",
    "    fitted_mass = Fitter(data)\n",
    "    fitted_mass.fit()\n",
    "    ks_summary = fitted_mass.summary()\n",
    "    distributions = ks_summary.index.values\n",
    "    print(ks_summary.iloc[:,-2:])\n",
    "    fig, ax = plt.subplots(1,5,figsize=(25, 5))\n",
    "    table = [['Distribution', 'Parameters']]\n",
    "\n",
    "    for i in distributions:\n",
    "        param = fitted_mass.fitted_param[i]\n",
    "        table.append([i, param])\n",
    "        dist_eval = eval('stats.' + i + '.rvs(*param, size = 1000)')\n",
    "        sm.qqplot_2samples(data, dist_eval, xlabel = i.capitalize() + ' Distribution', ylabel = 'Sample Distribution', line = '45' ,ax = ax[count])\n",
    "        count += 1\n",
    "    plt.show()\n",
    "    print(tabulate(table, headers = 'firstrow'))"
   ],
   "metadata": {
    "collapsed": false
   }
  },
  {
   "cell_type": "markdown",
   "source": [
    "Zone 1"
   ],
   "metadata": {
    "collapsed": false
   }
  },
  {
   "cell_type": "code",
   "execution_count": 353,
   "outputs": [],
   "source": [
    "#fit_distribution(df1['Mass_(kg)'])"
   ],
   "metadata": {
    "collapsed": false
   }
  },
  {
   "cell_type": "code",
   "execution_count": 354,
   "outputs": [],
   "source": [
    "#fit_distribution(df1[\"Velocity_(m/s)\"])"
   ],
   "metadata": {
    "collapsed": false
   }
  },
  {
   "cell_type": "code",
   "execution_count": 355,
   "outputs": [],
   "source": [
    "#fit_distribution(df1[\"Time_delta_(h)\"])"
   ],
   "metadata": {
    "collapsed": false
   }
  },
  {
   "cell_type": "markdown",
   "source": [
    "Zone 2"
   ],
   "metadata": {
    "collapsed": false
   }
  },
  {
   "cell_type": "code",
   "execution_count": 356,
   "outputs": [],
   "source": [
    "#fit_distribution(df2['Mass_(kg)'])"
   ],
   "metadata": {
    "collapsed": false
   }
  },
  {
   "cell_type": "code",
   "execution_count": 357,
   "outputs": [],
   "source": [
    "#fit_distribution(df2[\"Velocity_(m/s)\"])"
   ],
   "metadata": {
    "collapsed": false
   }
  },
  {
   "cell_type": "code",
   "execution_count": 358,
   "outputs": [],
   "source": [
    "#fit_distribution(df2[\"Time_delta_(h)\"])"
   ],
   "metadata": {
    "collapsed": false
   }
  },
  {
   "cell_type": "markdown",
   "source": [
    "Monte Carlo"
   ],
   "metadata": {
    "collapsed": false
   }
  },
  {
   "cell_type": "code",
   "execution_count": 359,
   "outputs": [],
   "source": [
    "sim_count = 10_000_000\n"
   ],
   "metadata": {
    "collapsed": false
   }
  },
  {
   "cell_type": "markdown",
   "source": [
    "Zone 1"
   ],
   "metadata": {
    "collapsed": false
   }
  },
  {
   "cell_type": "code",
   "execution_count": 360,
   "outputs": [],
   "source": [
    "# Masse\n",
    "param = stats.gamma.fit(df1['Mass_(kg)'])\n",
    "zone1_mass = stats.gamma.rvs(*param, size = sim_count)\n",
    "\n",
    "# Geschwindigkeit\n",
    "param = stats.norm.fit(df1[\"Velocity_(m/s)\"])\n",
    "zone1_velocity = stats.norm.rvs(*param, size = sim_count)\n",
    "\n",
    "# Zeitabstand\n",
    "param = stats.expon.fit(df1[\"Time_delta_(h)\"])\n",
    "zone1_time_delta = stats.expon.rvs(*param, size = sim_count)"
   ],
   "metadata": {
    "collapsed": false
   }
  },
  {
   "cell_type": "markdown",
   "source": [
    "Zone 2"
   ],
   "metadata": {
    "collapsed": false
   }
  },
  {
   "cell_type": "code",
   "execution_count": 361,
   "outputs": [],
   "source": [
    "# Masse\n",
    "param = stats.gamma.fit(df2['Mass_(kg)'])\n",
    "zone2_mass = stats.gamma.rvs(*param, size = sim_count)\n",
    "\n",
    "# Geschwindigkeit\n",
    "param = stats.norm.fit(df2[\"Velocity_(m/s)\"])\n",
    "zone2_velocity = stats.norm.rvs(*param, size = sim_count)\n",
    "\n",
    "# Zeitabstand\n",
    "param = stats.expon.fit(df2[\"Time_delta_(h)\"])\n",
    "zone2_time_delta = stats.expon.rvs(*param, size = sim_count)"
   ],
   "metadata": {
    "collapsed": false
   }
  },
  {
   "cell_type": "code",
   "execution_count": 362,
   "outputs": [
    {
     "name": "stderr",
     "output_type": "stream",
     "text": [
      "C:\\Users\\logan\\AppData\\Local\\Temp\\ipykernel_14264\\3105050015.py:9: SettingWithCopyWarning: \n",
      "A value is trying to be set on a copy of a slice from a DataFrame\n",
      "\n",
      "See the caveats in the documentation: https://pandas.pydata.org/pandas-docs/stable/user_guide/indexing.html#returning-a-view-versus-a-copy\n",
      "  df1_sim[\"Time_delta_(h)\"][0] = 0\n"
     ]
    },
    {
     "data": {
      "text/plain": "           Mass_(kg)  Velocity_(m/s)  Energy_(kJ)  Time_delta_(h)\n0         873.612957        7.452038    24.257117          0.0000\n1         160.379257        8.974976     6.459291         47.6774\n2         152.068394       10.166222     7.858292         27.7016\n3         189.698574        9.084072     7.826997         32.7342\n4        2173.303054        9.941713   107.402089         84.3454\n...              ...             ...          ...             ...\n9999995   502.877117        9.044698    20.569326         27.1203\n9999996   217.621513        6.698695     4.882613         91.8270\n9999997   958.270164        8.769647    36.848703          5.5075\n9999998   300.541891        6.030754     5.465353         16.7658\n9999999  2438.111377        9.972110   121.226528         36.6307\n\n[10000000 rows x 4 columns]",
      "text/html": "<div>\n<style scoped>\n    .dataframe tbody tr th:only-of-type {\n        vertical-align: middle;\n    }\n\n    .dataframe tbody tr th {\n        vertical-align: top;\n    }\n\n    .dataframe thead th {\n        text-align: right;\n    }\n</style>\n<table border=\"1\" class=\"dataframe\">\n  <thead>\n    <tr style=\"text-align: right;\">\n      <th></th>\n      <th>Mass_(kg)</th>\n      <th>Velocity_(m/s)</th>\n      <th>Energy_(kJ)</th>\n      <th>Time_delta_(h)</th>\n    </tr>\n  </thead>\n  <tbody>\n    <tr>\n      <th>0</th>\n      <td>873.612957</td>\n      <td>7.452038</td>\n      <td>24.257117</td>\n      <td>0.0000</td>\n    </tr>\n    <tr>\n      <th>1</th>\n      <td>160.379257</td>\n      <td>8.974976</td>\n      <td>6.459291</td>\n      <td>47.6774</td>\n    </tr>\n    <tr>\n      <th>2</th>\n      <td>152.068394</td>\n      <td>10.166222</td>\n      <td>7.858292</td>\n      <td>27.7016</td>\n    </tr>\n    <tr>\n      <th>3</th>\n      <td>189.698574</td>\n      <td>9.084072</td>\n      <td>7.826997</td>\n      <td>32.7342</td>\n    </tr>\n    <tr>\n      <th>4</th>\n      <td>2173.303054</td>\n      <td>9.941713</td>\n      <td>107.402089</td>\n      <td>84.3454</td>\n    </tr>\n    <tr>\n      <th>...</th>\n      <td>...</td>\n      <td>...</td>\n      <td>...</td>\n      <td>...</td>\n    </tr>\n    <tr>\n      <th>9999995</th>\n      <td>502.877117</td>\n      <td>9.044698</td>\n      <td>20.569326</td>\n      <td>27.1203</td>\n    </tr>\n    <tr>\n      <th>9999996</th>\n      <td>217.621513</td>\n      <td>6.698695</td>\n      <td>4.882613</td>\n      <td>91.8270</td>\n    </tr>\n    <tr>\n      <th>9999997</th>\n      <td>958.270164</td>\n      <td>8.769647</td>\n      <td>36.848703</td>\n      <td>5.5075</td>\n    </tr>\n    <tr>\n      <th>9999998</th>\n      <td>300.541891</td>\n      <td>6.030754</td>\n      <td>5.465353</td>\n      <td>16.7658</td>\n    </tr>\n    <tr>\n      <th>9999999</th>\n      <td>2438.111377</td>\n      <td>9.972110</td>\n      <td>121.226528</td>\n      <td>36.6307</td>\n    </tr>\n  </tbody>\n</table>\n<p>10000000 rows × 4 columns</p>\n</div>"
     },
     "execution_count": 362,
     "metadata": {},
     "output_type": "execute_result"
    }
   ],
   "source": [
    "df1_sim = pd.DataFrame()\n",
    "df1_sim.insert(0, \"Mass_(kg)\", zone1_mass)\n",
    "df1_sim.insert(1, \"Velocity_(m/s)\", zone1_velocity)\n",
    "df1_sim.insert(2, \"Energy_(kJ)\", \"\")\n",
    "df1_sim.insert(3, \"Time_delta_(h)\", zone1_time_delta)\n",
    "\n",
    "\n",
    "df1_sim[\"Time_delta_(h)\"] = zone1_time_delta.round(4)\n",
    "df1_sim[\"Time_delta_(h)\"][0] = 0\n",
    "\n",
    "df1_sim = df1_sim.dropna()\n",
    "df1_sim[\"Energy_(kJ)\"] = (0.5 * df1_sim[\"Mass_(kg)\"] * (df1_sim[\"Velocity_(m/s)\"] ** 2)) / 1000\n",
    "df1_sim"
   ],
   "metadata": {
    "collapsed": false
   }
  },
  {
   "cell_type": "code",
   "execution_count": 363,
   "outputs": [
    {
     "data": {
      "text/plain": "852.7335714499677"
     },
     "execution_count": 363,
     "metadata": {},
     "output_type": "execute_result"
    }
   ],
   "source": [
    "max(df1_sim[\"Energy_(kJ)\"])"
   ],
   "metadata": {
    "collapsed": false
   }
  },
  {
   "cell_type": "code",
   "execution_count": 364,
   "outputs": [
    {
     "data": {
      "text/plain": "15"
     },
     "execution_count": 364,
     "metadata": {},
     "output_type": "execute_result"
    }
   ],
   "source": [
    "87 % 24"
   ],
   "metadata": {
    "collapsed": false
   }
  },
  {
   "cell_type": "code",
   "execution_count": 365,
   "outputs": [
    {
     "data": {
      "text/plain": "15"
     },
     "execution_count": 365,
     "metadata": {},
     "output_type": "execute_result"
    }
   ],
   "source": [
    "87 - 24 -24 -24"
   ],
   "metadata": {
    "collapsed": false
   }
  },
  {
   "cell_type": "code",
   "execution_count": 366,
   "outputs": [
    {
     "name": "stdout",
     "output_type": "stream",
     "text": [
      "    Mass_(kg)  Velocity_(m/s)  Energy_(kJ)  Time_delta_(h)\n",
      "1  160.379257        8.974976     6.459291         47.6774\n",
      "2  152.068394       10.166222     7.858292         27.7016\n"
     ]
    },
    {
     "name": "stderr",
     "output_type": "stream",
     "text": [
      "C:\\Users\\logan\\AppData\\Local\\Temp\\ipykernel_14264\\3055680985.py:7: FutureWarning: The frame.append method is deprecated and will be removed from pandas in a future version. Use pandas.concat instead.\n",
      "  x = x.append(df1_sim.iloc[1,:])\n",
      "C:\\Users\\logan\\AppData\\Local\\Temp\\ipykernel_14264\\3055680985.py:8: FutureWarning: The frame.append method is deprecated and will be removed from pandas in a future version. Use pandas.concat instead.\n",
      "  x = x.append(df1_sim.iloc[2,:])\n"
     ]
    }
   ],
   "source": [
    "x = pd.DataFrame()\n",
    "x.insert(0, \"Mass_(kg)\",\"\")\n",
    "x.insert(1, \"Velocity_(m/s)\",\"\")\n",
    "x.insert(2, \"Energy_(kJ)\",\"\")\n",
    "x.insert(3, \"Time_delta_(h)\",\"\")\n",
    "\n",
    "x = x.append(df1_sim.iloc[1,:])\n",
    "x = x.append(df1_sim.iloc[2,:])\n",
    "print(x)"
   ],
   "metadata": {
    "collapsed": false
   }
  },
  {
   "cell_type": "code",
   "execution_count": 367,
   "outputs": [],
   "source": [
    "def netztest(status_netz,gewicht_im_netz,aufprallenergie):\n",
    "\n",
    "    if status_netz == True:\n",
    "        return True\n",
    "\n",
    "    elif gewicht_im_netz > 2000:\n",
    "        if aufprallenergie > 500:\n",
    "            return True\n",
    "        else:\n",
    "            return False\n",
    "\n",
    "    elif gewicht_im_netz <= 2000:\n",
    "        if aufprallenergie > 1000:\n",
    "            return True\n",
    "        else:\n",
    "            return False\n",
    "    else:\n",
    "        return False"
   ],
   "metadata": {
    "collapsed": false
   }
  },
  {
   "cell_type": "code",
   "execution_count": 368,
   "outputs": [
    {
     "name": "stdout",
     "output_type": "stream",
     "text": [
      "Anzahl simulierte Steine:  10000000\n",
      "Anzahl incident Steine:  33\n",
      "0.00033\n"
     ]
    }
   ],
   "source": [
    "max_delta = 24\n",
    "current_delta = 0\n",
    "stunden_total = 0\n",
    "masse_im_netz = 0\n",
    "status_netz = False\n",
    "incident_steine = 0\n",
    "steine_im_netz = 0\n",
    "\n",
    "for i in range(int(len(df1_sim))):\n",
    "    iterated_delta = df1_sim[\"Time_delta_(h)\"][i]\n",
    "    iterated_energy = df1_sim[\"Energy_(kJ)\"][i]\n",
    "\n",
    "    stunden_total += iterated_delta\n",
    "\n",
    "\n",
    "    if iterated_delta > max_delta:\n",
    "        if status_netz:\n",
    "            incident_steine += steine_im_netz\n",
    "        steine_im_netz = 1\n",
    "        status_netz = netztest(False,0,iterated_energy)\n",
    "        masse_im_netz = df1_sim[\"Mass_(kg)\"][i]\n",
    "\n",
    "        iterated_delta = iterated_delta % max_delta\n",
    "\n",
    "\n",
    "        if iterated_delta > (max_delta - current_delta):\n",
    "\n",
    "            current_delta = abs((max_delta - current_delta)-iterated_delta)\n",
    "\n",
    "\n",
    "        elif iterated_delta <= (max_delta - current_delta):\n",
    "\n",
    "            current_delta = current_delta + iterated_delta\n",
    "\n",
    "    elif iterated_delta <= max_delta:\n",
    "\n",
    "        if iterated_delta > (max_delta - current_delta):\n",
    "            if status_netz:\n",
    "                incident_steine += steine_im_netz\n",
    "            steine_im_netz = 1\n",
    "            status_netz = netztest(False,0,iterated_energy)\n",
    "            masse_im_netz = df1_sim[\"Mass_(kg)\"][i]\n",
    "            current_delta = abs((max_delta - current_delta)-iterated_delta)\n",
    "\n",
    "        elif iterated_delta <= (max_delta - current_delta):\n",
    "            steine_im_netz += 1\n",
    "            status_netz = netztest(status_netz,masse_im_netz,iterated_energy)\n",
    "            masse_im_netz += df1_sim[\"Mass_(kg)\"][i]\n",
    "            current_delta = current_delta + iterated_delta\n",
    "\n",
    "\n",
    "\n",
    "print(\"Anzahl simulierte Steine: \",sim_count)\n",
    "print(\"Anzahl incident Steine: \",incident_steine)\n",
    "print(incident_steine/sim_count*100)"
   ],
   "metadata": {
    "collapsed": false
   }
  },
  {
   "cell_type": "code",
   "execution_count": 369,
   "outputs": [
    {
     "name": "stdout",
     "output_type": "stream",
     "text": [
      "0.09500693494050573 %\n",
      "0.0009500693494050573\n"
     ]
    }
   ],
   "source": [
    "anzahl_sim_jahre = stunden_total / 8760\n",
    "steine_pro_jahr = (sim_count / anzahl_sim_jahre)\n",
    "incident_prob_pro_stein = incident_steine/sim_count*100\n",
    "incident_prob_pro_jahr = incident_prob_pro_stein * steine_pro_jahr\n",
    "print(incident_prob_pro_jahr, \"%\")\n",
    "print(incident_prob_pro_jahr /100)\n",
    "\n"
   ],
   "metadata": {
    "collapsed": false
   }
  },
  {
   "cell_type": "code",
   "execution_count": 393,
   "outputs": [],
   "source": [
    "def danger_zone(v_km_h,laenge_auto,autos_pro_tag):\n",
    "    seconds_per_day = 86400\n",
    "    v_m_s = (v_km_h / 3.6)\n",
    "    danger_time_pro_auto = (laenge_auto / v_m_s)\n",
    "    print(danger_time_pro_auto)\n",
    "    danger_time_total = danger_time_pro_auto * autos_pro_tag\n",
    "    print(danger_time_total)\n",
    "    danger_percentage = ((danger_time_total / seconds_per_day) * 100)\n",
    "    print(danger_percentage)\n",
    "\n",
    "    return danger_percentage"
   ],
   "metadata": {
    "collapsed": false
   }
  },
  {
   "cell_type": "code",
   "execution_count": 391,
   "outputs": [
    {
     "name": "stdout",
     "output_type": "stream",
     "text": [
      "0.075\n",
      "90.0\n",
      "0.10416666666666667\n"
     ]
    }
   ],
   "source": [
    "danger_strecke = danger_zone(60,1.25,1200)"
   ],
   "metadata": {
    "collapsed": false
   }
  },
  {
   "cell_type": "code",
   "execution_count": 392,
   "outputs": [
    {
     "name": "stdout",
     "output_type": "stream",
     "text": [
      "0.09500693494050573\n",
      "0.10416666666666667\n",
      "0.000099\n"
     ]
    }
   ],
   "source": [
    "print(incident_prob_pro_jahr)\n",
    "print(danger_strecke)\n",
    "print('{:f}'.format(incident_prob_pro_jahr * danger_strecke /100))"
   ],
   "metadata": {
    "collapsed": false
   }
  }
 ],
 "metadata": {
  "kernelspec": {
   "display_name": "Python 3",
   "language": "python",
   "name": "python3"
  },
  "language_info": {
   "codemirror_mode": {
    "name": "ipython",
    "version": 2
   },
   "file_extension": ".py",
   "mimetype": "text/x-python",
   "name": "python",
   "nbconvert_exporter": "python",
   "pygments_lexer": "ipython2",
   "version": "2.7.6"
  }
 },
 "nbformat": 4,
 "nbformat_minor": 0
}
