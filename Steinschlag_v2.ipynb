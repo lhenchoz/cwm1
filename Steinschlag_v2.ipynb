{
 "cells": [
  {
   "cell_type": "markdown",
   "source": [
    "Module importieren"
   ],
   "metadata": {
    "collapsed": false
   }
  },
  {
   "cell_type": "code",
   "execution_count": 284,
   "outputs": [],
   "source": [
    "import matplotlib.pyplot as plt\n",
    "import pandas as pd\n",
    "#import pd as pd\n",
    "import seaborn as sns\n",
    "from datetime import datetime\n",
    "from fitter import Fitter\n",
    "import numpy as np\n",
    "from scipy import stats\n",
    "import statsmodels.api as sm\n",
    "from tabulate import tabulate"
   ],
   "metadata": {
    "collapsed": false
   }
  },
  {
   "cell_type": "markdown",
   "source": [
    "Daten laden und säubern"
   ],
   "metadata": {
    "collapsed": false
   }
  },
  {
   "cell_type": "code",
   "execution_count": 285,
   "metadata": {
    "collapsed": true
   },
   "outputs": [],
   "source": [
    "def open_csv_to_df(directory):\n",
    "    df = pd.read_csv(directory)\n",
    "    df = df.iloc[0:,:4]\n",
    "    df.columns = [\"Date\", \"Time\", \"Mass_(kg)\", \"Velocity_(m/s)\"]\n",
    "    df.insert(4, \"Energy_(kJ)\", \"\")\n",
    "    df.insert(5, \"Date_and_Time\", \"\")\n",
    "    df.insert(6, \"Time_delta_(h)\", \"\")\n",
    "    for i in range(len(df)):\n",
    "        df.iloc[i,4] = 0.5 * float(df.iloc[i,2]) * float(df.iloc[i,3]) ** 2 / 1000 #calculation of Energy_(kJ)\n",
    "    df = df.sort_values(['Date', 'Time']).reset_index(drop=True)\n",
    "    df = df.dropna()\n",
    "\n",
    "    for i in range(len(df)):\n",
    "        date_raw = df.iloc[i,:].Date +\" \" +df.iloc[i,:].Time\n",
    "        date1 = datetime.strptime(date_raw, '%Y-%m-%d %H:%M')\n",
    "        df.iloc[i,5] = date1\n",
    "\n",
    "    for i in range(len(df)-1):\n",
    "        date1 = df.iloc[i,5]\n",
    "        date2 = df.iloc[i+1,5]\n",
    "        time_delta = date2 - date1\n",
    "        time_delta = (time_delta.days*24) + (time_delta.seconds//3600)\n",
    "        df.iloc[i+1,6] = time_delta\n",
    "\n",
    "    #Fitter kann keine NAs handhaben aus diesem Grund wird erste Beobachtung mit dem Median der Zeitabstände ersetzt.\n",
    "    df.iloc[0,6] = 0\n",
    "    df['Time_delta_(h)'] = df['Time_delta_(h)'].astype('int')\n",
    "    df.iloc[0,6] = df[\"Time_delta_(h)\"].median()\n",
    "\n",
    "    return df #this is the table with all stones combined"
   ]
  },
  {
   "cell_type": "code",
   "execution_count": 286,
   "outputs": [],
   "source": [
    "df1 = open_csv_to_df(\"./out_1.csv\")\n",
    "df2 = open_csv_to_df(\"./out_2.csv\")"
   ],
   "metadata": {
    "collapsed": false
   }
  },
  {
   "cell_type": "markdown",
   "source": [
    "Funktion für Fitting von Verteilungen"
   ],
   "metadata": {
    "collapsed": false
   }
  },
  {
   "cell_type": "code",
   "execution_count": 287,
   "outputs": [],
   "source": [
    "def fit_distribution(data):\n",
    "    count = 0\n",
    "    fitted_mass = Fitter(data)\n",
    "    fitted_mass.fit()\n",
    "    ks_summary = fitted_mass.summary()\n",
    "    distributions = ks_summary.index.values\n",
    "    print(ks_summary.iloc[:,-2:])\n",
    "    fig, ax = plt.subplots(1,5,figsize=(25, 5))\n",
    "    table = [['Distribution', 'Parameters']]\n",
    "\n",
    "    for i in distributions:\n",
    "        param = fitted_mass.fitted_param[i]\n",
    "        table.append([i, param])\n",
    "        dist_eval = eval('stats.' + i + '.rvs(*param, size = 1000)')\n",
    "        sm.qqplot_2samples(data, dist_eval, xlabel = i.capitalize() + ' Distribution', ylabel = 'Sample Distribution', line = '45' ,ax = ax[count])\n",
    "        count += 1\n",
    "    plt.show()\n",
    "    print(tabulate(table, headers = 'firstrow'))"
   ],
   "metadata": {
    "collapsed": false
   }
  },
  {
   "cell_type": "markdown",
   "source": [
    "Zone 1"
   ],
   "metadata": {
    "collapsed": false
   }
  },
  {
   "cell_type": "code",
   "execution_count": 288,
   "outputs": [],
   "source": [
    "#fit_distribution(df1['Mass_(kg)'])"
   ],
   "metadata": {
    "collapsed": false
   }
  },
  {
   "cell_type": "code",
   "execution_count": 289,
   "outputs": [],
   "source": [
    "#fit_distribution(df1[\"Velocity_(m/s)\"])"
   ],
   "metadata": {
    "collapsed": false
   }
  },
  {
   "cell_type": "code",
   "execution_count": 290,
   "outputs": [],
   "source": [
    "#fit_distribution(df1[\"Time_delta_(h)\"])"
   ],
   "metadata": {
    "collapsed": false
   }
  },
  {
   "cell_type": "markdown",
   "source": [
    "Zone 2"
   ],
   "metadata": {
    "collapsed": false
   }
  },
  {
   "cell_type": "code",
   "execution_count": 291,
   "outputs": [],
   "source": [
    "#fit_distribution(df2['Mass_(kg)'])"
   ],
   "metadata": {
    "collapsed": false
   }
  },
  {
   "cell_type": "code",
   "execution_count": 292,
   "outputs": [],
   "source": [
    "#fit_distribution(df2[\"Velocity_(m/s)\"])"
   ],
   "metadata": {
    "collapsed": false
   }
  },
  {
   "cell_type": "code",
   "execution_count": 293,
   "outputs": [],
   "source": [
    "#fit_distribution(df2[\"Time_delta_(h)\"])"
   ],
   "metadata": {
    "collapsed": false
   }
  },
  {
   "cell_type": "markdown",
   "source": [
    "Monte Carlo"
   ],
   "metadata": {
    "collapsed": false
   }
  },
  {
   "cell_type": "code",
   "execution_count": 294,
   "outputs": [],
   "source": [
    "sim_count = 2_000_000\n"
   ],
   "metadata": {
    "collapsed": false
   }
  },
  {
   "cell_type": "markdown",
   "source": [
    "Zone 1"
   ],
   "metadata": {
    "collapsed": false
   }
  },
  {
   "cell_type": "code",
   "execution_count": 295,
   "outputs": [],
   "source": [
    "# Masse\n",
    "param = stats.gamma.fit(df1['Mass_(kg)'])\n",
    "zone1_mass = stats.gamma.rvs(*param, size = sim_count)\n",
    "\n",
    "# Geschwindigkeit\n",
    "param = stats.norm.fit(df1[\"Velocity_(m/s)\"])\n",
    "zone1_velocity = stats.norm.rvs(*param, size = sim_count)\n",
    "\n",
    "# Zeitabstand\n",
    "param = stats.expon.fit(df1[\"Time_delta_(h)\"])\n",
    "zone1_time_delta = stats.expon.rvs(*param, size = sim_count)"
   ],
   "metadata": {
    "collapsed": false
   }
  },
  {
   "cell_type": "markdown",
   "source": [
    "Zone 2"
   ],
   "metadata": {
    "collapsed": false
   }
  },
  {
   "cell_type": "code",
   "execution_count": 296,
   "outputs": [],
   "source": [
    "# Masse\n",
    "param = stats.gamma.fit(df2['Mass_(kg)'])\n",
    "zone2_mass = stats.gamma.rvs(*param, size = sim_count)\n",
    "\n",
    "# Geschwindigkeit\n",
    "param = stats.norm.fit(df2[\"Velocity_(m/s)\"])\n",
    "zone2_velocity = stats.norm.rvs(*param, size = sim_count)\n",
    "\n",
    "# Zeitabstand\n",
    "param = stats.expon.fit(df2[\"Time_delta_(h)\"])\n",
    "zone2_time_delta = stats.expon.rvs(*param, size = sim_count)"
   ],
   "metadata": {
    "collapsed": false
   }
  },
  {
   "cell_type": "code",
   "execution_count": 297,
   "outputs": [
    {
     "name": "stderr",
     "output_type": "stream",
     "text": [
      "C:\\Users\\logan\\AppData\\Local\\Temp\\ipykernel_14264\\3105050015.py:9: SettingWithCopyWarning: \n",
      "A value is trying to be set on a copy of a slice from a DataFrame\n",
      "\n",
      "See the caveats in the documentation: https://pandas.pydata.org/pandas-docs/stable/user_guide/indexing.html#returning-a-view-versus-a-copy\n",
      "  df1_sim[\"Time_delta_(h)\"][0] = 0\n"
     ]
    },
    {
     "data": {
      "text/plain": "           Mass_(kg)  Velocity_(m/s)  Energy_(kJ)  Time_delta_(h)\n0         134.220536        5.115039     1.755847          0.0000\n1        1622.060904       10.266978    85.491395         12.1307\n2         427.804999        9.116658    17.778174         21.6177\n3         541.404941        7.340060    14.584495         27.6305\n4          26.531418        5.813654     0.448362          1.0998\n...              ...             ...          ...             ...\n1999995    20.328593        7.748982     0.610333          3.8094\n1999996   767.496870       12.080999    56.008292         32.7278\n1999997  1649.774255        6.861733    38.838479         43.7228\n1999998    32.718964        9.584741     1.502901         32.9912\n1999999   142.827110       12.827175    11.750130         42.7903\n\n[2000000 rows x 4 columns]",
      "text/html": "<div>\n<style scoped>\n    .dataframe tbody tr th:only-of-type {\n        vertical-align: middle;\n    }\n\n    .dataframe tbody tr th {\n        vertical-align: top;\n    }\n\n    .dataframe thead th {\n        text-align: right;\n    }\n</style>\n<table border=\"1\" class=\"dataframe\">\n  <thead>\n    <tr style=\"text-align: right;\">\n      <th></th>\n      <th>Mass_(kg)</th>\n      <th>Velocity_(m/s)</th>\n      <th>Energy_(kJ)</th>\n      <th>Time_delta_(h)</th>\n    </tr>\n  </thead>\n  <tbody>\n    <tr>\n      <th>0</th>\n      <td>134.220536</td>\n      <td>5.115039</td>\n      <td>1.755847</td>\n      <td>0.0000</td>\n    </tr>\n    <tr>\n      <th>1</th>\n      <td>1622.060904</td>\n      <td>10.266978</td>\n      <td>85.491395</td>\n      <td>12.1307</td>\n    </tr>\n    <tr>\n      <th>2</th>\n      <td>427.804999</td>\n      <td>9.116658</td>\n      <td>17.778174</td>\n      <td>21.6177</td>\n    </tr>\n    <tr>\n      <th>3</th>\n      <td>541.404941</td>\n      <td>7.340060</td>\n      <td>14.584495</td>\n      <td>27.6305</td>\n    </tr>\n    <tr>\n      <th>4</th>\n      <td>26.531418</td>\n      <td>5.813654</td>\n      <td>0.448362</td>\n      <td>1.0998</td>\n    </tr>\n    <tr>\n      <th>...</th>\n      <td>...</td>\n      <td>...</td>\n      <td>...</td>\n      <td>...</td>\n    </tr>\n    <tr>\n      <th>1999995</th>\n      <td>20.328593</td>\n      <td>7.748982</td>\n      <td>0.610333</td>\n      <td>3.8094</td>\n    </tr>\n    <tr>\n      <th>1999996</th>\n      <td>767.496870</td>\n      <td>12.080999</td>\n      <td>56.008292</td>\n      <td>32.7278</td>\n    </tr>\n    <tr>\n      <th>1999997</th>\n      <td>1649.774255</td>\n      <td>6.861733</td>\n      <td>38.838479</td>\n      <td>43.7228</td>\n    </tr>\n    <tr>\n      <th>1999998</th>\n      <td>32.718964</td>\n      <td>9.584741</td>\n      <td>1.502901</td>\n      <td>32.9912</td>\n    </tr>\n    <tr>\n      <th>1999999</th>\n      <td>142.827110</td>\n      <td>12.827175</td>\n      <td>11.750130</td>\n      <td>42.7903</td>\n    </tr>\n  </tbody>\n</table>\n<p>2000000 rows × 4 columns</p>\n</div>"
     },
     "execution_count": 297,
     "metadata": {},
     "output_type": "execute_result"
    }
   ],
   "source": [
    "df1_sim = pd.DataFrame()\n",
    "df1_sim.insert(0, \"Mass_(kg)\", zone1_mass)\n",
    "df1_sim.insert(1, \"Velocity_(m/s)\", zone1_velocity)\n",
    "df1_sim.insert(2, \"Energy_(kJ)\", \"\")\n",
    "df1_sim.insert(3, \"Time_delta_(h)\", zone1_time_delta)\n",
    "\n",
    "\n",
    "df1_sim[\"Time_delta_(h)\"] = zone1_time_delta.round(4)\n",
    "df1_sim[\"Time_delta_(h)\"][0] = 0\n",
    "\n",
    "df1_sim = df1_sim.dropna()\n",
    "df1_sim[\"Energy_(kJ)\"] = (0.5 * df1_sim[\"Mass_(kg)\"] * (df1_sim[\"Velocity_(m/s)\"] ** 2)) / 1000\n",
    "df1_sim"
   ],
   "metadata": {
    "collapsed": false
   }
  },
  {
   "cell_type": "code",
   "execution_count": 298,
   "outputs": [
    {
     "data": {
      "text/plain": "814.314344930315"
     },
     "execution_count": 298,
     "metadata": {},
     "output_type": "execute_result"
    }
   ],
   "source": [
    "max(df1_sim[\"Energy_(kJ)\"])"
   ],
   "metadata": {
    "collapsed": false
   }
  },
  {
   "cell_type": "code",
   "execution_count": 299,
   "outputs": [
    {
     "data": {
      "text/plain": "15"
     },
     "execution_count": 299,
     "metadata": {},
     "output_type": "execute_result"
    }
   ],
   "source": [
    "87 % 24"
   ],
   "metadata": {
    "collapsed": false
   }
  },
  {
   "cell_type": "code",
   "execution_count": 300,
   "outputs": [
    {
     "data": {
      "text/plain": "15"
     },
     "execution_count": 300,
     "metadata": {},
     "output_type": "execute_result"
    }
   ],
   "source": [
    "87 - 24 -24 -24"
   ],
   "metadata": {
    "collapsed": false
   }
  },
  {
   "cell_type": "code",
   "execution_count": 301,
   "outputs": [
    {
     "name": "stdout",
     "output_type": "stream",
     "text": [
      "     Mass_(kg)  Velocity_(m/s)  Energy_(kJ)  Time_delta_(h)\n",
      "1  1622.060904       10.266978    85.491395         12.1307\n",
      "2   427.804999        9.116658    17.778174         21.6177\n"
     ]
    },
    {
     "name": "stderr",
     "output_type": "stream",
     "text": [
      "C:\\Users\\logan\\AppData\\Local\\Temp\\ipykernel_14264\\3055680985.py:7: FutureWarning: The frame.append method is deprecated and will be removed from pandas in a future version. Use pandas.concat instead.\n",
      "  x = x.append(df1_sim.iloc[1,:])\n",
      "C:\\Users\\logan\\AppData\\Local\\Temp\\ipykernel_14264\\3055680985.py:8: FutureWarning: The frame.append method is deprecated and will be removed from pandas in a future version. Use pandas.concat instead.\n",
      "  x = x.append(df1_sim.iloc[2,:])\n"
     ]
    }
   ],
   "source": [
    "x = pd.DataFrame()\n",
    "x.insert(0, \"Mass_(kg)\",\"\")\n",
    "x.insert(1, \"Velocity_(m/s)\",\"\")\n",
    "x.insert(2, \"Energy_(kJ)\",\"\")\n",
    "x.insert(3, \"Time_delta_(h)\",\"\")\n",
    "\n",
    "x = x.append(df1_sim.iloc[1,:])\n",
    "x = x.append(df1_sim.iloc[2,:])\n",
    "print(x)"
   ],
   "metadata": {
    "collapsed": false
   }
  },
  {
   "cell_type": "code",
   "execution_count": 302,
   "outputs": [],
   "source": [
    "def netztest(status_netz,gewicht_im_netz,aufprallenergie):\n",
    "\n",
    "    if status_netz == True:\n",
    "        return True\n",
    "\n",
    "    elif gewicht_im_netz > 2000:\n",
    "        if aufprallenergie > 500:\n",
    "            return True\n",
    "        else:\n",
    "            return False\n",
    "\n",
    "    elif gewicht_im_netz <= 2000:\n",
    "        if aufprallenergie > 1000:\n",
    "            return True\n",
    "        else:\n",
    "            return False\n",
    "    else:\n",
    "        return False"
   ],
   "metadata": {
    "collapsed": false
   }
  },
  {
   "cell_type": "code",
   "execution_count": 303,
   "outputs": [
    {
     "name": "stdout",
     "output_type": "stream",
     "text": [
      "Anzahl simulierte Steine:  2000000\n",
      "Anzahl incident Steine:  6\n",
      "0.00030000000000000003\n"
     ]
    }
   ],
   "source": [
    "max_delta = 24\n",
    "current_delta = 0\n",
    "stunden_total = 0\n",
    "masse_im_netz = 0\n",
    "status_netz = False\n",
    "incident_steine = 0\n",
    "steine_im_netz = 0\n",
    "\n",
    "for i in range(int(len(df1_sim))):\n",
    "    iterated_delta = df1_sim[\"Time_delta_(h)\"][i]\n",
    "    iterated_energy = df1_sim[\"Energy_(kJ)\"][i]\n",
    "\n",
    "    stunden_total += iterated_delta\n",
    "\n",
    "\n",
    "    if iterated_delta > max_delta:\n",
    "        if status_netz:\n",
    "            incident_steine += steine_im_netz\n",
    "        steine_im_netz = 1\n",
    "        status_netz = netztest(False,0,iterated_energy)\n",
    "        masse_im_netz = df1_sim[\"Mass_(kg)\"][i]\n",
    "\n",
    "        iterated_delta = iterated_delta % max_delta\n",
    "\n",
    "\n",
    "        if iterated_delta > (max_delta - current_delta):\n",
    "\n",
    "            current_delta = abs((max_delta - current_delta)-iterated_delta)\n",
    "\n",
    "\n",
    "        elif iterated_delta <= (max_delta - current_delta):\n",
    "\n",
    "            current_delta = current_delta + iterated_delta\n",
    "\n",
    "    elif iterated_delta <= max_delta:\n",
    "\n",
    "        if iterated_delta > (max_delta - current_delta):\n",
    "            if status_netz:\n",
    "                incident_steine += steine_im_netz\n",
    "            steine_im_netz = 1\n",
    "            status_netz = netztest(False,0,iterated_energy)\n",
    "            masse_im_netz = df1_sim[\"Mass_(kg)\"][i]\n",
    "            current_delta = abs((max_delta - current_delta)-iterated_delta)\n",
    "\n",
    "        elif iterated_delta <= (max_delta - current_delta):\n",
    "            steine_im_netz += 1\n",
    "            status_netz = netztest(status_netz,masse_im_netz,iterated_energy)\n",
    "            masse_im_netz += df1_sim[\"Mass_(kg)\"][i]\n",
    "            current_delta = current_delta + iterated_delta\n",
    "\n",
    "\n",
    "\n",
    "print(\"Anzahl simulierte Steine: \",sim_count)\n",
    "print(\"Anzahl incident Steine: \",incident_steine)\n",
    "print(incident_steine/sim_count*100)"
   ],
   "metadata": {
    "collapsed": false
   }
  },
  {
   "cell_type": "code",
   "execution_count": 304,
   "outputs": [
    {
     "name": "stdout",
     "output_type": "stream",
     "text": [
      "0.08643492933182738 %\n",
      "0.0008643492933182738\n"
     ]
    }
   ],
   "source": [
    "anzahl_sim_jahre = stunden_total / 8760\n",
    "steine_pro_jahr = (sim_count / anzahl_sim_jahre)\n",
    "incident_prob_pro_stein = incident_steine/sim_count*100\n",
    "incident_prob_pro_jahr = incident_prob_pro_stein * steine_pro_jahr\n",
    "print(incident_prob_pro_jahr, \"%\")\n",
    "print(incident_prob_pro_jahr /100)"
   ],
   "metadata": {
    "collapsed": false
   }
  }
 ],
 "metadata": {
  "kernelspec": {
   "display_name": "Python 3",
   "language": "python",
   "name": "python3"
  },
  "language_info": {
   "codemirror_mode": {
    "name": "ipython",
    "version": 2
   },
   "file_extension": ".py",
   "mimetype": "text/x-python",
   "name": "python",
   "nbconvert_exporter": "python",
   "pygments_lexer": "ipython2",
   "version": "2.7.6"
  }
 },
 "nbformat": 4,
 "nbformat_minor": 0
}
