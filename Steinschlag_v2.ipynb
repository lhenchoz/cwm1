{
 "cells": [
  {
   "cell_type": "markdown",
   "source": [
    "Module importieren"
   ],
   "metadata": {
    "collapsed": false
   }
  },
  {
   "cell_type": "code",
   "execution_count": 1,
   "outputs": [],
   "source": [
    "import matplotlib.pyplot as plt\n",
    "import pandas as pd\n",
    "#import pd as pd\n",
    "import seaborn as sns\n",
    "from datetime import datetime\n",
    "from fitter import Fitter\n",
    "import numpy as np\n",
    "from scipy import stats\n",
    "import statsmodels.api as sm\n",
    "from tabulate import tabulate"
   ],
   "metadata": {
    "collapsed": false
   }
  },
  {
   "cell_type": "markdown",
   "source": [
    "Daten laden und säubern"
   ],
   "metadata": {
    "collapsed": false
   }
  },
  {
   "cell_type": "code",
   "execution_count": 2,
   "metadata": {
    "collapsed": true
   },
   "outputs": [],
   "source": [
    "def open_csv_to_df(directory):\n",
    "    df = pd.read_csv(directory)\n",
    "    df = df.iloc[0:,:4]\n",
    "    df.columns = [\"Date\", \"Time\", \"Mass_(kg)\", \"Velocity_(m/s)\"]\n",
    "    df.insert(4, \"Energy_(kJ)\", \"\")\n",
    "    df.insert(5, \"Date_and_Time\", \"\")\n",
    "    df.insert(6, \"Time_delta_(h)\", \"\")\n",
    "    for i in range(len(df)):\n",
    "        df.iloc[i,4] = 0.5 * float(df.iloc[i,2]) * float(df.iloc[i,3]) ** 2 / 1000 #calculation of Energy_(kJ)\n",
    "    df = df.sort_values(['Date', 'Time']).reset_index(drop=True)\n",
    "    df = df.dropna()\n",
    "\n",
    "    for i in range(len(df)):\n",
    "        date_raw = df.iloc[i,:].Date +\" \" +df.iloc[i,:].Time\n",
    "        date1 = datetime.strptime(date_raw, '%Y-%m-%d %H:%M')\n",
    "        df.iloc[i,5] = date1\n",
    "\n",
    "    for i in range(len(df)-1):\n",
    "        date1 = df.iloc[i,5]\n",
    "        date2 = df.iloc[i+1,5]\n",
    "        time_delta = date2 - date1\n",
    "        time_delta = (time_delta.days*24) + (time_delta.seconds//3600)\n",
    "        df.iloc[i+1,6] = time_delta\n",
    "\n",
    "    #Fitter kann keine NAs handhaben aus diesem Grund wird erste Beobachtung mit dem Median der Zeitabstände ersetzt.\n",
    "    df.iloc[0,6] = 0\n",
    "    df['Time_delta_(h)'] = df['Time_delta_(h)'].astype('int')\n",
    "    df.iloc[0,6] = df[\"Time_delta_(h)\"].median()\n",
    "\n",
    "    return df #this is the table with all stones combined"
   ]
  },
  {
   "cell_type": "code",
   "execution_count": 3,
   "outputs": [],
   "source": [
    "df1 = open_csv_to_df(\"./out_1.csv\")\n",
    "df2 = open_csv_to_df(\"./out_2.csv\")"
   ],
   "metadata": {
    "collapsed": false
   }
  },
  {
   "cell_type": "markdown",
   "source": [
    "Funktion für Fitting von Verteilungen"
   ],
   "metadata": {
    "collapsed": false
   }
  },
  {
   "cell_type": "code",
   "execution_count": 4,
   "outputs": [],
   "source": [
    "def fit_distribution(data):\n",
    "    count = 0\n",
    "    fitted_mass = Fitter(data)\n",
    "    fitted_mass.fit()\n",
    "    ks_summary = fitted_mass.summary()\n",
    "    distributions = ks_summary.index.values\n",
    "    print(ks_summary.iloc[:,-2:])\n",
    "    fig, ax = plt.subplots(1,5,figsize=(25, 5))\n",
    "    table = [['Distribution', 'Parameters']]\n",
    "\n",
    "    for i in distributions:\n",
    "        param = fitted_mass.fitted_param[i]\n",
    "        table.append([i, param])\n",
    "        dist_eval = eval('stats.' + i + '.rvs(*param, size = 1000)')\n",
    "        sm.qqplot_2samples(data, dist_eval, xlabel = i.capitalize() + ' Distribution', ylabel = 'Sample Distribution', line = '45' ,ax = ax[count])\n",
    "        count += 1\n",
    "    plt.show()\n",
    "    print(tabulate(table, headers = 'firstrow'))"
   ],
   "metadata": {
    "collapsed": false
   }
  },
  {
   "cell_type": "markdown",
   "source": [
    "Zone 1"
   ],
   "metadata": {
    "collapsed": false
   }
  },
  {
   "cell_type": "code",
   "execution_count": 5,
   "outputs": [],
   "source": [
    "#fit_distribution(df1['Mass_(kg)'])"
   ],
   "metadata": {
    "collapsed": false
   }
  },
  {
   "cell_type": "code",
   "execution_count": 6,
   "outputs": [],
   "source": [
    "#fit_distribution(df1[\"Velocity_(m/s)\"])"
   ],
   "metadata": {
    "collapsed": false
   }
  },
  {
   "cell_type": "code",
   "execution_count": 7,
   "outputs": [],
   "source": [
    "#fit_distribution(df1[\"Time_delta_(h)\"])"
   ],
   "metadata": {
    "collapsed": false
   }
  },
  {
   "cell_type": "markdown",
   "source": [
    "Zone 2"
   ],
   "metadata": {
    "collapsed": false
   }
  },
  {
   "cell_type": "code",
   "execution_count": 8,
   "outputs": [],
   "source": [
    "#fit_distribution(df2['Mass_(kg)'])"
   ],
   "metadata": {
    "collapsed": false
   }
  },
  {
   "cell_type": "code",
   "execution_count": 9,
   "outputs": [],
   "source": [
    "#fit_distribution(df2[\"Velocity_(m/s)\"])"
   ],
   "metadata": {
    "collapsed": false
   }
  },
  {
   "cell_type": "code",
   "execution_count": 10,
   "outputs": [],
   "source": [
    "#fit_distribution(df2[\"Time_delta_(h)\"])"
   ],
   "metadata": {
    "collapsed": false
   }
  },
  {
   "cell_type": "markdown",
   "source": [
    "Monte Carlo"
   ],
   "metadata": {
    "collapsed": false
   }
  },
  {
   "cell_type": "code",
   "execution_count": 11,
   "outputs": [],
   "source": [
    "sim_count = 3_000_000\n"
   ],
   "metadata": {
    "collapsed": false
   }
  },
  {
   "cell_type": "markdown",
   "source": [
    "Zone 1"
   ],
   "metadata": {
    "collapsed": false
   }
  },
  {
   "cell_type": "code",
   "execution_count": 12,
   "outputs": [],
   "source": [
    "# Masse\n",
    "param = stats.gamma.fit(df1['Mass_(kg)'])\n",
    "zone1_mass = stats.gamma.rvs(*param, size = sim_count)\n",
    "\n",
    "# Geschwindigkeit\n",
    "param = stats.norm.fit(df1[\"Velocity_(m/s)\"])\n",
    "zone1_velocity = stats.norm.rvs(*param, size = sim_count)\n",
    "\n",
    "# Zeitabstand\n",
    "param = stats.expon.fit(df1[\"Time_delta_(h)\"])\n",
    "zone1_time_delta = stats.expon.rvs(*param, size = sim_count)"
   ],
   "metadata": {
    "collapsed": false
   }
  },
  {
   "cell_type": "markdown",
   "source": [
    "Zone 2"
   ],
   "metadata": {
    "collapsed": false
   }
  },
  {
   "cell_type": "code",
   "execution_count": 13,
   "outputs": [],
   "source": [
    "# Masse\n",
    "param = stats.gamma.fit(df2['Mass_(kg)'])\n",
    "zone2_mass = stats.gamma.rvs(*param, size = sim_count)\n",
    "\n",
    "# Geschwindigkeit\n",
    "param = stats.norm.fit(df2[\"Velocity_(m/s)\"])\n",
    "zone2_velocity = stats.norm.rvs(*param, size = sim_count)\n",
    "\n",
    "# Zeitabstand\n",
    "param = stats.expon.fit(df2[\"Time_delta_(h)\"])\n",
    "zone2_time_delta = stats.expon.rvs(*param, size = sim_count)"
   ],
   "metadata": {
    "collapsed": false
   }
  },
  {
   "cell_type": "code",
   "execution_count": 14,
   "outputs": [
    {
     "name": "stderr",
     "output_type": "stream",
     "text": [
      "C:\\Users\\logan\\AppData\\Local\\Temp\\ipykernel_16508\\3105050015.py:9: SettingWithCopyWarning: \n",
      "A value is trying to be set on a copy of a slice from a DataFrame\n",
      "\n",
      "See the caveats in the documentation: https://pandas.pydata.org/pandas-docs/stable/user_guide/indexing.html#returning-a-view-versus-a-copy\n",
      "  df1_sim[\"Time_delta_(h)\"][0] = 0\n"
     ]
    },
    {
     "data": {
      "text/plain": "           Mass_(kg)  Velocity_(m/s)  Energy_(kJ)  Time_delta_(h)\n0        1865.569662       10.780719   108.411901          0.0000\n1         488.669032        9.984007    24.355363         42.8974\n2         559.954952       11.187662    35.043041          4.0537\n3         947.847815        7.981338    30.189785        126.3390\n4         622.346400       11.186514    38.939620          6.7256\n...              ...             ...          ...             ...\n2999995   567.104539        8.264953    19.369298         49.2674\n2999996   142.077294        5.894859     2.468548        182.1120\n2999997   621.289294       10.151269    32.011388         32.4555\n2999998    83.142022        6.499546     1.756130         15.3397\n2999999    25.919535        7.929955     0.814965          5.4819\n\n[3000000 rows x 4 columns]",
      "text/html": "<div>\n<style scoped>\n    .dataframe tbody tr th:only-of-type {\n        vertical-align: middle;\n    }\n\n    .dataframe tbody tr th {\n        vertical-align: top;\n    }\n\n    .dataframe thead th {\n        text-align: right;\n    }\n</style>\n<table border=\"1\" class=\"dataframe\">\n  <thead>\n    <tr style=\"text-align: right;\">\n      <th></th>\n      <th>Mass_(kg)</th>\n      <th>Velocity_(m/s)</th>\n      <th>Energy_(kJ)</th>\n      <th>Time_delta_(h)</th>\n    </tr>\n  </thead>\n  <tbody>\n    <tr>\n      <th>0</th>\n      <td>1865.569662</td>\n      <td>10.780719</td>\n      <td>108.411901</td>\n      <td>0.0000</td>\n    </tr>\n    <tr>\n      <th>1</th>\n      <td>488.669032</td>\n      <td>9.984007</td>\n      <td>24.355363</td>\n      <td>42.8974</td>\n    </tr>\n    <tr>\n      <th>2</th>\n      <td>559.954952</td>\n      <td>11.187662</td>\n      <td>35.043041</td>\n      <td>4.0537</td>\n    </tr>\n    <tr>\n      <th>3</th>\n      <td>947.847815</td>\n      <td>7.981338</td>\n      <td>30.189785</td>\n      <td>126.3390</td>\n    </tr>\n    <tr>\n      <th>4</th>\n      <td>622.346400</td>\n      <td>11.186514</td>\n      <td>38.939620</td>\n      <td>6.7256</td>\n    </tr>\n    <tr>\n      <th>...</th>\n      <td>...</td>\n      <td>...</td>\n      <td>...</td>\n      <td>...</td>\n    </tr>\n    <tr>\n      <th>2999995</th>\n      <td>567.104539</td>\n      <td>8.264953</td>\n      <td>19.369298</td>\n      <td>49.2674</td>\n    </tr>\n    <tr>\n      <th>2999996</th>\n      <td>142.077294</td>\n      <td>5.894859</td>\n      <td>2.468548</td>\n      <td>182.1120</td>\n    </tr>\n    <tr>\n      <th>2999997</th>\n      <td>621.289294</td>\n      <td>10.151269</td>\n      <td>32.011388</td>\n      <td>32.4555</td>\n    </tr>\n    <tr>\n      <th>2999998</th>\n      <td>83.142022</td>\n      <td>6.499546</td>\n      <td>1.756130</td>\n      <td>15.3397</td>\n    </tr>\n    <tr>\n      <th>2999999</th>\n      <td>25.919535</td>\n      <td>7.929955</td>\n      <td>0.814965</td>\n      <td>5.4819</td>\n    </tr>\n  </tbody>\n</table>\n<p>3000000 rows × 4 columns</p>\n</div>"
     },
     "execution_count": 14,
     "metadata": {},
     "output_type": "execute_result"
    }
   ],
   "source": [
    "df1_sim = pd.DataFrame()\n",
    "df1_sim.insert(0, \"Mass_(kg)\", zone1_mass)\n",
    "df1_sim.insert(1, \"Velocity_(m/s)\", zone1_velocity)\n",
    "df1_sim.insert(2, \"Energy_(kJ)\", \"\")\n",
    "df1_sim.insert(3, \"Time_delta_(h)\", zone1_time_delta)\n",
    "\n",
    "\n",
    "df1_sim[\"Time_delta_(h)\"] = zone1_time_delta.round(4)\n",
    "df1_sim[\"Time_delta_(h)\"][0] = 0\n",
    "\n",
    "df1_sim = df1_sim.dropna()\n",
    "df1_sim[\"Energy_(kJ)\"] = (0.5 * df1_sim[\"Mass_(kg)\"] * (df1_sim[\"Velocity_(m/s)\"] ** 2)) / 1000\n",
    "df1_sim"
   ],
   "metadata": {
    "collapsed": false
   }
  },
  {
   "cell_type": "code",
   "execution_count": 15,
   "outputs": [
    {
     "name": "stderr",
     "output_type": "stream",
     "text": [
      "C:\\Users\\logan\\AppData\\Local\\Temp\\ipykernel_16508\\2961706192.py:9: SettingWithCopyWarning: \n",
      "A value is trying to be set on a copy of a slice from a DataFrame\n",
      "\n",
      "See the caveats in the documentation: https://pandas.pydata.org/pandas-docs/stable/user_guide/indexing.html#returning-a-view-versus-a-copy\n",
      "  df2_sim[\"Time_delta_(h)\"][0] = 0\n"
     ]
    },
    {
     "data": {
      "text/plain": "          Mass_(kg)  Velocity_(m/s)  Energy_(kJ)  Time_delta_(h)\n0        104.845664       42.212107    93.410253          0.0000\n1         58.448791       41.056823    49.262473         13.0124\n2         71.965716       29.676396    31.689689         90.7431\n3         64.280605       37.419224    45.002799          8.7980\n4          4.396340       51.008340     5.719310         41.3349\n...             ...             ...          ...             ...\n2999995   16.121771       40.536815    13.245916         62.0449\n2999996    6.245906       35.238045     3.877833         99.0385\n2999997   12.517941       35.836983     8.038329         40.4893\n2999998  231.317507       31.069513   111.647088         23.7023\n2999999    4.387330       37.561063     3.094896        106.0397\n\n[3000000 rows x 4 columns]",
      "text/html": "<div>\n<style scoped>\n    .dataframe tbody tr th:only-of-type {\n        vertical-align: middle;\n    }\n\n    .dataframe tbody tr th {\n        vertical-align: top;\n    }\n\n    .dataframe thead th {\n        text-align: right;\n    }\n</style>\n<table border=\"1\" class=\"dataframe\">\n  <thead>\n    <tr style=\"text-align: right;\">\n      <th></th>\n      <th>Mass_(kg)</th>\n      <th>Velocity_(m/s)</th>\n      <th>Energy_(kJ)</th>\n      <th>Time_delta_(h)</th>\n    </tr>\n  </thead>\n  <tbody>\n    <tr>\n      <th>0</th>\n      <td>104.845664</td>\n      <td>42.212107</td>\n      <td>93.410253</td>\n      <td>0.0000</td>\n    </tr>\n    <tr>\n      <th>1</th>\n      <td>58.448791</td>\n      <td>41.056823</td>\n      <td>49.262473</td>\n      <td>13.0124</td>\n    </tr>\n    <tr>\n      <th>2</th>\n      <td>71.965716</td>\n      <td>29.676396</td>\n      <td>31.689689</td>\n      <td>90.7431</td>\n    </tr>\n    <tr>\n      <th>3</th>\n      <td>64.280605</td>\n      <td>37.419224</td>\n      <td>45.002799</td>\n      <td>8.7980</td>\n    </tr>\n    <tr>\n      <th>4</th>\n      <td>4.396340</td>\n      <td>51.008340</td>\n      <td>5.719310</td>\n      <td>41.3349</td>\n    </tr>\n    <tr>\n      <th>...</th>\n      <td>...</td>\n      <td>...</td>\n      <td>...</td>\n      <td>...</td>\n    </tr>\n    <tr>\n      <th>2999995</th>\n      <td>16.121771</td>\n      <td>40.536815</td>\n      <td>13.245916</td>\n      <td>62.0449</td>\n    </tr>\n    <tr>\n      <th>2999996</th>\n      <td>6.245906</td>\n      <td>35.238045</td>\n      <td>3.877833</td>\n      <td>99.0385</td>\n    </tr>\n    <tr>\n      <th>2999997</th>\n      <td>12.517941</td>\n      <td>35.836983</td>\n      <td>8.038329</td>\n      <td>40.4893</td>\n    </tr>\n    <tr>\n      <th>2999998</th>\n      <td>231.317507</td>\n      <td>31.069513</td>\n      <td>111.647088</td>\n      <td>23.7023</td>\n    </tr>\n    <tr>\n      <th>2999999</th>\n      <td>4.387330</td>\n      <td>37.561063</td>\n      <td>3.094896</td>\n      <td>106.0397</td>\n    </tr>\n  </tbody>\n</table>\n<p>3000000 rows × 4 columns</p>\n</div>"
     },
     "execution_count": 15,
     "metadata": {},
     "output_type": "execute_result"
    }
   ],
   "source": [
    "df2_sim = pd.DataFrame()\n",
    "df2_sim.insert(0, \"Mass_(kg)\", zone2_mass)\n",
    "df2_sim.insert(1, \"Velocity_(m/s)\", zone2_velocity)\n",
    "df2_sim.insert(2, \"Energy_(kJ)\", \"\")\n",
    "df2_sim.insert(3, \"Time_delta_(h)\", zone2_time_delta)\n",
    "\n",
    "\n",
    "df2_sim[\"Time_delta_(h)\"] = zone2_time_delta.round(4)\n",
    "df2_sim[\"Time_delta_(h)\"][0] = 0\n",
    "\n",
    "df2_sim = df2_sim.dropna()\n",
    "df2_sim[\"Energy_(kJ)\"] = (0.5 * df2_sim[\"Mass_(kg)\"] * (df2_sim[\"Velocity_(m/s)\"] ** 2)) / 1000\n",
    "df2_sim"
   ],
   "metadata": {
    "collapsed": false
   }
  },
  {
   "cell_type": "code",
   "execution_count": 16,
   "outputs": [],
   "source": [
    "df_sim = pd.concat([df1_sim,df2_sim])\n",
    "df_sim = df_sim.sample(frac=1,ignore_index=True)"
   ],
   "metadata": {
    "collapsed": false
   }
  },
  {
   "cell_type": "code",
   "execution_count": 17,
   "outputs": [],
   "source": [
    "def netztest(status_netz,gewicht_im_netz,aufprallenergie):\n",
    "\n",
    "    if status_netz == True:\n",
    "        return True\n",
    "\n",
    "    elif gewicht_im_netz > 2000:\n",
    "        if aufprallenergie > 500:\n",
    "            return True\n",
    "        else:\n",
    "            return False\n",
    "\n",
    "    elif gewicht_im_netz <= 2000:\n",
    "        if aufprallenergie > 1000:\n",
    "            return True\n",
    "        else:\n",
    "            return False\n",
    "    else:\n",
    "        return False"
   ],
   "metadata": {
    "collapsed": false
   }
  },
  {
   "cell_type": "code",
   "execution_count": 18,
   "outputs": [
    {
     "data": {
      "text/plain": "           Mass_(kg)  Velocity_(m/s)  Energy_(kJ)  Time_delta_(h)\n0           3.992336       36.964388     2.727496         14.7928\n1          82.068180        9.151233     3.436403          3.8886\n2         139.034487       41.110814   117.491023         76.7989\n3         464.207896       10.908690    27.620257         27.4309\n4         875.417822       11.489703    57.783384         20.8659\n...              ...             ...          ...             ...\n5999995   121.234526        6.547680     2.598790         64.7772\n5999996   673.657348       12.013370    48.611471          0.6089\n5999997  2075.254265        9.133083    86.551802         11.4246\n5999998   489.130582        5.898376     8.508631          9.6105\n5999999   993.636850        7.685975    29.349158         58.1060\n\n[6000000 rows x 4 columns]",
      "text/html": "<div>\n<style scoped>\n    .dataframe tbody tr th:only-of-type {\n        vertical-align: middle;\n    }\n\n    .dataframe tbody tr th {\n        vertical-align: top;\n    }\n\n    .dataframe thead th {\n        text-align: right;\n    }\n</style>\n<table border=\"1\" class=\"dataframe\">\n  <thead>\n    <tr style=\"text-align: right;\">\n      <th></th>\n      <th>Mass_(kg)</th>\n      <th>Velocity_(m/s)</th>\n      <th>Energy_(kJ)</th>\n      <th>Time_delta_(h)</th>\n    </tr>\n  </thead>\n  <tbody>\n    <tr>\n      <th>0</th>\n      <td>3.992336</td>\n      <td>36.964388</td>\n      <td>2.727496</td>\n      <td>14.7928</td>\n    </tr>\n    <tr>\n      <th>1</th>\n      <td>82.068180</td>\n      <td>9.151233</td>\n      <td>3.436403</td>\n      <td>3.8886</td>\n    </tr>\n    <tr>\n      <th>2</th>\n      <td>139.034487</td>\n      <td>41.110814</td>\n      <td>117.491023</td>\n      <td>76.7989</td>\n    </tr>\n    <tr>\n      <th>3</th>\n      <td>464.207896</td>\n      <td>10.908690</td>\n      <td>27.620257</td>\n      <td>27.4309</td>\n    </tr>\n    <tr>\n      <th>4</th>\n      <td>875.417822</td>\n      <td>11.489703</td>\n      <td>57.783384</td>\n      <td>20.8659</td>\n    </tr>\n    <tr>\n      <th>...</th>\n      <td>...</td>\n      <td>...</td>\n      <td>...</td>\n      <td>...</td>\n    </tr>\n    <tr>\n      <th>5999995</th>\n      <td>121.234526</td>\n      <td>6.547680</td>\n      <td>2.598790</td>\n      <td>64.7772</td>\n    </tr>\n    <tr>\n      <th>5999996</th>\n      <td>673.657348</td>\n      <td>12.013370</td>\n      <td>48.611471</td>\n      <td>0.6089</td>\n    </tr>\n    <tr>\n      <th>5999997</th>\n      <td>2075.254265</td>\n      <td>9.133083</td>\n      <td>86.551802</td>\n      <td>11.4246</td>\n    </tr>\n    <tr>\n      <th>5999998</th>\n      <td>489.130582</td>\n      <td>5.898376</td>\n      <td>8.508631</td>\n      <td>9.6105</td>\n    </tr>\n    <tr>\n      <th>5999999</th>\n      <td>993.636850</td>\n      <td>7.685975</td>\n      <td>29.349158</td>\n      <td>58.1060</td>\n    </tr>\n  </tbody>\n</table>\n<p>6000000 rows × 4 columns</p>\n</div>"
     },
     "execution_count": 18,
     "metadata": {},
     "output_type": "execute_result"
    }
   ],
   "source": [
    "df_sim"
   ],
   "metadata": {
    "collapsed": false
   }
  },
  {
   "cell_type": "code",
   "execution_count": 19,
   "outputs": [
    {
     "name": "stdout",
     "output_type": "stream",
     "text": [
      "Anzahl simulierte Steine:  6000000\n",
      "Anzahl incident Steine:  373\n",
      "0.006216666666666667\n"
     ]
    }
   ],
   "source": [
    "max_delta = 24\n",
    "current_delta = 0\n",
    "stunden_total = 0\n",
    "masse_im_netz = 0\n",
    "status_netz = False\n",
    "incident_steine = 0\n",
    "steine_im_netz = 0\n",
    "length = len(df_sim)\n",
    "\n",
    "for i in range(int(length)):\n",
    "    iterated_delta = df_sim[\"Time_delta_(h)\"][i]\n",
    "    iterated_energy = df_sim[\"Energy_(kJ)\"][i]\n",
    "\n",
    "    stunden_total += iterated_delta\n",
    "\n",
    "    if (iterated_delta > max_delta):\n",
    "        if status_netz:\n",
    "            incident_steine += steine_im_netz\n",
    "        steine_im_netz = 1\n",
    "        status_netz = netztest(False,0,iterated_energy)\n",
    "        masse_im_netz = df_sim[\"Mass_(kg)\"][i]\n",
    "\n",
    "        iterated_delta = iterated_delta % max_delta\n",
    "\n",
    "\n",
    "        if iterated_delta > (max_delta - current_delta):\n",
    "\n",
    "            current_delta = abs((max_delta - current_delta)-iterated_delta)\n",
    "\n",
    "\n",
    "        elif iterated_delta <= (max_delta - current_delta):\n",
    "\n",
    "            current_delta = current_delta + iterated_delta\n",
    "\n",
    "    elif iterated_delta <= max_delta:\n",
    "\n",
    "        if iterated_delta > (max_delta - current_delta):\n",
    "            if status_netz:\n",
    "                incident_steine += steine_im_netz\n",
    "            steine_im_netz = 1\n",
    "            status_netz = netztest(False,0,iterated_energy)\n",
    "            masse_im_netz = df_sim[\"Mass_(kg)\"][i]\n",
    "            current_delta = abs((max_delta - current_delta)-iterated_delta)\n",
    "\n",
    "        elif iterated_delta <= (max_delta - current_delta):\n",
    "            steine_im_netz += 1\n",
    "            status_netz = netztest(status_netz,masse_im_netz,iterated_energy)\n",
    "            masse_im_netz += df_sim[\"Mass_(kg)\"][i]\n",
    "            current_delta = current_delta + iterated_delta\n",
    "\n",
    "\n",
    "\n",
    "print(\"Anzahl simulierte Steine: \",length)\n",
    "print(\"Anzahl incident Steine: \",incident_steine)\n",
    "print(incident_steine/length*100)"
   ],
   "metadata": {
    "collapsed": false
   }
  },
  {
   "cell_type": "code",
   "execution_count": 20,
   "outputs": [
    {
     "name": "stdout",
     "output_type": "stream",
     "text": [
      "0.011317910187633637\n"
     ]
    }
   ],
   "source": [
    "anzahl_sim_jahre = stunden_total / 8760\n",
    "steine_pro_jahr = (length / anzahl_sim_jahre)\n",
    "incident_prob_pro_stein = incident_steine/length\n",
    "incident_prob_pro_jahr = incident_prob_pro_stein * steine_pro_jahr\n",
    "print(incident_prob_pro_jahr)\n",
    "\n"
   ],
   "metadata": {
    "collapsed": false
   }
  },
  {
   "cell_type": "code",
   "execution_count": 31,
   "outputs": [],
   "source": [
    "def danger_zone(v_km_h,laenge_auto,autos_pro_tag):\n",
    "    seconds_per_year = 86400 * 365\n",
    "    v_m_s = (v_km_h / 3.6)\n",
    "    danger_time_pro_auto = (laenge_auto / v_m_s)\n",
    "    autos_pro_jahr = autos_pro_tag * 365\n",
    "    print(danger_time_pro_auto)\n",
    "    danger_time_total = danger_time_pro_auto * autos_pro_jahr\n",
    "    print(danger_time_total)\n",
    "    danger_percentage = (danger_time_total / seconds_per_year)\n",
    "    print(danger_percentage)\n",
    "\n",
    "    return danger_percentage"
   ],
   "metadata": {
    "collapsed": false
   }
  },
  {
   "cell_type": "code",
   "execution_count": 32,
   "outputs": [
    {
     "name": "stdout",
     "output_type": "stream",
     "text": [
      "0.3\n",
      "131400.0\n",
      "0.004166666666666667\n"
     ]
    }
   ],
   "source": [
    "danger_strecke = danger_zone(60,5,1200)"
   ],
   "metadata": {
    "collapsed": false
   }
  },
  {
   "cell_type": "code",
   "execution_count": 33,
   "outputs": [
    {
     "name": "stdout",
     "output_type": "stream",
     "text": [
      "0.011317910187633637\n",
      "0.004166666666666667\n",
      "0.000047\n"
     ]
    }
   ],
   "source": [
    "print(incident_prob_pro_jahr)\n",
    "print(danger_strecke)\n",
    "print('{:f}'.format(incident_prob_pro_jahr * danger_strecke ))"
   ],
   "metadata": {
    "collapsed": false
   }
  },
  {
   "cell_type": "code",
   "execution_count": null,
   "outputs": [],
   "source": [],
   "metadata": {
    "collapsed": false
   }
  }
 ],
 "metadata": {
  "kernelspec": {
   "display_name": "Python 3",
   "language": "python",
   "name": "python3"
  },
  "language_info": {
   "codemirror_mode": {
    "name": "ipython",
    "version": 2
   },
   "file_extension": ".py",
   "mimetype": "text/x-python",
   "name": "python",
   "nbconvert_exporter": "python",
   "pygments_lexer": "ipython2",
   "version": "2.7.6"
  }
 },
 "nbformat": 4,
 "nbformat_minor": 0
}
