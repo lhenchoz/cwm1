{
 "cells": [
  {
   "cell_type": "code",
   "execution_count": 1,
   "metadata": {
    "collapsed": true,
    "pycharm": {
     "name": "#%%\n"
    }
   },
   "outputs": [],
   "source": [
    "import pandas as pd"
   ]
  },
  {
   "cell_type": "code",
   "execution_count": 114,
   "outputs": [
    {
     "data": {
      "text/plain": "          Date   Time Mass (kg) Velocity (m/s)     Energy\n0   2019-01-01  09:00       194            8.4    6.84432\n1   2019-01-01  09:00        38           45.4   39.16204\n2   2019-01-01  21:00       224            8.8    8.67328\n3   2019-01-02  14:00      3104            9.2  131.36128\n4   2019-01-03  06:00       187           41.6  161.80736\n..         ...    ...       ...            ...        ...\n95  2019-03-25  14:00        63           43.2   58.78656\n96  2019-03-26  00:00        44            8.9    1.74262\n97  2019-03-26  06:00        45            8.4     1.5876\n98  2019-03-27  16:00       312            5.8    5.24784\n99  2019-03-28  01:00        58           37.2   40.13136\n\n[100 rows x 5 columns]",
      "text/html": "<div>\n<style scoped>\n    .dataframe tbody tr th:only-of-type {\n        vertical-align: middle;\n    }\n\n    .dataframe tbody tr th {\n        vertical-align: top;\n    }\n\n    .dataframe thead th {\n        text-align: right;\n    }\n</style>\n<table border=\"1\" class=\"dataframe\">\n  <thead>\n    <tr style=\"text-align: right;\">\n      <th></th>\n      <th>Date</th>\n      <th>Time</th>\n      <th>Mass (kg)</th>\n      <th>Velocity (m/s)</th>\n      <th>Energy</th>\n    </tr>\n  </thead>\n  <tbody>\n    <tr>\n      <th>0</th>\n      <td>2019-01-01</td>\n      <td>09:00</td>\n      <td>194</td>\n      <td>8.4</td>\n      <td>6.84432</td>\n    </tr>\n    <tr>\n      <th>1</th>\n      <td>2019-01-01</td>\n      <td>09:00</td>\n      <td>38</td>\n      <td>45.4</td>\n      <td>39.16204</td>\n    </tr>\n    <tr>\n      <th>2</th>\n      <td>2019-01-01</td>\n      <td>21:00</td>\n      <td>224</td>\n      <td>8.8</td>\n      <td>8.67328</td>\n    </tr>\n    <tr>\n      <th>3</th>\n      <td>2019-01-02</td>\n      <td>14:00</td>\n      <td>3104</td>\n      <td>9.2</td>\n      <td>131.36128</td>\n    </tr>\n    <tr>\n      <th>4</th>\n      <td>2019-01-03</td>\n      <td>06:00</td>\n      <td>187</td>\n      <td>41.6</td>\n      <td>161.80736</td>\n    </tr>\n    <tr>\n      <th>...</th>\n      <td>...</td>\n      <td>...</td>\n      <td>...</td>\n      <td>...</td>\n      <td>...</td>\n    </tr>\n    <tr>\n      <th>95</th>\n      <td>2019-03-25</td>\n      <td>14:00</td>\n      <td>63</td>\n      <td>43.2</td>\n      <td>58.78656</td>\n    </tr>\n    <tr>\n      <th>96</th>\n      <td>2019-03-26</td>\n      <td>00:00</td>\n      <td>44</td>\n      <td>8.9</td>\n      <td>1.74262</td>\n    </tr>\n    <tr>\n      <th>97</th>\n      <td>2019-03-26</td>\n      <td>06:00</td>\n      <td>45</td>\n      <td>8.4</td>\n      <td>1.5876</td>\n    </tr>\n    <tr>\n      <th>98</th>\n      <td>2019-03-27</td>\n      <td>16:00</td>\n      <td>312</td>\n      <td>5.8</td>\n      <td>5.24784</td>\n    </tr>\n    <tr>\n      <th>99</th>\n      <td>2019-03-28</td>\n      <td>01:00</td>\n      <td>58</td>\n      <td>37.2</td>\n      <td>40.13136</td>\n    </tr>\n  </tbody>\n</table>\n<p>100 rows × 5 columns</p>\n</div>"
     },
     "execution_count": 114,
     "metadata": {},
     "output_type": "execute_result"
    }
   ],
   "source": [
    "directory = \"C:/Users/nrech/OneDrive/Dokumente/GitHub/cwm1/out_1_2.csv\"\n",
    "df = pd.read_csv(directory, sep =\";\")\n",
    "df = df.iloc[1:,:4]\n",
    "df.columns = [\"Date\", \"Time\", \"Mass (kg)\", \"Velocity (m/s)\"]\n",
    "df_energy = pd.DataFrame()\n",
    "df.insert(4, \"Energy\", \"\")\n",
    "for i in range(len(df)):\n",
    "    df.iloc[i,4] = 0.5 * float(df.iloc[i,2]) * float(df.iloc[i,3]) ** 2 / 1000\n",
    "df = df.sort_values(['Date', 'Time']).reset_index(drop=True)\n",
    "df"
   ],
   "metadata": {
    "collapsed": false,
    "pycharm": {
     "name": "#%%\n"
    }
   }
  },
  {
   "cell_type": "code",
   "execution_count": 56,
   "outputs": [
    {
     "data": {
      "text/plain": "Date              object\nTime              object\nMass (kg)         object\nVelocity (m/s)    object\nEnergy            object\ndtype: object"
     },
     "execution_count": 56,
     "metadata": {},
     "output_type": "execute_result"
    }
   ],
   "source": [],
   "metadata": {
    "collapsed": false,
    "pycharm": {
     "name": "#%%\n"
    }
   }
  },
  {
   "cell_type": "code",
   "execution_count": null,
   "outputs": [],
   "source": [],
   "metadata": {
    "collapsed": false,
    "pycharm": {
     "name": "#%%\n"
    }
   }
  }
 ],
 "metadata": {
  "kernelspec": {
   "display_name": "Python 3",
   "language": "python",
   "name": "python3"
  },
  "language_info": {
   "codemirror_mode": {
    "name": "ipython",
    "version": 2
   },
   "file_extension": ".py",
   "mimetype": "text/x-python",
   "name": "python",
   "nbconvert_exporter": "python",
   "pygments_lexer": "ipython2",
   "version": "2.7.6"
  }
 },
 "nbformat": 4,
 "nbformat_minor": 0
}